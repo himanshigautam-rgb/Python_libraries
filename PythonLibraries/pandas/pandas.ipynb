{
 "cells": [
  {
   "cell_type": "code",
   "execution_count": 2,
   "id": "2db846ba-8368-40c6-aa95-50ac9cda6e27",
   "metadata": {
    "scrolled": true
   },
   "outputs": [
    {
     "name": "stdout",
     "output_type": "stream",
     "text": [
      "Requirement already satisfied: ydata-profiling in c:\\users\\dkvh2\\anaconda\\lib\\site-packages (4.12.1)Note: you may need to restart the kernel to use updated packages.\n",
      "\n",
      "Requirement already satisfied: scipy<1.14,>=1.4.1 in c:\\users\\dkvh2\\anaconda\\lib\\site-packages (from ydata-profiling) (1.13.1)\n",
      "Requirement already satisfied: pandas!=1.4.0,<3,>1.1 in c:\\users\\dkvh2\\anaconda\\lib\\site-packages (from ydata-profiling) (2.2.2)\n",
      "Requirement already satisfied: matplotlib<3.10,>=3.5 in c:\\users\\dkvh2\\anaconda\\lib\\site-packages (from ydata-profiling) (3.9.2)\n",
      "Requirement already satisfied: pydantic>=2 in c:\\users\\dkvh2\\anaconda\\lib\\site-packages (from ydata-profiling) (2.8.2)\n",
      "Requirement already satisfied: PyYAML<6.1,>=5.0.0 in c:\\users\\dkvh2\\anaconda\\lib\\site-packages (from ydata-profiling) (6.0.1)\n",
      "Requirement already satisfied: jinja2<3.2,>=2.11.1 in c:\\users\\dkvh2\\anaconda\\lib\\site-packages (from ydata-profiling) (3.1.4)\n",
      "Requirement already satisfied: visions<0.7.7,>=0.7.5 in c:\\users\\dkvh2\\anaconda\\lib\\site-packages (from visions[type_image_path]<0.7.7,>=0.7.5->ydata-profiling) (0.7.6)\n",
      "Requirement already satisfied: numpy<2.2,>=1.16.0 in c:\\users\\dkvh2\\anaconda\\lib\\site-packages (from ydata-profiling) (1.26.4)\n",
      "Requirement already satisfied: htmlmin==0.1.12 in c:\\users\\dkvh2\\anaconda\\lib\\site-packages (from ydata-profiling) (0.1.12)\n",
      "Requirement already satisfied: phik<0.13,>=0.11.1 in c:\\users\\dkvh2\\anaconda\\lib\\site-packages (from ydata-profiling) (0.12.4)\n",
      "Requirement already satisfied: requests<3,>=2.24.0 in c:\\users\\dkvh2\\anaconda\\lib\\site-packages (from ydata-profiling) (2.32.3)\n",
      "Requirement already satisfied: tqdm<5,>=4.48.2 in c:\\users\\dkvh2\\anaconda\\lib\\site-packages (from ydata-profiling) (4.66.5)\n",
      "Requirement already satisfied: seaborn<0.14,>=0.10.1 in c:\\users\\dkvh2\\anaconda\\lib\\site-packages (from ydata-profiling) (0.13.2)\n",
      "Requirement already satisfied: multimethod<2,>=1.4 in c:\\users\\dkvh2\\anaconda\\lib\\site-packages (from ydata-profiling) (1.12)\n",
      "Requirement already satisfied: statsmodels<1,>=0.13.2 in c:\\users\\dkvh2\\anaconda\\lib\\site-packages (from ydata-profiling) (0.14.2)\n",
      "Requirement already satisfied: typeguard<5,>=3 in c:\\users\\dkvh2\\anaconda\\lib\\site-packages (from ydata-profiling) (4.4.1)\n",
      "Requirement already satisfied: imagehash==4.3.1 in c:\\users\\dkvh2\\anaconda\\lib\\site-packages (from ydata-profiling) (4.3.1)\n",
      "Requirement already satisfied: wordcloud>=1.9.3 in c:\\users\\dkvh2\\anaconda\\lib\\site-packages (from ydata-profiling) (1.9.4)\n",
      "Requirement already satisfied: dacite>=1.8 in c:\\users\\dkvh2\\anaconda\\lib\\site-packages (from ydata-profiling) (1.8.1)\n",
      "Requirement already satisfied: numba<1,>=0.56.0 in c:\\users\\dkvh2\\anaconda\\lib\\site-packages (from ydata-profiling) (0.60.0)\n",
      "Requirement already satisfied: PyWavelets in c:\\users\\dkvh2\\anaconda\\lib\\site-packages (from imagehash==4.3.1->ydata-profiling) (1.7.0)\n",
      "Requirement already satisfied: pillow in c:\\users\\dkvh2\\anaconda\\lib\\site-packages (from imagehash==4.3.1->ydata-profiling) (10.4.0)\n",
      "Requirement already satisfied: MarkupSafe>=2.0 in c:\\users\\dkvh2\\anaconda\\lib\\site-packages (from jinja2<3.2,>=2.11.1->ydata-profiling) (2.1.3)\n",
      "Requirement already satisfied: contourpy>=1.0.1 in c:\\users\\dkvh2\\anaconda\\lib\\site-packages (from matplotlib<3.10,>=3.5->ydata-profiling) (1.2.0)\n",
      "Requirement already satisfied: cycler>=0.10 in c:\\users\\dkvh2\\anaconda\\lib\\site-packages (from matplotlib<3.10,>=3.5->ydata-profiling) (0.11.0)\n",
      "Requirement already satisfied: fonttools>=4.22.0 in c:\\users\\dkvh2\\anaconda\\lib\\site-packages (from matplotlib<3.10,>=3.5->ydata-profiling) (4.51.0)\n",
      "Requirement already satisfied: kiwisolver>=1.3.1 in c:\\users\\dkvh2\\anaconda\\lib\\site-packages (from matplotlib<3.10,>=3.5->ydata-profiling) (1.4.4)\n",
      "Requirement already satisfied: packaging>=20.0 in c:\\users\\dkvh2\\anaconda\\lib\\site-packages (from matplotlib<3.10,>=3.5->ydata-profiling) (24.1)\n",
      "Requirement already satisfied: pyparsing>=2.3.1 in c:\\users\\dkvh2\\anaconda\\lib\\site-packages (from matplotlib<3.10,>=3.5->ydata-profiling) (3.1.2)\n",
      "Requirement already satisfied: python-dateutil>=2.7 in c:\\users\\dkvh2\\anaconda\\lib\\site-packages (from matplotlib<3.10,>=3.5->ydata-profiling) (2.9.0.post0)\n",
      "Requirement already satisfied: llvmlite<0.44,>=0.43.0dev0 in c:\\users\\dkvh2\\anaconda\\lib\\site-packages (from numba<1,>=0.56.0->ydata-profiling) (0.43.0)\n",
      "Requirement already satisfied: pytz>=2020.1 in c:\\users\\dkvh2\\anaconda\\lib\\site-packages (from pandas!=1.4.0,<3,>1.1->ydata-profiling) (2024.1)\n",
      "Requirement already satisfied: tzdata>=2022.7 in c:\\users\\dkvh2\\anaconda\\lib\\site-packages (from pandas!=1.4.0,<3,>1.1->ydata-profiling) (2023.3)\n",
      "Requirement already satisfied: joblib>=0.14.1 in c:\\users\\dkvh2\\anaconda\\lib\\site-packages (from phik<0.13,>=0.11.1->ydata-profiling) (1.4.2)\n",
      "Requirement already satisfied: annotated-types>=0.4.0 in c:\\users\\dkvh2\\anaconda\\lib\\site-packages (from pydantic>=2->ydata-profiling) (0.6.0)\n",
      "Requirement already satisfied: pydantic-core==2.20.1 in c:\\users\\dkvh2\\anaconda\\lib\\site-packages (from pydantic>=2->ydata-profiling) (2.20.1)\n",
      "Requirement already satisfied: typing-extensions>=4.6.1 in c:\\users\\dkvh2\\anaconda\\lib\\site-packages (from pydantic>=2->ydata-profiling) (4.11.0)\n",
      "Requirement already satisfied: charset-normalizer<4,>=2 in c:\\users\\dkvh2\\anaconda\\lib\\site-packages (from requests<3,>=2.24.0->ydata-profiling) (3.3.2)\n",
      "Requirement already satisfied: idna<4,>=2.5 in c:\\users\\dkvh2\\anaconda\\lib\\site-packages (from requests<3,>=2.24.0->ydata-profiling) (3.7)\n",
      "Requirement already satisfied: urllib3<3,>=1.21.1 in c:\\users\\dkvh2\\anaconda\\lib\\site-packages (from requests<3,>=2.24.0->ydata-profiling) (2.2.3)\n",
      "Requirement already satisfied: certifi>=2017.4.17 in c:\\users\\dkvh2\\anaconda\\lib\\site-packages (from requests<3,>=2.24.0->ydata-profiling) (2024.8.30)\n",
      "Requirement already satisfied: patsy>=0.5.6 in c:\\users\\dkvh2\\anaconda\\lib\\site-packages (from statsmodels<1,>=0.13.2->ydata-profiling) (0.5.6)\n",
      "Requirement already satisfied: colorama in c:\\users\\dkvh2\\anaconda\\lib\\site-packages (from tqdm<5,>=4.48.2->ydata-profiling) (0.4.6)\n",
      "Requirement already satisfied: attrs>=19.3.0 in c:\\users\\dkvh2\\anaconda\\lib\\site-packages (from visions<0.7.7,>=0.7.5->visions[type_image_path]<0.7.7,>=0.7.5->ydata-profiling) (23.1.0)\n",
      "Requirement already satisfied: networkx>=2.4 in c:\\users\\dkvh2\\anaconda\\lib\\site-packages (from visions<0.7.7,>=0.7.5->visions[type_image_path]<0.7.7,>=0.7.5->ydata-profiling) (3.3)\n",
      "Requirement already satisfied: six in c:\\users\\dkvh2\\anaconda\\lib\\site-packages (from patsy>=0.5.6->statsmodels<1,>=0.13.2->ydata-profiling) (1.16.0)\n"
     ]
    }
   ],
   "source": [
    "pip install -U ydata-profiling"
   ]
  },
  {
   "cell_type": "code",
   "execution_count": 3,
   "id": "1e333d7e-5c24-44a3-87e5-0afd6b0e0ba1",
   "metadata": {},
   "outputs": [],
   "source": [
    "import matplotlib \n",
    "import pandas as pd\n",
    "from ydata_profiling import ProfileReport\n",
    "import numpy as np\n"
   ]
  },
  {
   "cell_type": "code",
   "execution_count": 4,
   "id": "0a5fe5f8-8b3b-4178-a6b4-b57e959e1a58",
   "metadata": {},
   "outputs": [
    {
     "data": {
      "text/html": [
       "<div>\n",
       "<style scoped>\n",
       "    .dataframe tbody tr th:only-of-type {\n",
       "        vertical-align: middle;\n",
       "    }\n",
       "\n",
       "    .dataframe tbody tr th {\n",
       "        vertical-align: top;\n",
       "    }\n",
       "\n",
       "    .dataframe thead th {\n",
       "        text-align: right;\n",
       "    }\n",
       "</style>\n",
       "<table border=\"1\" class=\"dataframe\">\n",
       "  <thead>\n",
       "    <tr style=\"text-align: right;\">\n",
       "      <th></th>\n",
       "      <th>Country</th>\n",
       "      <th>League</th>\n",
       "      <th>Club</th>\n",
       "      <th>Player Names</th>\n",
       "      <th>Matches_Played</th>\n",
       "      <th>Substitution</th>\n",
       "      <th>Mins</th>\n",
       "      <th>Goals</th>\n",
       "      <th>xG</th>\n",
       "      <th>xG Per Avg Match</th>\n",
       "      <th>Shots</th>\n",
       "      <th>OnTarget</th>\n",
       "      <th>Shots Per Avg Match</th>\n",
       "      <th>On Target Per Avg Match</th>\n",
       "      <th>Year</th>\n",
       "    </tr>\n",
       "  </thead>\n",
       "  <tbody>\n",
       "    <tr>\n",
       "      <th>0</th>\n",
       "      <td>Spain</td>\n",
       "      <td>La Liga</td>\n",
       "      <td>(BET)</td>\n",
       "      <td>Juanmi Callejon</td>\n",
       "      <td>19</td>\n",
       "      <td>16</td>\n",
       "      <td>1849</td>\n",
       "      <td>11</td>\n",
       "      <td>6.62</td>\n",
       "      <td>0.34</td>\n",
       "      <td>48</td>\n",
       "      <td>20</td>\n",
       "      <td>2.47</td>\n",
       "      <td>1.03</td>\n",
       "      <td>2016</td>\n",
       "    </tr>\n",
       "    <tr>\n",
       "      <th>1</th>\n",
       "      <td>Spain</td>\n",
       "      <td>La Liga</td>\n",
       "      <td>(BAR)</td>\n",
       "      <td>Antoine Griezmann</td>\n",
       "      <td>36</td>\n",
       "      <td>0</td>\n",
       "      <td>3129</td>\n",
       "      <td>16</td>\n",
       "      <td>11.86</td>\n",
       "      <td>0.36</td>\n",
       "      <td>88</td>\n",
       "      <td>41</td>\n",
       "      <td>2.67</td>\n",
       "      <td>1.24</td>\n",
       "      <td>2016</td>\n",
       "    </tr>\n",
       "    <tr>\n",
       "      <th>2</th>\n",
       "      <td>Spain</td>\n",
       "      <td>La Liga</td>\n",
       "      <td>(ATL)</td>\n",
       "      <td>Luis Suarez</td>\n",
       "      <td>34</td>\n",
       "      <td>1</td>\n",
       "      <td>2940</td>\n",
       "      <td>28</td>\n",
       "      <td>23.21</td>\n",
       "      <td>0.75</td>\n",
       "      <td>120</td>\n",
       "      <td>57</td>\n",
       "      <td>3.88</td>\n",
       "      <td>1.84</td>\n",
       "      <td>2016</td>\n",
       "    </tr>\n",
       "    <tr>\n",
       "      <th>3</th>\n",
       "      <td>Spain</td>\n",
       "      <td>La Liga</td>\n",
       "      <td>(CAR)</td>\n",
       "      <td>Ruben Castro</td>\n",
       "      <td>32</td>\n",
       "      <td>3</td>\n",
       "      <td>2842</td>\n",
       "      <td>13</td>\n",
       "      <td>14.06</td>\n",
       "      <td>0.47</td>\n",
       "      <td>117</td>\n",
       "      <td>42</td>\n",
       "      <td>3.91</td>\n",
       "      <td>1.40</td>\n",
       "      <td>2016</td>\n",
       "    </tr>\n",
       "    <tr>\n",
       "      <th>4</th>\n",
       "      <td>Spain</td>\n",
       "      <td>La Liga</td>\n",
       "      <td>(VAL)</td>\n",
       "      <td>Kevin Gameiro</td>\n",
       "      <td>21</td>\n",
       "      <td>10</td>\n",
       "      <td>1745</td>\n",
       "      <td>13</td>\n",
       "      <td>10.65</td>\n",
       "      <td>0.58</td>\n",
       "      <td>50</td>\n",
       "      <td>23</td>\n",
       "      <td>2.72</td>\n",
       "      <td>1.25</td>\n",
       "      <td>2016</td>\n",
       "    </tr>\n",
       "  </tbody>\n",
       "</table>\n",
       "</div>"
      ],
      "text/plain": [
       "  Country   League   Club       Player Names  Matches_Played  Substitution   \\\n",
       "0   Spain  La Liga  (BET)    Juanmi Callejon              19             16   \n",
       "1   Spain  La Liga  (BAR)  Antoine Griezmann              36              0   \n",
       "2   Spain  La Liga  (ATL)        Luis Suarez              34              1   \n",
       "3   Spain  La Liga  (CAR)       Ruben Castro              32              3   \n",
       "4   Spain  La Liga  (VAL)      Kevin Gameiro              21             10   \n",
       "\n",
       "   Mins  Goals     xG  xG Per Avg Match  Shots  OnTarget  Shots Per Avg Match  \\\n",
       "0  1849     11   6.62              0.34     48        20                 2.47   \n",
       "1  3129     16  11.86              0.36     88        41                 2.67   \n",
       "2  2940     28  23.21              0.75    120        57                 3.88   \n",
       "3  2842     13  14.06              0.47    117        42                 3.91   \n",
       "4  1745     13  10.65              0.58     50        23                 2.72   \n",
       "\n",
       "   On Target Per Avg Match  Year  \n",
       "0                     1.03  2016  \n",
       "1                     1.24  2016  \n",
       "2                     1.84  2016  \n",
       "3                     1.40  2016  \n",
       "4                     1.25  2016  "
      ]
     },
     "execution_count": 4,
     "metadata": {},
     "output_type": "execute_result"
    }
   ],
   "source": [
    "df = pd.read_csv('Football.csv')\n",
    "df.head()"
   ]
  },
  {
   "cell_type": "markdown",
   "id": "2c43d5c9-65ae-468e-b9fb-a48c23e7e01a",
   "metadata": {},
   "source": [
    "# A Working with series"
   ]
  },
  {
   "cell_type": "markdown",
   "id": "a0879090-d6db-4965-9175-1e324f016d86",
   "metadata": {},
   "source": [
    "### - Creating series"
   ]
  },
  {
   "cell_type": "code",
   "execution_count": 7,
   "id": "7d69cac9-9718-46e0-bb63-4a68780e3894",
   "metadata": {},
   "outputs": [
    {
     "data": {
      "text/plain": [
       "0    1\n",
       "1    2\n",
       "2    3\n",
       "3    4\n",
       "4    5\n",
       "5    6\n",
       "dtype: int64"
      ]
     },
     "execution_count": 7,
     "metadata": {},
     "output_type": "execute_result"
    }
   ],
   "source": [
    "#pd.__version__\n",
    "lst = [1,2,3,4,5,6]   # series through list\n",
    "pd.Series(lst)"
   ]
  },
  {
   "cell_type": "code",
   "execution_count": 8,
   "id": "398e860a-bd67-40d6-944d-c96afda72411",
   "metadata": {},
   "outputs": [
    {
     "data": {
      "text/plain": [
       "0    1\n",
       "1    2\n",
       "2    3\n",
       "3    4\n",
       "4    5\n",
       "5    6\n",
       "dtype: int32"
      ]
     },
     "execution_count": 8,
     "metadata": {},
     "output_type": "execute_result"
    }
   ],
   "source": [
    "# series through numpy array\n",
    "arr = np.array([1,2,3,4,5,6])\n",
    "pd.Series(arr)"
   ]
  },
  {
   "cell_type": "code",
   "execution_count": 9,
   "id": "19c1c8cb-8884-4b46-8b8c-69f7c28e4e25",
   "metadata": {},
   "outputs": [],
   "source": [
    "# Give index from our side\n",
    "#pd.Series(data = ['Eshant','Pranjal', 'Ashish','Manish'], index = [1,2,3,4])"
   ]
  },
  {
   "cell_type": "code",
   "execution_count": 10,
   "id": "a7665654-ff2e-4bd0-a26b-1af30291fb75",
   "metadata": {},
   "outputs": [
    {
     "data": {
      "text/plain": [
       "Eshant     1\n",
       "Pranjal    2\n",
       "Ashish     3\n",
       "Manish     4\n",
       "dtype: int64"
      ]
     },
     "execution_count": 10,
     "metadata": {},
     "output_type": "execute_result"
    }
   ],
   "source": [
    "pd.Series(index = ['Eshant','Pranjal', 'Ashish','Manish'], data = [1,2,3,4])"
   ]
  },
  {
   "cell_type": "code",
   "execution_count": 11,
   "id": "ee7024c3-1128-4a9a-975b-0fdbd9dab631",
   "metadata": {},
   "outputs": [
    {
     "data": {
      "text/plain": [
       "day1    4000\n",
       "day2    3000\n",
       "day3    2000\n",
       "dtype: int64"
      ]
     },
     "execution_count": 11,
     "metadata": {},
     "output_type": "execute_result"
    }
   ],
   "source": [
    "# Series with dictionary\n",
    "steps = {'day1' : 4000, 'day2' : 3000, 'day3' : 2000}\n",
    "pd.Series(steps)"
   ]
  },
  {
   "cell_type": "code",
   "execution_count": 12,
   "id": "5af66b4c-4a33-45c3-ae54-9625a56dc7bf",
   "metadata": {},
   "outputs": [
    {
     "data": {
      "text/plain": [
       "0    5\n",
       "0    5\n",
       "0    5\n",
       "dtype: int64"
      ]
     },
     "execution_count": 12,
     "metadata": {},
     "output_type": "execute_result"
    }
   ],
   "source": [
    "# Using a repeat function in series and index would be same\n",
    "pd.Series(5).repeat(3)"
   ]
  },
  {
   "cell_type": "code",
   "execution_count": 13,
   "id": "552304e7-3716-431a-902e-5972f07b2552",
   "metadata": {},
   "outputs": [
    {
     "data": {
      "text/plain": [
       "0    5\n",
       "1    5\n",
       "2    5\n",
       "dtype: int64"
      ]
     },
     "execution_count": 13,
     "metadata": {},
     "output_type": "execute_result"
    }
   ],
   "source": [
    "# to make the index accurate\n",
    "pd.Series(5).repeat(3).reset_index(drop = True)\n",
    "#type(pd.Series(5).repeat(3).reset_index())"
   ]
  },
  {
   "cell_type": "code",
   "execution_count": 14,
   "id": "a5a88042-f4b2-4119-af58-d8e68758464e",
   "metadata": {},
   "outputs": [
    {
     "data": {
      "text/plain": [
       "0    10\n",
       "1    10\n",
       "2    10\n",
       "3    10\n",
       "4    10\n",
       "5    20\n",
       "6    20\n",
       "dtype: int64"
      ]
     },
     "execution_count": 14,
     "metadata": {},
     "output_type": "execute_result"
    }
   ],
   "source": [
    "# 10 should be repeated 5 times and 20 should be repeated 2 times\n",
    "s = pd.Series([10,20]).repeat([5,2]).reset_index(drop = True)#(drop=True) removes the existing index and resets it to the default integer index.\n",
    "s"
   ]
  },
  {
   "cell_type": "markdown",
   "id": "bf4d831d-e74a-40b7-b9af-ddf138fa16c1",
   "metadata": {},
   "source": [
    "### 1 Accessing elements"
   ]
  },
  {
   "cell_type": "code",
   "execution_count": 16,
   "id": "db21322f-a7ae-4878-9f33-1ac1c0cb9aaa",
   "metadata": {},
   "outputs": [
    {
     "name": "stdout",
     "output_type": "stream",
     "text": [
      "10\n",
      "20\n"
     ]
    }
   ],
   "source": [
    "print(s[1])\n",
    "print(s[6])"
   ]
  },
  {
   "cell_type": "code",
   "execution_count": 17,
   "id": "400f2d66-cabd-40b9-addb-feee3e341c25",
   "metadata": {},
   "outputs": [
    {
     "data": {
      "text/plain": [
       "2    10\n",
       "3    10\n",
       "4    10\n",
       "dtype: int64"
      ]
     },
     "execution_count": 17,
     "metadata": {},
     "output_type": "execute_result"
    }
   ],
   "source": [
    "s[2:-2]   #By last n numbers (start - end-1) by -2 skipping"
   ]
  },
  {
   "cell_type": "markdown",
   "id": "3f5fa052-56ea-4439-914b-7089fd8d242b",
   "metadata": {},
   "source": [
    "### 2 Aggregate function on pandas Series"
   ]
  },
  {
   "cell_type": "code",
   "execution_count": 19,
   "id": "904031f8-35f0-48dc-8c48-ed21b53deb1d",
   "metadata": {},
   "outputs": [],
   "source": [
    "#Pandas Series.aggregate() function aggregate using one or more operations over the specified axis in the given series object.\n"
   ]
  },
  {
   "cell_type": "code",
   "execution_count": 20,
   "id": "92e8aacb-a152-46df-85a7-e85c7f148e96",
   "metadata": {},
   "outputs": [
    {
     "name": "stdout",
     "output_type": "stream",
     "text": [
      "28\n",
      "1\n",
      "7\n"
     ]
    }
   ],
   "source": [
    "sr = pd.Series([1,2,3,4,5,6,7])\n",
    "#sr.agg([min,max,sum])\n",
    "print(sr.sum())\n",
    "print(sr.min())\n",
    "print(sr.max())"
   ]
  },
  {
   "cell_type": "markdown",
   "id": "de4ee878-8046-4b20-b072-70b0744b8d9b",
   "metadata": {},
   "source": [
    "### 3 Series absolute function"
   ]
  },
  {
   "cell_type": "code",
   "execution_count": 22,
   "id": "2a2f7385-4795-4cc9-96dd-d2c7dba13246",
   "metadata": {},
   "outputs": [
    {
     "data": {
      "text/plain": [
       "0    1\n",
       "1    2\n",
       "2    3\n",
       "3    4\n",
       "4    5\n",
       "5    6\n",
       "6    7\n",
       "dtype: int64"
      ]
     },
     "execution_count": 22,
     "metadata": {},
     "output_type": "execute_result"
    }
   ],
   "source": [
    "sr = pd.Series([1,-2,3,-4,5,-6,7]) #Pandas Series.abs() method is used to get the absolute numeric value of each element in Series/DataFrame\n",
    "\n",
    "sr.abs()"
   ]
  },
  {
   "cell_type": "markdown",
   "id": "c615cc44-af8a-4a34-bf08-20baf730817c",
   "metadata": {},
   "source": [
    "### 4 Appending series"
   ]
  },
  {
   "cell_type": "code",
   "execution_count": 24,
   "id": "0b70c3eb-37d4-49a0-a4e6-307a38eadf24",
   "metadata": {},
   "outputs": [],
   "source": [
    "sr1 = pd.Series([1,-2,3])\n",
    "sr2 = pd.Series([1,2,3])"
   ]
  },
  {
   "cell_type": "code",
   "execution_count": 25,
   "id": "40e9a5bb-fbda-4ca5-98dc-b38dcd5e5c05",
   "metadata": {},
   "outputs": [
    {
     "data": {
      "text/plain": [
       "0    1\n",
       "1   -2\n",
       "2    3\n",
       "3    1\n",
       "4    2\n",
       "5    3\n",
       "dtype: int64"
      ]
     },
     "execution_count": 25,
     "metadata": {},
     "output_type": "execute_result"
    }
   ],
   "source": [
    "sr3 = pd.concat([sr1,sr2])\n",
    "#sr3 = pd.concat([sr2,sr1])\n",
    "sr3.reset_index(drop = True) # without (drop = True) it will produce dataframe"
   ]
  },
  {
   "cell_type": "markdown",
   "id": "22a752a4-d701-43dc-8431-b7386413cd62",
   "metadata": {},
   "source": [
    "### 5 Astype function"
   ]
  },
  {
   "cell_type": "markdown",
   "id": "5edd8605-4d45-4b95-9a59-d1904f2daa5e",
   "metadata": {},
   "source": [
    "Pandas astype() is the one of the most important methods. It is used to change data type of a series. When data frame is made from a csv file, the columns are imported and data type is set automatically which many times is not what it actually should have."
   ]
  },
  {
   "cell_type": "code",
   "execution_count": 28,
   "id": "55067939-f39c-46f8-bf21-732bf705120f",
   "metadata": {},
   "outputs": [
    {
     "name": "stdout",
     "output_type": "stream",
     "text": [
      "0    1\n",
      "1   -2\n",
      "2    3\n",
      "dtype: int64\n",
      "<class 'pandas.core.series.Series'>\n",
      "<class 'numpy.int64'>\n",
      "0    1.0\n",
      "1   -2.0\n",
      "2    3.0\n",
      "dtype: float64\n"
     ]
    }
   ],
   "source": [
    "print(sr1)\n",
    "print(type(sr1))\n",
    "print(type(sr1[0]))\n",
    "print(sr1.astype('float'))"
   ]
  },
  {
   "cell_type": "markdown",
   "id": "bbd17fa7-c119-4030-a302-934b510fa467",
   "metadata": {},
   "source": [
    "### 6 Between function"
   ]
  },
  {
   "cell_type": "markdown",
   "id": "3932587e-25c6-4b0e-893d-8afb8a5287b1",
   "metadata": {},
   "source": [
    "Pandas between() method is used on series to check which values lie between first and second argument"
   ]
  },
  {
   "cell_type": "code",
   "execution_count": 31,
   "id": "c1019b3b-71ba-4baa-98d4-5eb00d1fbb9c",
   "metadata": {},
   "outputs": [
    {
     "data": {
      "text/plain": [
       "0     1\n",
       "1     2\n",
       "2    30\n",
       "3     4\n",
       "4     5\n",
       "5     6\n",
       "6     7\n",
       "7     8\n",
       "8     9\n",
       "9    20\n",
       "dtype: int64"
      ]
     },
     "execution_count": 31,
     "metadata": {},
     "output_type": "execute_result"
    }
   ],
   "source": [
    "sr1 = pd.Series([1,2,30,4,5,6,7,8,9,20])\n",
    "sr1.reset_index(drop= True)"
   ]
  },
  {
   "cell_type": "code",
   "execution_count": 32,
   "id": "0030cc45-b7c3-4d50-a56d-dd0128f64147",
   "metadata": {
    "scrolled": true
   },
   "outputs": [
    {
     "data": {
      "text/plain": [
       "0    False\n",
       "1    False\n",
       "2     True\n",
       "3    False\n",
       "4    False\n",
       "5    False\n",
       "6    False\n",
       "7    False\n",
       "8    False\n",
       "9     True\n",
       "dtype: bool"
      ]
     },
     "execution_count": 32,
     "metadata": {},
     "output_type": "execute_result"
    }
   ],
   "source": [
    "sr1.between(10,50)"
   ]
  },
  {
   "cell_type": "markdown",
   "id": "1d108fbb-dd96-4980-9d1b-7a5e317975b0",
   "metadata": {},
   "source": [
    "### 7 All strings functions can be used to extract or modify texts in a series\n",
    "##### Upper and Lower Function\n",
    "##### Len function\n",
    "##### Strip Function\n",
    "##### Split Function\n",
    "##### Contains Function\n",
    "##### Replace Function\n",
    "##### Count Function\n",
    "##### Startswith and Endswith Function\n",
    "##### Find Finction"
   ]
  },
  {
   "cell_type": "code",
   "execution_count": 35,
   "id": "86b1bd50-7cca-405a-95ce-b3f6b2febbb3",
   "metadata": {},
   "outputs": [],
   "source": [
    "ser = pd.Series([\"Eshant Das\" , \"Data Science\" , \"Geeks for Geeks\" , 'Hello World' , 'Machine Learning'])"
   ]
  },
  {
   "cell_type": "code",
   "execution_count": 36,
   "id": "6a420f8c-56f5-48d9-85e4-52aace08fec8",
   "metadata": {},
   "outputs": [
    {
     "name": "stdout",
     "output_type": "stream",
     "text": [
      "0          ESHANT DAS\n",
      "1        DATA SCIENCE\n",
      "2     GEEKS FOR GEEKS\n",
      "3         HELLO WORLD\n",
      "4    MACHINE LEARNING\n",
      "dtype: object\n",
      "------------------------------\n",
      "0          eshant das\n",
      "1        data science\n",
      "2     geeks for geeks\n",
      "3         hello world\n",
      "4    machine learning\n",
      "dtype: object\n"
     ]
    }
   ],
   "source": [
    "#Upper and Lower Function\n",
    "print(ser.str.upper())\n",
    "print('-'*30)\n",
    "print(ser.str.lower())"
   ]
  },
  {
   "cell_type": "code",
   "execution_count": 37,
   "id": "b8fa4be8-4138-4cbd-b55b-f6c8488a76cd",
   "metadata": {},
   "outputs": [
    {
     "name": "stdout",
     "output_type": "stream",
     "text": [
      "10\n",
      "12\n",
      "15\n",
      "11\n",
      "16\n"
     ]
    }
   ],
   "source": [
    "# Length  function\n",
    "for i in ser:\n",
    "    print(len(i))"
   ]
  },
  {
   "cell_type": "code",
   "execution_count": 38,
   "id": "bd996e1f-2084-4507-9c67-0c024e245c33",
   "metadata": {},
   "outputs": [
    {
     "name": "stdout",
     "output_type": "stream",
     "text": [
      "  Eshant Das 12\n",
      "Data Science 12\n",
      "Geeks for Geeks 15\n",
      "Hello World 11\n",
      "Machine Learning   18\n"
     ]
    }
   ],
   "source": [
    "# Strip function\n",
    "ser = pd.Series([\"  Eshant Das\" , \"Data Science\" , \"Geeks for Geeks\" , 'Hello World' , 'Machine Learning  '])\n",
    "\n",
    "for i in ser:\n",
    "    print(i , len(i))"
   ]
  },
  {
   "cell_type": "markdown",
   "id": "a6f545e5-8a4b-44ed-88c3-12e0f1937f06",
   "metadata": {},
   "source": [
    "2 extra spaces has been removed|"
   ]
  },
  {
   "cell_type": "code",
   "execution_count": 40,
   "id": "c94b06e2-c66b-4b9c-8df2-fccfe631f531",
   "metadata": {},
   "outputs": [
    {
     "name": "stdout",
     "output_type": "stream",
     "text": [
      "Eshant Das 10\n",
      "Data Science 12\n",
      "Geeks for Geeks 15\n",
      "Hello World 11\n",
      "Machine Learning 16\n"
     ]
    }
   ],
   "source": [
    "ser = ser.str.strip()\n",
    "\n",
    "for i in ser:\n",
    "    print(i , len(i))"
   ]
  },
  {
   "cell_type": "code",
   "execution_count": 41,
   "id": "3034271e-fc60-4957-b02f-40610bb11cd7",
   "metadata": {},
   "outputs": [
    {
     "name": "stdout",
     "output_type": "stream",
     "text": [
      "0          [Eshant, Das]\n",
      "1        [Data, Science]\n",
      "2    [Geeks, for, Geeks]\n",
      "3         [Hello, World]\n",
      "4    [Machine, Learning]\n",
      "dtype: object\n",
      "['Eshant', 'Das']\n",
      "['Data', 'Science']\n"
     ]
    }
   ],
   "source": [
    "# Split function\n",
    "print(ser.str.split())\n",
    "print(ser.str.split()[0])\n",
    "print(ser.str.split()[1])"
   ]
  },
  {
   "cell_type": "code",
   "execution_count": 42,
   "id": "045ded95-f9da-465e-af81-a0d6f1158151",
   "metadata": {},
   "outputs": [
    {
     "name": "stdout",
     "output_type": "stream",
     "text": [
      "0    [10, 2, 2981]\n",
      "1    [10, 3, 2981]\n",
      "2    [10, 4, 2981]\n",
      "dtype: object\n",
      "['10', '2', '2981']\n",
      "['10', '3', '2981']\n",
      "['10', '4', '2981']\n"
     ]
    }
   ],
   "source": [
    "print(pd.Series(['10/2/2981','10/3/2981','10/4/2981']).str.split('/'))\n",
    "print(pd.Series(['10/2/2981','10/3/2981','10/4/2981']).str.split('/')[0])\n",
    "print(pd.Series(['10/2/2981','10/3/2981','10/4/2981']).str.split('/')[1])\n",
    "print(pd.Series(['10/2/2981','10/3/2981','10/4/2981']).str.split('/')[2])\n"
   ]
  },
  {
   "cell_type": "code",
   "execution_count": 43,
   "id": "5b2ba65b-b28d-45b1-bc12-e11ae85cbf8e",
   "metadata": {},
   "outputs": [
    {
     "data": {
      "text/plain": [
       "0    False\n",
       "1     True\n",
       "2    False\n",
       "3     True\n",
       "4    False\n",
       "dtype: bool"
      ]
     },
     "execution_count": 43,
     "metadata": {},
     "output_type": "execute_result"
    }
   ],
   "source": [
    "# Contains function\n",
    "ser = pd.Series([\"Eshant Das\",\"Data@Science\",\"Geeks for Geeks\",'Hello@World','Machine Learning'])\n",
    "\n",
    "ser.str.contains('@')"
   ]
  },
  {
   "cell_type": "code",
   "execution_count": 44,
   "id": "8297936b-a43c-474f-b56c-e1a208128b5f",
   "metadata": {},
   "outputs": [
    {
     "data": {
      "text/plain": [
       "0          Eshant Das\n",
       "1        Data Science\n",
       "2     Geeks for Geeks\n",
       "3         Hello World\n",
       "4    Machine Learning\n",
       "dtype: object"
      ]
     },
     "execution_count": 44,
     "metadata": {},
     "output_type": "execute_result"
    }
   ],
   "source": [
    "#Replace function\n",
    "ser.str.replace('@',' ')"
   ]
  },
  {
   "cell_type": "code",
   "execution_count": 45,
   "id": "baf08f16-2726-4ec5-8a25-dfbd1336e350",
   "metadata": {},
   "outputs": [
    {
     "name": "stdout",
     "output_type": "stream",
     "text": [
      "0    2\n",
      "1    2\n",
      "2    0\n",
      "3    0\n",
      "4    2\n",
      "dtype: int64\n",
      "0    1\n",
      "1    0\n",
      "2    0\n",
      "3    0\n",
      "4    0\n",
      "dtype: int64\n"
     ]
    }
   ],
   "source": [
    "#Count function\n",
    "print(ser.str.count('a'))\n",
    "print(ser.str.count('Eshant Das'))"
   ]
  },
  {
   "cell_type": "code",
   "execution_count": 46,
   "id": "9634661d-d3ae-4b6a-80f7-1cd30e2716ed",
   "metadata": {},
   "outputs": [
    {
     "data": {
      "text/plain": [
       "0    False\n",
       "1     True\n",
       "2    False\n",
       "3    False\n",
       "4    False\n",
       "dtype: bool"
      ]
     },
     "execution_count": 46,
     "metadata": {},
     "output_type": "execute_result"
    }
   ],
   "source": [
    "# Startswith\n",
    "ser.str.startswith('D')"
   ]
  },
  {
   "cell_type": "code",
   "execution_count": 47,
   "id": "aafcd266-dca5-4896-ba57-ee19023ffa3c",
   "metadata": {},
   "outputs": [
    {
     "data": {
      "text/plain": [
       "0     True\n",
       "1    False\n",
       "2     True\n",
       "3    False\n",
       "4    False\n",
       "dtype: bool"
      ]
     },
     "execution_count": 47,
     "metadata": {},
     "output_type": "execute_result"
    }
   ],
   "source": [
    "# Endswith\n",
    "ser.str.endswith('s')"
   ]
  },
  {
   "cell_type": "code",
   "execution_count": 48,
   "id": "dd6d8fb0-bfa2-4842-aead-1cf1b0eb0a9c",
   "metadata": {},
   "outputs": [
    {
     "data": {
      "text/plain": [
       "0   -1\n",
       "1   -1\n",
       "2    0\n",
       "3   -1\n",
       "4   -1\n",
       "dtype: int64"
      ]
     },
     "execution_count": 48,
     "metadata": {},
     "output_type": "execute_result"
    }
   ],
   "source": [
    "# Find function\n",
    "ser = pd.Series([\"Eshant Das\",\"Data@Science\",\"Geeks for Geeks\",'Hello@World','Machine Learning'])\n",
    "ser.str.find('Geeks')"
   ]
  },
  {
   "cell_type": "markdown",
   "id": "f4300356-0ecf-4974-907e-069a94d440c4",
   "metadata": {},
   "source": [
    "### 8 Converting a series to list"
   ]
  },
  {
   "cell_type": "code",
   "execution_count": 50,
   "id": "fbdb8a26-0eb6-4963-956c-9b0ffe31cbd7",
   "metadata": {},
   "outputs": [
    {
     "data": {
      "text/plain": [
       "['Eshant Das',\n",
       " 'Data@Science',\n",
       " 'Geeks for Geeks',\n",
       " 'Hello@World',\n",
       " 'Machine Learning']"
      ]
     },
     "execution_count": 50,
     "metadata": {},
     "output_type": "execute_result"
    }
   ],
   "source": [
    "#Pandas tolist() is used to convert a series to list. Initially the series is of type pandas.core.series.\n",
    "ser.to_list()"
   ]
  },
  {
   "cell_type": "markdown",
   "id": "35524018-f7de-4173-8315-4174532d83da",
   "metadata": {},
   "source": [
    "# B Data Frames"
   ]
  },
  {
   "cell_type": "markdown",
   "id": "0695e196-e35e-45ac-bf5d-a597e6686900",
   "metadata": {},
   "source": [
    "### 1 Creating Data frames"
   ]
  },
  {
   "cell_type": "markdown",
   "id": "3d41a550-fc6a-4406-8be1-48d5cf674fc7",
   "metadata": {},
   "source": [
    "In the real world, a Pandas DataFrame will be created by loading the datasets from existing storage, storage can be SQL Database, CSV file, and Excel file. Pandas DataFrame can be created from the lists, dictionary, and from a list of dictionary etc. Dataframe can be created in different ways here are some ways by which we create a dataframe:"
   ]
  },
  {
   "cell_type": "markdown",
   "id": "4a5ccdf3-5c66-4eb3-b1c4-8e72953638d2",
   "metadata": {},
   "source": [
    "##### from list"
   ]
  },
  {
   "cell_type": "code",
   "execution_count": 55,
   "id": "b45773ca-0442-4334-903a-0f2c873a8249",
   "metadata": {},
   "outputs": [
    {
     "data": {
      "text/html": [
       "<div>\n",
       "<style scoped>\n",
       "    .dataframe tbody tr th:only-of-type {\n",
       "        vertical-align: middle;\n",
       "    }\n",
       "\n",
       "    .dataframe tbody tr th {\n",
       "        vertical-align: top;\n",
       "    }\n",
       "\n",
       "    .dataframe thead th {\n",
       "        text-align: right;\n",
       "    }\n",
       "</style>\n",
       "<table border=\"1\" class=\"dataframe\">\n",
       "  <thead>\n",
       "    <tr style=\"text-align: right;\">\n",
       "      <th></th>\n",
       "      <th>0</th>\n",
       "    </tr>\n",
       "  </thead>\n",
       "  <tbody>\n",
       "    <tr>\n",
       "      <th>0</th>\n",
       "      <td>Geeks</td>\n",
       "    </tr>\n",
       "    <tr>\n",
       "      <th>1</th>\n",
       "      <td>For</td>\n",
       "    </tr>\n",
       "    <tr>\n",
       "      <th>2</th>\n",
       "      <td>Geeks</td>\n",
       "    </tr>\n",
       "    <tr>\n",
       "      <th>3</th>\n",
       "      <td>is</td>\n",
       "    </tr>\n",
       "    <tr>\n",
       "      <th>4</th>\n",
       "      <td>portal</td>\n",
       "    </tr>\n",
       "    <tr>\n",
       "      <th>5</th>\n",
       "      <td>for</td>\n",
       "    </tr>\n",
       "    <tr>\n",
       "      <th>6</th>\n",
       "      <td>Geeks</td>\n",
       "    </tr>\n",
       "  </tbody>\n",
       "</table>\n",
       "</div>"
      ],
      "text/plain": [
       "        0\n",
       "0   Geeks\n",
       "1     For\n",
       "2   Geeks\n",
       "3      is\n",
       "4  portal\n",
       "5     for\n",
       "6   Geeks"
      ]
     },
     "execution_count": 55,
     "metadata": {},
     "output_type": "execute_result"
    }
   ],
   "source": [
    "#DataFrame can be created using a single list or a list of lists\n",
    "lst = ['Geeks', 'For', 'Geeks', 'is', 'portal', 'for', 'Geeks']\n",
    "\n",
    "pd.DataFrame(lst)"
   ]
  },
  {
   "cell_type": "code",
   "execution_count": 56,
   "id": "16e56afb-0ecb-4c91-824c-c1f34d8b972c",
   "metadata": {},
   "outputs": [
    {
     "name": "stdout",
     "output_type": "stream",
     "text": [
      "        0\n",
      "0   Geeks\n",
      "1     For\n",
      "2   Geeks\n",
      "3      is\n",
      "4  portal\n",
      "5     for\n",
      "6   Geeks\n"
     ]
    },
    {
     "data": {
      "text/plain": [
       "pandas.core.frame.DataFrame"
      ]
     },
     "execution_count": 56,
     "metadata": {},
     "output_type": "execute_result"
    }
   ],
   "source": [
    "print(pd.DataFrame(lst))\n",
    "type(pd.DataFrame(lst))"
   ]
  },
  {
   "cell_type": "markdown",
   "id": "476fd1a0-d1c7-4b86-8d8a-d1dd2382334f",
   "metadata": {},
   "source": [
    "##### From multi-dimension list"
   ]
  },
  {
   "cell_type": "code",
   "execution_count": 58,
   "id": "266ed4c7-a835-49fb-8506-dd1bf403fad3",
   "metadata": {},
   "outputs": [
    {
     "data": {
      "text/html": [
       "<div>\n",
       "<style scoped>\n",
       "    .dataframe tbody tr th:only-of-type {\n",
       "        vertical-align: middle;\n",
       "    }\n",
       "\n",
       "    .dataframe tbody tr th {\n",
       "        vertical-align: top;\n",
       "    }\n",
       "\n",
       "    .dataframe thead th {\n",
       "        text-align: right;\n",
       "    }\n",
       "</style>\n",
       "<table border=\"1\" class=\"dataframe\">\n",
       "  <thead>\n",
       "    <tr style=\"text-align: right;\">\n",
       "      <th></th>\n",
       "      <th>0</th>\n",
       "      <th>1</th>\n",
       "    </tr>\n",
       "  </thead>\n",
       "  <tbody>\n",
       "    <tr>\n",
       "      <th>0</th>\n",
       "      <td>tom</td>\n",
       "      <td>10</td>\n",
       "    </tr>\n",
       "    <tr>\n",
       "      <th>1</th>\n",
       "      <td>jerry</td>\n",
       "      <td>12</td>\n",
       "    </tr>\n",
       "    <tr>\n",
       "      <th>2</th>\n",
       "      <td>spike</td>\n",
       "      <td>14</td>\n",
       "    </tr>\n",
       "  </tbody>\n",
       "</table>\n",
       "</div>"
      ],
      "text/plain": [
       "       0   1\n",
       "0    tom  10\n",
       "1  jerry  12\n",
       "2  spike  14"
      ]
     },
     "execution_count": 58,
     "metadata": {},
     "output_type": "execute_result"
    }
   ],
   "source": [
    "lst = [['tom',10],['jerry',12],['spike',14]]\n",
    "pd.DataFrame(lst)"
   ]
  },
  {
   "cell_type": "markdown",
   "id": "a67e6ee8-94b3-455d-8022-3a45dc697f0d",
   "metadata": {},
   "source": [
    "To create DataFrame from dict of narray/list, all the narray must be of same length. If index is passed then the length index should be equal to the length of arrays. If no index is passed, then by default, index will be range(n) where n is the array length."
   ]
  },
  {
   "cell_type": "code",
   "execution_count": 70,
   "id": "c7985730-7523-46fa-b226-3c3d53094684",
   "metadata": {},
   "outputs": [
    {
     "name": "stdout",
     "output_type": "stream",
     "text": [
      "    name  age\n",
      "0    Tom   20\n",
      "1   nick   21\n",
      "2  krish   19\n",
      "3   jack   18\n"
     ]
    }
   ],
   "source": [
    "data = {'name':['Tom', 'nick', 'krish', 'jack'], 'age':[20, 21, 19, 18]}\n",
    "print(pd.DataFrame(data))"
   ]
  },
  {
   "cell_type": "markdown",
   "id": "052ce341-4d20-416e-913a-3e1d6cedb21f",
   "metadata": {},
   "source": [
    "##### From multiple dictionary values creating data frames"
   ]
  },
  {
   "cell_type": "code",
   "execution_count": 85,
   "id": "3856af9a-76dc-47ca-96b3-dcb97028bb4a",
   "metadata": {},
   "outputs": [
    {
     "name": "stdout",
     "output_type": "stream",
     "text": [
      "     Name  Age    Address Qualification\n",
      "0     Jai   27      Delhi           Msc\n",
      "1  Princi   24     Kanpur            MA\n",
      "2  Gaurav   22  Allahabad           MCA\n",
      "3    Anuj   32    Kannauj           Phd\n",
      "     Name  Age\n",
      "0     Jai   27\n",
      "1  Princi   24\n",
      "2  Gaurav   22\n",
      "3    Anuj   32\n"
     ]
    }
   ],
   "source": [
    "data = { 'Name'         :['Jai', 'Princi', 'Gaurav', 'Anuj'],\n",
    "         'Age'          :[27, 24, 22, 32],\n",
    "         'Address'      :['Delhi', 'Kanpur', 'Allahabad', 'Kannauj'],\n",
    "         'Qualification':['Msc', 'MA', 'MCA', 'Phd']}\n",
    "df = pd.DataFrame(data)\n",
    "print(df)\n",
    "print(df[['Name','Age']])"
   ]
  },
  {
   "cell_type": "markdown",
   "id": "0dcf9843-1c87-44c4-b334-7c3141a63dc7",
   "metadata": {},
   "source": [
    "### 2 Slicing in df using iloc and loc"
   ]
  },
  {
   "cell_type": "markdown",
   "id": "541a3c99-ad4c-4e11-a2a6-31132df78a18",
   "metadata": {},
   "source": [
    "###### Pandas comprises many methods for its proper functioning. loc() and iloc() are one of those methods. These are used in slicing data from the Pandas DataFrame. They help in the convenient selection of data from the DataFrame in Python. They are used in filtering the data according to some conditions.\n",
    "\n"
   ]
  },
  {
   "cell_type": "code",
   "execution_count": 102,
   "id": "2a957123-a9c9-4f05-9793-77286c9f9976",
   "metadata": {},
   "outputs": [
    {
     "data": {
      "text/html": [
       "<div>\n",
       "<style scoped>\n",
       "    .dataframe tbody tr th:only-of-type {\n",
       "        vertical-align: middle;\n",
       "    }\n",
       "\n",
       "    .dataframe tbody tr th {\n",
       "        vertical-align: top;\n",
       "    }\n",
       "\n",
       "    .dataframe thead th {\n",
       "        text-align: right;\n",
       "    }\n",
       "</style>\n",
       "<table border=\"1\" class=\"dataframe\">\n",
       "  <thead>\n",
       "    <tr style=\"text-align: right;\">\n",
       "      <th></th>\n",
       "      <th>one</th>\n",
       "      <th>two</th>\n",
       "      <th>three</th>\n",
       "      <th>four</th>\n",
       "    </tr>\n",
       "  </thead>\n",
       "  <tbody>\n",
       "    <tr>\n",
       "      <th>0</th>\n",
       "      <td>1</td>\n",
       "      <td>10</td>\n",
       "      <td>100</td>\n",
       "      <td>1000</td>\n",
       "    </tr>\n",
       "    <tr>\n",
       "      <th>1</th>\n",
       "      <td>2</td>\n",
       "      <td>20</td>\n",
       "      <td>200</td>\n",
       "      <td>2000</td>\n",
       "    </tr>\n",
       "    <tr>\n",
       "      <th>2</th>\n",
       "      <td>3</td>\n",
       "      <td>30</td>\n",
       "      <td>300</td>\n",
       "      <td>3000</td>\n",
       "    </tr>\n",
       "    <tr>\n",
       "      <th>3</th>\n",
       "      <td>4</td>\n",
       "      <td>40</td>\n",
       "      <td>400</td>\n",
       "      <td>4000</td>\n",
       "    </tr>\n",
       "  </tbody>\n",
       "</table>\n",
       "</div>"
      ],
      "text/plain": [
       "   one  two  three  four\n",
       "0    1   10    100  1000\n",
       "1    2   20    200  2000\n",
       "2    3   30    300  3000\n",
       "3    4   40    400  4000"
      ]
     },
     "execution_count": 102,
     "metadata": {},
     "output_type": "execute_result"
    }
   ],
   "source": [
    "data = {'one'   : pd.Series([1, 2, 3, 4]),\n",
    "        'two'   : pd.Series([10, 20, 30, 40]),\n",
    "        'three' : pd.Series([100, 200, 300, 400]),\n",
    "        'four'  : pd.Series([1000, 2000, 3000, 4000])}\n",
    "\n",
    "df = pd.DataFrame(data)\n",
    "df"
   ]
  },
  {
   "cell_type": "markdown",
   "id": "76f43727-f7c5-48e2-9526-097c5d36cc2a",
   "metadata": {},
   "source": [
    "#### Basic loc function\n",
    "##### The loc() function is label based data selecting method which means that we have to pass the name of the row or column which we want to select. This method includes the last element of the range passed in it, unlike iloc(). loc() can accept the boolean data unlike iloc(). Many operations can be performed using the loc() method like"
   ]
  },
  {
   "cell_type": "code",
   "execution_count": 107,
   "id": "3f6aac67-e739-47e9-89a3-f213227f2bdb",
   "metadata": {},
   "outputs": [
    {
     "name": "stdout",
     "output_type": "stream",
     "text": [
      "   one  two  three  four\n",
      "0    1   10    100  1000\n",
      "1    2   20    200  2000\n",
      "2    3   30    300  3000\n",
      "3    4   40    400  4000\n",
      "*************************\n",
      "   one  two  three  four\n",
      "1    2   20    200  2000\n",
      "2    3   30    300  3000\n",
      "3    4   40    400  4000\n",
      "*************************\n",
      "   one  two  three  four\n",
      "0    1   10    100  1000\n",
      "1    2   20    200  2000\n",
      "2    3   30    300  3000\n",
      "*************************\n",
      "   two  three\n",
      "1   20    200\n",
      "2   30    300\n"
     ]
    }
   ],
   "source": [
    "print(df.loc[0:])\n",
    "print('*'*25)\n",
    "print(df.loc[1:3])\n",
    "print('*'*25)\n",
    "print(df.loc[:2])\n",
    "print('*'*25)\n",
    "print(df.loc[1:2, 'two' : 'three']) # selecting specific columns"
   ]
  },
  {
   "cell_type": "markdown",
   "id": "eba30e33-1c20-41fd-91d6-1a5501cd722a",
   "metadata": {},
   "source": [
    "#### Basic iloc function\n",
    "##### The iloc() function is an indexed-based selecting method which means that we have to pass an integer index in the method to select a specific row/column. This method does not include the last element of the range passed in it unlike loc(). iloc() does not accept the boolean data unlike loc()."
   ]
  },
  {
   "cell_type": "code",
   "execution_count": 110,
   "id": "bd431b80-2bb4-44e2-8ac9-707e17b71990",
   "metadata": {},
   "outputs": [
    {
     "data": {
      "text/html": [
       "<div>\n",
       "<style scoped>\n",
       "    .dataframe tbody tr th:only-of-type {\n",
       "        vertical-align: middle;\n",
       "    }\n",
       "\n",
       "    .dataframe tbody tr th {\n",
       "        vertical-align: top;\n",
       "    }\n",
       "\n",
       "    .dataframe thead th {\n",
       "        text-align: right;\n",
       "    }\n",
       "</style>\n",
       "<table border=\"1\" class=\"dataframe\">\n",
       "  <thead>\n",
       "    <tr style=\"text-align: right;\">\n",
       "      <th></th>\n",
       "      <th>two</th>\n",
       "      <th>three</th>\n",
       "    </tr>\n",
       "  </thead>\n",
       "  <tbody>\n",
       "    <tr>\n",
       "      <th>1</th>\n",
       "      <td>20</td>\n",
       "      <td>200</td>\n",
       "    </tr>\n",
       "    <tr>\n",
       "      <th>2</th>\n",
       "      <td>30</td>\n",
       "      <td>300</td>\n",
       "    </tr>\n",
       "  </tbody>\n",
       "</table>\n",
       "</div>"
      ],
      "text/plain": [
       "   two  three\n",
       "1   20    200\n",
       "2   30    300"
      ]
     },
     "execution_count": 110,
     "metadata": {},
     "output_type": "execute_result"
    }
   ],
   "source": [
    "df.iloc[1 : -1, 1:-1 ] # removing first and last"
   ]
  },
  {
   "cell_type": "code",
   "execution_count": 112,
   "id": "54771eea-4bb3-47f9-8b24-2657837c160b",
   "metadata": {},
   "outputs": [
    {
     "name": "stdout",
     "output_type": "stream",
     "text": [
      "   three\n",
      "0    100\n",
      "1    200\n",
      "2    300\n",
      "3    400\n",
      "   one  two  three  four\n",
      "0    1   10    100  1000\n",
      "1    2   20    200  2000\n",
      "2    3   30    300  3000\n",
      "3    4   40    400  4000\n"
     ]
    }
   ],
   "source": [
    "# you can see index 3 of both row and column has not been added here so 1 was inclusize but 3 is exclusive in the case of ilocs\n",
    "# another example\n",
    "print(df.iloc[:,2:3])\n",
    "print(df.iloc[:,:])"
   ]
  },
  {
   "cell_type": "code",
   "execution_count": 114,
   "id": "35a72adb-b9cb-4a06-9322-3558220396db",
   "metadata": {},
   "outputs": [
    {
     "data": {
      "text/html": [
       "<div>\n",
       "<style scoped>\n",
       "    .dataframe tbody tr th:only-of-type {\n",
       "        vertical-align: middle;\n",
       "    }\n",
       "\n",
       "    .dataframe tbody tr th {\n",
       "        vertical-align: top;\n",
       "    }\n",
       "\n",
       "    .dataframe thead th {\n",
       "        text-align: right;\n",
       "    }\n",
       "</style>\n",
       "<table border=\"1\" class=\"dataframe\">\n",
       "  <thead>\n",
       "    <tr style=\"text-align: right;\">\n",
       "      <th></th>\n",
       "      <th>two</th>\n",
       "      <th>four</th>\n",
       "    </tr>\n",
       "  </thead>\n",
       "  <tbody>\n",
       "    <tr>\n",
       "      <th>0</th>\n",
       "      <td>10</td>\n",
       "      <td>1000</td>\n",
       "    </tr>\n",
       "    <tr>\n",
       "      <th>2</th>\n",
       "      <td>30</td>\n",
       "      <td>3000</td>\n",
       "    </tr>\n",
       "  </tbody>\n",
       "</table>\n",
       "</div>"
      ],
      "text/plain": [
       "   two  four\n",
       "0   10  1000\n",
       "2   30  3000"
      ]
     },
     "execution_count": 114,
     "metadata": {},
     "output_type": "execute_result"
    }
   ],
   "source": [
    "# select specific rows\n",
    "df.iloc[[0,2],[1,3]]"
   ]
  },
  {
   "cell_type": "markdown",
   "id": "1d99c76d-3af6-4952-abf5-e204e1964e44",
   "metadata": {},
   "source": [
    "#### slicing based on conditions"
   ]
  },
  {
   "cell_type": "code",
   "execution_count": 117,
   "id": "2ed351f6-f18c-4d5d-916a-88a76ff360d2",
   "metadata": {},
   "outputs": [],
   "source": [
    "#So we could extract only those data for which the value is more than 20\n",
    "#For the columns we have used comma(,) to extract specifc columns which is 'three' and 'four'"
   ]
  },
  {
   "cell_type": "code",
   "execution_count": 119,
   "id": "b0ff3348-eb85-443e-a2dd-c832f9934005",
   "metadata": {},
   "outputs": [
    {
     "data": {
      "text/html": [
       "<div>\n",
       "<style scoped>\n",
       "    .dataframe tbody tr th:only-of-type {\n",
       "        vertical-align: middle;\n",
       "    }\n",
       "\n",
       "    .dataframe tbody tr th {\n",
       "        vertical-align: top;\n",
       "    }\n",
       "\n",
       "    .dataframe thead th {\n",
       "        text-align: right;\n",
       "    }\n",
       "</style>\n",
       "<table border=\"1\" class=\"dataframe\">\n",
       "  <thead>\n",
       "    <tr style=\"text-align: right;\">\n",
       "      <th></th>\n",
       "      <th>three</th>\n",
       "      <th>four</th>\n",
       "    </tr>\n",
       "  </thead>\n",
       "  <tbody>\n",
       "    <tr>\n",
       "      <th>2</th>\n",
       "      <td>300</td>\n",
       "      <td>3000</td>\n",
       "    </tr>\n",
       "    <tr>\n",
       "      <th>3</th>\n",
       "      <td>400</td>\n",
       "      <td>4000</td>\n",
       "    </tr>\n",
       "  </tbody>\n",
       "</table>\n",
       "</div>"
      ],
      "text/plain": [
       "   three  four\n",
       "2    300  3000\n",
       "3    400  4000"
      ]
     },
     "execution_count": 119,
     "metadata": {},
     "output_type": "execute_result"
    }
   ],
   "source": [
    "df.loc[df['two'] > 20, ['three','four']] # Using Conditions works with loc basically"
   ]
  },
  {
   "cell_type": "code",
   "execution_count": 121,
   "id": "1b2c86a9-3b4d-4836-aca0-46f73736bccd",
   "metadata": {},
   "outputs": [
    {
     "data": {
      "text/html": [
       "<div>\n",
       "<style scoped>\n",
       "    .dataframe tbody tr th:only-of-type {\n",
       "        vertical-align: middle;\n",
       "    }\n",
       "\n",
       "    .dataframe tbody tr th {\n",
       "        vertical-align: top;\n",
       "    }\n",
       "\n",
       "    .dataframe thead th {\n",
       "        text-align: right;\n",
       "    }\n",
       "</style>\n",
       "<table border=\"1\" class=\"dataframe\">\n",
       "  <thead>\n",
       "    <tr style=\"text-align: right;\">\n",
       "      <th></th>\n",
       "      <th>one</th>\n",
       "      <th>four</th>\n",
       "    </tr>\n",
       "  </thead>\n",
       "  <tbody>\n",
       "    <tr>\n",
       "      <th>0</th>\n",
       "      <td>1</td>\n",
       "      <td>1000</td>\n",
       "    </tr>\n",
       "    <tr>\n",
       "      <th>1</th>\n",
       "      <td>2</td>\n",
       "      <td>2000</td>\n",
       "    </tr>\n",
       "  </tbody>\n",
       "</table>\n",
       "</div>"
      ],
      "text/plain": [
       "   one  four\n",
       "0    1  1000\n",
       "1    2  2000"
      ]
     },
     "execution_count": 121,
     "metadata": {},
     "output_type": "execute_result"
    }
   ],
   "source": [
    "df.loc[df['three'] < 300, ['one','four']]"
   ]
  },
  {
   "cell_type": "markdown",
   "id": "b885441e-bc5d-42a7-acb4-b7e585954a83",
   "metadata": {},
   "source": [
    "### 3 Column addition"
   ]
  },
  {
   "cell_type": "code",
   "execution_count": 124,
   "id": "c05f6329-d1bf-4ca9-bef5-ad5f9dc437b3",
   "metadata": {},
   "outputs": [
    {
     "data": {
      "text/html": [
       "<div>\n",
       "<style scoped>\n",
       "    .dataframe tbody tr th:only-of-type {\n",
       "        vertical-align: middle;\n",
       "    }\n",
       "\n",
       "    .dataframe tbody tr th {\n",
       "        vertical-align: top;\n",
       "    }\n",
       "\n",
       "    .dataframe thead th {\n",
       "        text-align: right;\n",
       "    }\n",
       "</style>\n",
       "<table border=\"1\" class=\"dataframe\">\n",
       "  <thead>\n",
       "    <tr style=\"text-align: right;\">\n",
       "      <th></th>\n",
       "      <th>one</th>\n",
       "      <th>two</th>\n",
       "      <th>three</th>\n",
       "      <th>four</th>\n",
       "    </tr>\n",
       "  </thead>\n",
       "  <tbody>\n",
       "    <tr>\n",
       "      <th>0</th>\n",
       "      <td>1</td>\n",
       "      <td>10</td>\n",
       "      <td>100</td>\n",
       "      <td>1000</td>\n",
       "    </tr>\n",
       "    <tr>\n",
       "      <th>1</th>\n",
       "      <td>2</td>\n",
       "      <td>20</td>\n",
       "      <td>200</td>\n",
       "      <td>2000</td>\n",
       "    </tr>\n",
       "    <tr>\n",
       "      <th>2</th>\n",
       "      <td>3</td>\n",
       "      <td>30</td>\n",
       "      <td>300</td>\n",
       "      <td>3000</td>\n",
       "    </tr>\n",
       "    <tr>\n",
       "      <th>3</th>\n",
       "      <td>4</td>\n",
       "      <td>40</td>\n",
       "      <td>400</td>\n",
       "      <td>4000</td>\n",
       "    </tr>\n",
       "  </tbody>\n",
       "</table>\n",
       "</div>"
      ],
      "text/plain": [
       "   one  two  three  four\n",
       "0    1   10    100  1000\n",
       "1    2   20    200  2000\n",
       "2    3   30    300  3000\n",
       "3    4   40    400  4000"
      ]
     },
     "execution_count": 124,
     "metadata": {},
     "output_type": "execute_result"
    }
   ],
   "source": [
    "df"
   ]
  },
  {
   "cell_type": "markdown",
   "id": "2e2562a3-8cc5-41f6-b980-32e1f1cfa532",
   "metadata": {},
   "source": [
    "We can add a column in many ways. Let us discuss three ways how we can add column here\n",
    "\n",
    "- Using List \n",
    "- Using Pandas Series\n",
    "- Using an existing Column (we can modify that column in the way we want and that modified part can also be displayed)"
   ]
  },
  {
   "cell_type": "code",
   "execution_count": 127,
   "id": "cf4c6655-a604-4413-ab7c-3a3fe65a915c",
   "metadata": {},
   "outputs": [
    {
     "data": {
      "text/html": [
       "<div>\n",
       "<style scoped>\n",
       "    .dataframe tbody tr th:only-of-type {\n",
       "        vertical-align: middle;\n",
       "    }\n",
       "\n",
       "    .dataframe tbody tr th {\n",
       "        vertical-align: top;\n",
       "    }\n",
       "\n",
       "    .dataframe thead th {\n",
       "        text-align: right;\n",
       "    }\n",
       "</style>\n",
       "<table border=\"1\" class=\"dataframe\">\n",
       "  <thead>\n",
       "    <tr style=\"text-align: right;\">\n",
       "      <th></th>\n",
       "      <th>one</th>\n",
       "      <th>two</th>\n",
       "      <th>three</th>\n",
       "      <th>four</th>\n",
       "      <th>five</th>\n",
       "    </tr>\n",
       "  </thead>\n",
       "  <tbody>\n",
       "    <tr>\n",
       "      <th>0</th>\n",
       "      <td>1</td>\n",
       "      <td>10</td>\n",
       "      <td>100</td>\n",
       "      <td>1000</td>\n",
       "      <td>22</td>\n",
       "    </tr>\n",
       "    <tr>\n",
       "      <th>1</th>\n",
       "      <td>2</td>\n",
       "      <td>20</td>\n",
       "      <td>200</td>\n",
       "      <td>2000</td>\n",
       "      <td>33</td>\n",
       "    </tr>\n",
       "    <tr>\n",
       "      <th>2</th>\n",
       "      <td>3</td>\n",
       "      <td>30</td>\n",
       "      <td>300</td>\n",
       "      <td>3000</td>\n",
       "      <td>44</td>\n",
       "    </tr>\n",
       "    <tr>\n",
       "      <th>3</th>\n",
       "      <td>4</td>\n",
       "      <td>40</td>\n",
       "      <td>400</td>\n",
       "      <td>4000</td>\n",
       "      <td>55</td>\n",
       "    </tr>\n",
       "  </tbody>\n",
       "</table>\n",
       "</div>"
      ],
      "text/plain": [
       "   one  two  three  four  five\n",
       "0    1   10    100  1000    22\n",
       "1    2   20    200  2000    33\n",
       "2    3   30    300  3000    44\n",
       "3    4   40    400  4000    55"
      ]
     },
     "execution_count": 127,
     "metadata": {},
     "output_type": "execute_result"
    }
   ],
   "source": [
    "l = [22,33,44,55]   # using list\n",
    "df['five'] = l\n",
    "df"
   ]
  },
  {
   "cell_type": "code",
   "execution_count": 129,
   "id": "c083321f-1174-4a83-9d42-281713401615",
   "metadata": {},
   "outputs": [
    {
     "data": {
      "text/html": [
       "<div>\n",
       "<style scoped>\n",
       "    .dataframe tbody tr th:only-of-type {\n",
       "        vertical-align: middle;\n",
       "    }\n",
       "\n",
       "    .dataframe tbody tr th {\n",
       "        vertical-align: top;\n",
       "    }\n",
       "\n",
       "    .dataframe thead th {\n",
       "        text-align: right;\n",
       "    }\n",
       "</style>\n",
       "<table border=\"1\" class=\"dataframe\">\n",
       "  <thead>\n",
       "    <tr style=\"text-align: right;\">\n",
       "      <th></th>\n",
       "      <th>one</th>\n",
       "      <th>two</th>\n",
       "      <th>three</th>\n",
       "      <th>four</th>\n",
       "      <th>five</th>\n",
       "      <th>six</th>\n",
       "    </tr>\n",
       "  </thead>\n",
       "  <tbody>\n",
       "    <tr>\n",
       "      <th>0</th>\n",
       "      <td>1</td>\n",
       "      <td>10</td>\n",
       "      <td>100</td>\n",
       "      <td>1000</td>\n",
       "      <td>22</td>\n",
       "      <td>11</td>\n",
       "    </tr>\n",
       "    <tr>\n",
       "      <th>1</th>\n",
       "      <td>2</td>\n",
       "      <td>20</td>\n",
       "      <td>200</td>\n",
       "      <td>2000</td>\n",
       "      <td>33</td>\n",
       "      <td>222</td>\n",
       "    </tr>\n",
       "    <tr>\n",
       "      <th>2</th>\n",
       "      <td>3</td>\n",
       "      <td>30</td>\n",
       "      <td>300</td>\n",
       "      <td>3000</td>\n",
       "      <td>44</td>\n",
       "      <td>333</td>\n",
       "    </tr>\n",
       "    <tr>\n",
       "      <th>3</th>\n",
       "      <td>4</td>\n",
       "      <td>40</td>\n",
       "      <td>400</td>\n",
       "      <td>4000</td>\n",
       "      <td>55</td>\n",
       "      <td>222</td>\n",
       "    </tr>\n",
       "  </tbody>\n",
       "</table>\n",
       "</div>"
      ],
      "text/plain": [
       "   one  two  three  four  five  six\n",
       "0    1   10    100  1000    22   11\n",
       "1    2   20    200  2000    33  222\n",
       "2    3   30    300  3000    44  333\n",
       "3    4   40    400  4000    55  222"
      ]
     },
     "execution_count": 129,
     "metadata": {},
     "output_type": "execute_result"
    }
   ],
   "source": [
    "sr = pd.Series([11,222,333,222])  # using pandas series\n",
    "df['six'] = sr\n",
    "df"
   ]
  },
  {
   "cell_type": "code",
   "execution_count": 131,
   "id": "ddffc76f-c965-4805-b268-67efe1564027",
   "metadata": {},
   "outputs": [
    {
     "data": {
      "text/html": [
       "<div>\n",
       "<style scoped>\n",
       "    .dataframe tbody tr th:only-of-type {\n",
       "        vertical-align: middle;\n",
       "    }\n",
       "\n",
       "    .dataframe tbody tr th {\n",
       "        vertical-align: top;\n",
       "    }\n",
       "\n",
       "    .dataframe thead th {\n",
       "        text-align: right;\n",
       "    }\n",
       "</style>\n",
       "<table border=\"1\" class=\"dataframe\">\n",
       "  <thead>\n",
       "    <tr style=\"text-align: right;\">\n",
       "      <th></th>\n",
       "      <th>one</th>\n",
       "      <th>two</th>\n",
       "      <th>three</th>\n",
       "      <th>four</th>\n",
       "      <th>five</th>\n",
       "      <th>six</th>\n",
       "      <th>seven</th>\n",
       "    </tr>\n",
       "  </thead>\n",
       "  <tbody>\n",
       "    <tr>\n",
       "      <th>0</th>\n",
       "      <td>1</td>\n",
       "      <td>10</td>\n",
       "      <td>100</td>\n",
       "      <td>1000</td>\n",
       "      <td>22</td>\n",
       "      <td>11</td>\n",
       "      <td>20</td>\n",
       "    </tr>\n",
       "    <tr>\n",
       "      <th>1</th>\n",
       "      <td>2</td>\n",
       "      <td>20</td>\n",
       "      <td>200</td>\n",
       "      <td>2000</td>\n",
       "      <td>33</td>\n",
       "      <td>222</td>\n",
       "      <td>40</td>\n",
       "    </tr>\n",
       "    <tr>\n",
       "      <th>2</th>\n",
       "      <td>3</td>\n",
       "      <td>30</td>\n",
       "      <td>300</td>\n",
       "      <td>3000</td>\n",
       "      <td>44</td>\n",
       "      <td>333</td>\n",
       "      <td>60</td>\n",
       "    </tr>\n",
       "    <tr>\n",
       "      <th>3</th>\n",
       "      <td>4</td>\n",
       "      <td>40</td>\n",
       "      <td>400</td>\n",
       "      <td>4000</td>\n",
       "      <td>55</td>\n",
       "      <td>222</td>\n",
       "      <td>80</td>\n",
       "    </tr>\n",
       "  </tbody>\n",
       "</table>\n",
       "</div>"
      ],
      "text/plain": [
       "   one  two  three  four  five  six  seven\n",
       "0    1   10    100  1000    22   11     20\n",
       "1    2   20    200  2000    33  222     40\n",
       "2    3   30    300  3000    44  333     60\n",
       "3    4   40    400  4000    55  222     80"
      ]
     },
     "execution_count": 131,
     "metadata": {},
     "output_type": "execute_result"
    }
   ],
   "source": [
    "df['seven'] = df['one'] * 20\n",
    "df"
   ]
  },
  {
   "cell_type": "markdown",
   "id": "a9a37454-3a0e-42d0-8816-8f35d557d9e2",
   "metadata": {},
   "source": [
    "### 4 Column deletion"
   ]
  },
  {
   "cell_type": "code",
   "execution_count": 134,
   "id": "29978c54-cc65-4ad7-80fc-e0c28a6fc5ec",
   "metadata": {},
   "outputs": [
    {
     "data": {
      "text/html": [
       "<div>\n",
       "<style scoped>\n",
       "    .dataframe tbody tr th:only-of-type {\n",
       "        vertical-align: middle;\n",
       "    }\n",
       "\n",
       "    .dataframe tbody tr th {\n",
       "        vertical-align: top;\n",
       "    }\n",
       "\n",
       "    .dataframe thead th {\n",
       "        text-align: right;\n",
       "    }\n",
       "</style>\n",
       "<table border=\"1\" class=\"dataframe\">\n",
       "  <thead>\n",
       "    <tr style=\"text-align: right;\">\n",
       "      <th></th>\n",
       "      <th>one</th>\n",
       "      <th>two</th>\n",
       "      <th>three</th>\n",
       "      <th>four</th>\n",
       "      <th>five</th>\n",
       "      <th>seven</th>\n",
       "    </tr>\n",
       "  </thead>\n",
       "  <tbody>\n",
       "    <tr>\n",
       "      <th>0</th>\n",
       "      <td>1</td>\n",
       "      <td>10</td>\n",
       "      <td>100</td>\n",
       "      <td>1000</td>\n",
       "      <td>22</td>\n",
       "      <td>20</td>\n",
       "    </tr>\n",
       "    <tr>\n",
       "      <th>1</th>\n",
       "      <td>2</td>\n",
       "      <td>20</td>\n",
       "      <td>200</td>\n",
       "      <td>2000</td>\n",
       "      <td>33</td>\n",
       "      <td>40</td>\n",
       "    </tr>\n",
       "    <tr>\n",
       "      <th>2</th>\n",
       "      <td>3</td>\n",
       "      <td>30</td>\n",
       "      <td>300</td>\n",
       "      <td>3000</td>\n",
       "      <td>44</td>\n",
       "      <td>60</td>\n",
       "    </tr>\n",
       "    <tr>\n",
       "      <th>3</th>\n",
       "      <td>4</td>\n",
       "      <td>40</td>\n",
       "      <td>400</td>\n",
       "      <td>4000</td>\n",
       "      <td>55</td>\n",
       "      <td>80</td>\n",
       "    </tr>\n",
       "  </tbody>\n",
       "</table>\n",
       "</div>"
      ],
      "text/plain": [
       "   one  two  three  four  five  seven\n",
       "0    1   10    100  1000    22     20\n",
       "1    2   20    200  2000    33     40\n",
       "2    3   30    300  3000    44     60\n",
       "3    4   40    400  4000    55     80"
      ]
     },
     "execution_count": 134,
     "metadata": {},
     "output_type": "execute_result"
    }
   ],
   "source": [
    "# using del\n",
    "del df['six']\n",
    "df"
   ]
  },
  {
   "cell_type": "code",
   "execution_count": 136,
   "id": "eb0cb536-bd27-4ca3-b68e-b6974e3c3f70",
   "metadata": {},
   "outputs": [
    {
     "data": {
      "text/html": [
       "<div>\n",
       "<style scoped>\n",
       "    .dataframe tbody tr th:only-of-type {\n",
       "        vertical-align: middle;\n",
       "    }\n",
       "\n",
       "    .dataframe tbody tr th {\n",
       "        vertical-align: top;\n",
       "    }\n",
       "\n",
       "    .dataframe thead th {\n",
       "        text-align: right;\n",
       "    }\n",
       "</style>\n",
       "<table border=\"1\" class=\"dataframe\">\n",
       "  <thead>\n",
       "    <tr style=\"text-align: right;\">\n",
       "      <th></th>\n",
       "      <th>one</th>\n",
       "      <th>two</th>\n",
       "      <th>three</th>\n",
       "      <th>four</th>\n",
       "      <th>seven</th>\n",
       "    </tr>\n",
       "  </thead>\n",
       "  <tbody>\n",
       "    <tr>\n",
       "      <th>0</th>\n",
       "      <td>1</td>\n",
       "      <td>10</td>\n",
       "      <td>100</td>\n",
       "      <td>1000</td>\n",
       "      <td>20</td>\n",
       "    </tr>\n",
       "    <tr>\n",
       "      <th>1</th>\n",
       "      <td>2</td>\n",
       "      <td>20</td>\n",
       "      <td>200</td>\n",
       "      <td>2000</td>\n",
       "      <td>40</td>\n",
       "    </tr>\n",
       "    <tr>\n",
       "      <th>2</th>\n",
       "      <td>3</td>\n",
       "      <td>30</td>\n",
       "      <td>300</td>\n",
       "      <td>3000</td>\n",
       "      <td>60</td>\n",
       "    </tr>\n",
       "    <tr>\n",
       "      <th>3</th>\n",
       "      <td>4</td>\n",
       "      <td>40</td>\n",
       "      <td>400</td>\n",
       "      <td>4000</td>\n",
       "      <td>80</td>\n",
       "    </tr>\n",
       "  </tbody>\n",
       "</table>\n",
       "</div>"
      ],
      "text/plain": [
       "   one  two  three  four  seven\n",
       "0    1   10    100  1000     20\n",
       "1    2   20    200  2000     40\n",
       "2    3   30    300  3000     60\n",
       "3    4   40    400  4000     80"
      ]
     },
     "execution_count": 136,
     "metadata": {},
     "output_type": "execute_result"
    }
   ],
   "source": [
    "# using pop\n",
    "df.pop('five')\n",
    "\n",
    "df"
   ]
  },
  {
   "cell_type": "markdown",
   "id": "516e3a8b-a12a-4164-a4da-76bd70c0c3f7",
   "metadata": {},
   "source": [
    "### 5 Adding of rows"
   ]
  },
  {
   "cell_type": "markdown",
   "id": "a4182f40-cdb7-4495-8e56-a4eeccf205bf",
   "metadata": {},
   "source": [
    "##### In a Pandas DataFrame, you can add rows by using the concat method. You can also create a new DataFrame with the desired row values and use the concat to add the new row to the original dataframe. Here's an example of adding a single row to a dataframe:"
   ]
  },
  {
   "cell_type": "code",
   "execution_count": 140,
   "id": "e1adf3d1-409d-4813-b9ee-09c1f3054a7c",
   "metadata": {},
   "outputs": [],
   "source": [
    "df1 = pd.DataFrame([[1, 2], [3, 4]], columns = ['a','b'])\n",
    "df2 = pd.DataFrame([[5, 6], [7, 8]], columns = ['a','b'])"
   ]
  },
  {
   "cell_type": "code",
   "execution_count": 147,
   "id": "d6e8b748-5429-4e31-95c1-b16b9b9c5cdb",
   "metadata": {},
   "outputs": [
    {
     "data": {
      "text/html": [
       "<div>\n",
       "<style scoped>\n",
       "    .dataframe tbody tr th:only-of-type {\n",
       "        vertical-align: middle;\n",
       "    }\n",
       "\n",
       "    .dataframe tbody tr th {\n",
       "        vertical-align: top;\n",
       "    }\n",
       "\n",
       "    .dataframe thead th {\n",
       "        text-align: right;\n",
       "    }\n",
       "</style>\n",
       "<table border=\"1\" class=\"dataframe\">\n",
       "  <thead>\n",
       "    <tr style=\"text-align: right;\">\n",
       "      <th></th>\n",
       "      <th>a</th>\n",
       "      <th>b</th>\n",
       "    </tr>\n",
       "  </thead>\n",
       "  <tbody>\n",
       "    <tr>\n",
       "      <th>0</th>\n",
       "      <td>1</td>\n",
       "      <td>2</td>\n",
       "    </tr>\n",
       "    <tr>\n",
       "      <th>1</th>\n",
       "      <td>3</td>\n",
       "      <td>4</td>\n",
       "    </tr>\n",
       "    <tr>\n",
       "      <th>2</th>\n",
       "      <td>5</td>\n",
       "      <td>6</td>\n",
       "    </tr>\n",
       "    <tr>\n",
       "      <th>3</th>\n",
       "      <td>7</td>\n",
       "      <td>8</td>\n",
       "    </tr>\n",
       "  </tbody>\n",
       "</table>\n",
       "</div>"
      ],
      "text/plain": [
       "   a  b\n",
       "0  1  2\n",
       "1  3  4\n",
       "2  5  6\n",
       "3  7  8"
      ]
     },
     "execution_count": 147,
     "metadata": {},
     "output_type": "execute_result"
    }
   ],
   "source": [
    "df3 = pd.concat([df1,df2], ignore_index=True)\n",
    "\n",
    "df3"
   ]
  },
  {
   "cell_type": "markdown",
   "id": "7726acb6-26a8-403b-9b36-654aaa61d7ad",
   "metadata": {},
   "source": [
    "### 6 Pandas drop function"
   ]
  },
  {
   "cell_type": "markdown",
   "id": "a06032a0-7dbb-4fa6-918d-5efc3767e3f8",
   "metadata": {},
   "source": [
    "Python is a great language for doing data analysis, primarily because of the fantastic ecosystem of data-centric Python packages. Pandas is one of those packages and makes importing and analyzing data much easier.\n",
    "\n",
    "Pandas provide data analysts a way to delete and filter data frame using .drop() method. Rows or columns can be removed using index label or column name using this method.\n",
    "\n",
    "Syntax: DataFrame.drop(labels=None, axis=0, index=None, columns=None, level=None, inplace=False, errors=’raise’)\n",
    "\n",
    "Parameters:\n",
    "\n",
    "labels: String or list of strings referring row or column name. axis: int or string value, 0 ‘index’ for Rows and 1 ‘columns’ for Columns. index or columns: Single label or list. index or columns are an alternative to axis and cannot be used together. level: Used to specify level in case data frame is having multiple level index. inplace: Makes changes in original Data Frame if True. errors: Ignores error if any value from the list doesn’t exists and drops rest of the values when errors = ‘ignore’\n",
    "\n",
    "Return type: Dataframe with dropped values"
   ]
  },
  {
   "cell_type": "code",
   "execution_count": 181,
   "id": "77fa3b77-4d89-43b1-af8e-1ff9fc85af7d",
   "metadata": {},
   "outputs": [
    {
     "data": {
      "text/html": [
       "<div>\n",
       "<style scoped>\n",
       "    .dataframe tbody tr th:only-of-type {\n",
       "        vertical-align: middle;\n",
       "    }\n",
       "\n",
       "    .dataframe tbody tr th {\n",
       "        vertical-align: top;\n",
       "    }\n",
       "\n",
       "    .dataframe thead th {\n",
       "        text-align: right;\n",
       "    }\n",
       "</style>\n",
       "<table border=\"1\" class=\"dataframe\">\n",
       "  <thead>\n",
       "    <tr style=\"text-align: right;\">\n",
       "      <th></th>\n",
       "      <th>one</th>\n",
       "      <th>two</th>\n",
       "      <th>three</th>\n",
       "      <th>four</th>\n",
       "    </tr>\n",
       "  </thead>\n",
       "  <tbody>\n",
       "    <tr>\n",
       "      <th>0</th>\n",
       "      <td>1</td>\n",
       "      <td>10</td>\n",
       "      <td>100</td>\n",
       "      <td>1000</td>\n",
       "    </tr>\n",
       "    <tr>\n",
       "      <th>1</th>\n",
       "      <td>2</td>\n",
       "      <td>20</td>\n",
       "      <td>200</td>\n",
       "      <td>2000</td>\n",
       "    </tr>\n",
       "    <tr>\n",
       "      <th>2</th>\n",
       "      <td>3</td>\n",
       "      <td>30</td>\n",
       "      <td>300</td>\n",
       "      <td>3000</td>\n",
       "    </tr>\n",
       "    <tr>\n",
       "      <th>3</th>\n",
       "      <td>4</td>\n",
       "      <td>40</td>\n",
       "      <td>400</td>\n",
       "      <td>4000</td>\n",
       "    </tr>\n",
       "  </tbody>\n",
       "</table>\n",
       "</div>"
      ],
      "text/plain": [
       "   one  two  three  four\n",
       "0    1   10    100  1000\n",
       "1    2   20    200  2000\n",
       "2    3   30    300  3000\n",
       "3    4   40    400  4000"
      ]
     },
     "execution_count": 181,
     "metadata": {},
     "output_type": "execute_result"
    }
   ],
   "source": [
    "data = { 'one'   : pd.Series([1, 2, 3, 4]),\n",
    "         'two'   : pd.Series([10, 20, 30, 40]),\n",
    "         'three' : pd.Series([100, 200, 300, 400]),\n",
    "         'four'  : pd.Series([1000, 2000, 3000, 4000])}\n",
    "\n",
    "\n",
    "df = pd.DataFrame(data)\n",
    "df"
   ]
  },
  {
   "cell_type": "code",
   "execution_count": 183,
   "id": "f89b8402-1325-4b51-a5af-d31316a2e136",
   "metadata": {},
   "outputs": [
    {
     "data": {
      "text/html": [
       "<div>\n",
       "<style scoped>\n",
       "    .dataframe tbody tr th:only-of-type {\n",
       "        vertical-align: middle;\n",
       "    }\n",
       "\n",
       "    .dataframe tbody tr th {\n",
       "        vertical-align: top;\n",
       "    }\n",
       "\n",
       "    .dataframe thead th {\n",
       "        text-align: right;\n",
       "    }\n",
       "</style>\n",
       "<table border=\"1\" class=\"dataframe\">\n",
       "  <thead>\n",
       "    <tr style=\"text-align: right;\">\n",
       "      <th></th>\n",
       "      <th>one</th>\n",
       "      <th>two</th>\n",
       "      <th>three</th>\n",
       "      <th>four</th>\n",
       "    </tr>\n",
       "  </thead>\n",
       "  <tbody>\n",
       "    <tr>\n",
       "      <th>2</th>\n",
       "      <td>3</td>\n",
       "      <td>30</td>\n",
       "      <td>300</td>\n",
       "      <td>3000</td>\n",
       "    </tr>\n",
       "    <tr>\n",
       "      <th>3</th>\n",
       "      <td>4</td>\n",
       "      <td>40</td>\n",
       "      <td>400</td>\n",
       "      <td>4000</td>\n",
       "    </tr>\n",
       "  </tbody>\n",
       "</table>\n",
       "</div>"
      ],
      "text/plain": [
       "   one  two  three  four\n",
       "2    3   30    300  3000\n",
       "3    4   40    400  4000"
      ]
     },
     "execution_count": 183,
     "metadata": {},
     "output_type": "execute_result"
    }
   ],
   "source": [
    "df.drop([0,1], axis = 0, inplace = True) #axis =0 => Rows (row wise) and inplace = True used for saving the dataframe\n",
    "df"
   ]
  },
  {
   "cell_type": "code",
   "execution_count": 185,
   "id": "7ccfaf8b-61ae-406b-a09c-982c94448fd4",
   "metadata": {},
   "outputs": [
    {
     "data": {
      "text/html": [
       "<div>\n",
       "<style scoped>\n",
       "    .dataframe tbody tr th:only-of-type {\n",
       "        vertical-align: middle;\n",
       "    }\n",
       "\n",
       "    .dataframe tbody tr th {\n",
       "        vertical-align: top;\n",
       "    }\n",
       "\n",
       "    .dataframe thead th {\n",
       "        text-align: right;\n",
       "    }\n",
       "</style>\n",
       "<table border=\"1\" class=\"dataframe\">\n",
       "  <thead>\n",
       "    <tr style=\"text-align: right;\">\n",
       "      <th></th>\n",
       "      <th>two</th>\n",
       "      <th>four</th>\n",
       "    </tr>\n",
       "  </thead>\n",
       "  <tbody>\n",
       "    <tr>\n",
       "      <th>2</th>\n",
       "      <td>30</td>\n",
       "      <td>3000</td>\n",
       "    </tr>\n",
       "    <tr>\n",
       "      <th>3</th>\n",
       "      <td>40</td>\n",
       "      <td>4000</td>\n",
       "    </tr>\n",
       "  </tbody>\n",
       "</table>\n",
       "</div>"
      ],
      "text/plain": [
       "   two  four\n",
       "2   30  3000\n",
       "3   40  4000"
      ]
     },
     "execution_count": 185,
     "metadata": {},
     "output_type": "execute_result"
    }
   ],
   "source": [
    "df.drop(['one','three'], axis = 1, inplace = True) #axis =1 => Columns (column wise) and inplace = True used for saving the dataframe\n",
    "df"
   ]
  },
  {
   "cell_type": "markdown",
   "id": "4f0e52be-90e9-4db9-8f2e-53a496bf1bac",
   "metadata": {},
   "source": [
    "### 7 Transpose of a dataframe"
   ]
  },
  {
   "cell_type": "code",
   "execution_count": 188,
   "id": "a48788f0-200a-472b-8166-38b7ee67cbba",
   "metadata": {},
   "outputs": [
    {
     "data": {
      "text/html": [
       "<div>\n",
       "<style scoped>\n",
       "    .dataframe tbody tr th:only-of-type {\n",
       "        vertical-align: middle;\n",
       "    }\n",
       "\n",
       "    .dataframe tbody tr th {\n",
       "        vertical-align: top;\n",
       "    }\n",
       "\n",
       "    .dataframe thead th {\n",
       "        text-align: right;\n",
       "    }\n",
       "</style>\n",
       "<table border=\"1\" class=\"dataframe\">\n",
       "  <thead>\n",
       "    <tr style=\"text-align: right;\">\n",
       "      <th></th>\n",
       "      <th>one</th>\n",
       "      <th>two</th>\n",
       "      <th>three</th>\n",
       "      <th>four</th>\n",
       "    </tr>\n",
       "  </thead>\n",
       "  <tbody>\n",
       "    <tr>\n",
       "      <th>0</th>\n",
       "      <td>1</td>\n",
       "      <td>10</td>\n",
       "      <td>100</td>\n",
       "      <td>1000</td>\n",
       "    </tr>\n",
       "    <tr>\n",
       "      <th>1</th>\n",
       "      <td>2</td>\n",
       "      <td>20</td>\n",
       "      <td>200</td>\n",
       "      <td>2000</td>\n",
       "    </tr>\n",
       "    <tr>\n",
       "      <th>2</th>\n",
       "      <td>3</td>\n",
       "      <td>30</td>\n",
       "      <td>300</td>\n",
       "      <td>3000</td>\n",
       "    </tr>\n",
       "    <tr>\n",
       "      <th>3</th>\n",
       "      <td>4</td>\n",
       "      <td>40</td>\n",
       "      <td>400</td>\n",
       "      <td>4000</td>\n",
       "    </tr>\n",
       "  </tbody>\n",
       "</table>\n",
       "</div>"
      ],
      "text/plain": [
       "   one  two  three  four\n",
       "0    1   10    100  1000\n",
       "1    2   20    200  2000\n",
       "2    3   30    300  3000\n",
       "3    4   40    400  4000"
      ]
     },
     "execution_count": 188,
     "metadata": {},
     "output_type": "execute_result"
    }
   ],
   "source": [
    "data = { 'one'   : pd.Series([1, 2, 3, 4]),\n",
    "         'two'   : pd.Series([10, 20, 30, 40]),\n",
    "         'three' : pd.Series([100, 200, 300, 400]),\n",
    "         'four'  : pd.Series([1000, 2000, 3000, 4000])}\n",
    "\n",
    "df = pd.DataFrame(data)\n",
    "df"
   ]
  },
  {
   "cell_type": "code",
   "execution_count": 191,
   "id": "6d7a045c-cb75-4f62-a209-fdc573f21545",
   "metadata": {},
   "outputs": [
    {
     "data": {
      "text/html": [
       "<div>\n",
       "<style scoped>\n",
       "    .dataframe tbody tr th:only-of-type {\n",
       "        vertical-align: middle;\n",
       "    }\n",
       "\n",
       "    .dataframe tbody tr th {\n",
       "        vertical-align: top;\n",
       "    }\n",
       "\n",
       "    .dataframe thead th {\n",
       "        text-align: right;\n",
       "    }\n",
       "</style>\n",
       "<table border=\"1\" class=\"dataframe\">\n",
       "  <thead>\n",
       "    <tr style=\"text-align: right;\">\n",
       "      <th></th>\n",
       "      <th>0</th>\n",
       "      <th>1</th>\n",
       "      <th>2</th>\n",
       "      <th>3</th>\n",
       "    </tr>\n",
       "  </thead>\n",
       "  <tbody>\n",
       "    <tr>\n",
       "      <th>one</th>\n",
       "      <td>1</td>\n",
       "      <td>2</td>\n",
       "      <td>3</td>\n",
       "      <td>4</td>\n",
       "    </tr>\n",
       "    <tr>\n",
       "      <th>two</th>\n",
       "      <td>10</td>\n",
       "      <td>20</td>\n",
       "      <td>30</td>\n",
       "      <td>40</td>\n",
       "    </tr>\n",
       "    <tr>\n",
       "      <th>three</th>\n",
       "      <td>100</td>\n",
       "      <td>200</td>\n",
       "      <td>300</td>\n",
       "      <td>400</td>\n",
       "    </tr>\n",
       "    <tr>\n",
       "      <th>four</th>\n",
       "      <td>1000</td>\n",
       "      <td>2000</td>\n",
       "      <td>3000</td>\n",
       "      <td>4000</td>\n",
       "    </tr>\n",
       "  </tbody>\n",
       "</table>\n",
       "</div>"
      ],
      "text/plain": [
       "          0     1     2     3\n",
       "one       1     2     3     4\n",
       "two      10    20    30    40\n",
       "three   100   200   300   400\n",
       "four   1000  2000  3000  4000"
      ]
     },
     "execution_count": 191,
     "metadata": {},
     "output_type": "execute_result"
    }
   ],
   "source": [
    "df.T"
   ]
  },
  {
   "cell_type": "markdown",
   "id": "e4808a8d-330e-4a00-b297-80bcb623b0c8",
   "metadata": {},
   "source": [
    "### 8 DataFrame different functionalities"
   ]
  },
  {
   "cell_type": "markdown",
   "id": "add483e0-73e9-47d7-8f1a-e302291fc728",
   "metadata": {},
   "source": [
    "- **Axes function**\n",
    "- The .axes attribute in a Pandas DataFrame returns a list with the row and column labels of the DataFrame. The first element of the list is the row labels (index), and the second element is the column labels."
   ]
  },
  {
   "cell_type": "code",
   "execution_count": 219,
   "id": "29a9237e-0531-41ac-a532-6bbd2e299cdb",
   "metadata": {},
   "outputs": [
    {
     "data": {
      "text/html": [
       "<div>\n",
       "<style scoped>\n",
       "    .dataframe tbody tr th:only-of-type {\n",
       "        vertical-align: middle;\n",
       "    }\n",
       "\n",
       "    .dataframe tbody tr th {\n",
       "        vertical-align: top;\n",
       "    }\n",
       "\n",
       "    .dataframe thead th {\n",
       "        text-align: right;\n",
       "    }\n",
       "</style>\n",
       "<table border=\"1\" class=\"dataframe\">\n",
       "  <thead>\n",
       "    <tr style=\"text-align: right;\">\n",
       "      <th></th>\n",
       "      <th>one</th>\n",
       "      <th>two</th>\n",
       "      <th>three</th>\n",
       "      <th>four</th>\n",
       "    </tr>\n",
       "  </thead>\n",
       "  <tbody>\n",
       "    <tr>\n",
       "      <th>0</th>\n",
       "      <td>1</td>\n",
       "      <td>10</td>\n",
       "      <td>100</td>\n",
       "      <td>1000</td>\n",
       "    </tr>\n",
       "    <tr>\n",
       "      <th>1</th>\n",
       "      <td>2</td>\n",
       "      <td>20</td>\n",
       "      <td>200</td>\n",
       "      <td>2000</td>\n",
       "    </tr>\n",
       "    <tr>\n",
       "      <th>2</th>\n",
       "      <td>3</td>\n",
       "      <td>30</td>\n",
       "      <td>300</td>\n",
       "      <td>3000</td>\n",
       "    </tr>\n",
       "    <tr>\n",
       "      <th>3</th>\n",
       "      <td>4</td>\n",
       "      <td>40</td>\n",
       "      <td>400</td>\n",
       "      <td>4000</td>\n",
       "    </tr>\n",
       "  </tbody>\n",
       "</table>\n",
       "</div>"
      ],
      "text/plain": [
       "   one  two  three  four\n",
       "0    1   10    100  1000\n",
       "1    2   20    200  2000\n",
       "2    3   30    300  3000\n",
       "3    4   40    400  4000"
      ]
     },
     "execution_count": 219,
     "metadata": {},
     "output_type": "execute_result"
    }
   ],
   "source": [
    "df"
   ]
  },
  {
   "cell_type": "code",
   "execution_count": 221,
   "id": "28f23285-7214-42ed-8a15-726f5c2af50f",
   "metadata": {},
   "outputs": [
    {
     "data": {
      "text/plain": [
       "[RangeIndex(start=0, stop=4, step=1),\n",
       " Index(['one', 'two', 'three', 'four'], dtype='object')]"
      ]
     },
     "execution_count": 221,
     "metadata": {},
     "output_type": "execute_result"
    }
   ],
   "source": [
    "df.axes"
   ]
  },
  {
   "cell_type": "markdown",
   "id": "1ea3817b-51d3-48ec-a1a6-07324aa41156",
   "metadata": {},
   "source": [
    "- **Ndim function**\n",
    "- The .ndim attribute in a Pandas DataFrame returns the number of dimensions of the dataframe, which is always 2 for a DataFrame (row-and-column format).\n",
    "\n"
   ]
  },
  {
   "cell_type": "code",
   "execution_count": 224,
   "id": "2165e896-169b-44cd-9c8d-49fd2f94984e",
   "metadata": {},
   "outputs": [
    {
     "data": {
      "text/plain": [
       "2"
      ]
     },
     "execution_count": 224,
     "metadata": {},
     "output_type": "execute_result"
    }
   ],
   "source": [
    "df.ndim"
   ]
  },
  {
   "cell_type": "markdown",
   "id": "ef56ceef-ddcc-4f39-81b1-973ea5b9cb86",
   "metadata": {},
   "source": [
    "- **dtypes function**\n",
    "- The .dtypes attribute in a Pandas DataFrame returns the data types of the columns in the DataFrame. The result is a Series with the column names as index and the data types of the columns as values."
   ]
  },
  {
   "cell_type": "code",
   "execution_count": 238,
   "id": "b476b3a3-a9ce-41b4-8834-c30110876df9",
   "metadata": {},
   "outputs": [
    {
     "data": {
      "text/plain": [
       "one      int64\n",
       "two      int64\n",
       "three    int64\n",
       "four     int64\n",
       "dtype: object"
      ]
     },
     "execution_count": 238,
     "metadata": {},
     "output_type": "execute_result"
    }
   ],
   "source": [
    "df.dtypes"
   ]
  },
  {
   "cell_type": "markdown",
   "id": "af2c025d-b814-403a-8ca6-125c7e9df52a",
   "metadata": {},
   "source": [
    "- **shape function**\n",
    "- The .shape attribute in a Pandas DataFrame returns the dimensions (number of rows, number of columns) of the DataFrame as a tuple."
   ]
  },
  {
   "cell_type": "code",
   "execution_count": 242,
   "id": "f072bc11-09ad-4e67-b230-308baf3ffda0",
   "metadata": {},
   "outputs": [
    {
     "data": {
      "text/plain": [
       "(4, 4)"
      ]
     },
     "execution_count": 242,
     "metadata": {},
     "output_type": "execute_result"
    }
   ],
   "source": [
    "df.shape"
   ]
  },
  {
   "cell_type": "markdown",
   "id": "05ec44af-16e3-4379-9656-57043d1d79b0",
   "metadata": {},
   "source": [
    "- **head() function**\n",
    "- The .head() method in a Pandas DataFrame returns the first n rows (by default, n=5) of the DataFrame. This method is useful for quickly examining the first few rows of a large DataFrame to get a sense of its structure and content."
   ]
  },
  {
   "cell_type": "code",
   "execution_count": 263,
   "id": "8aac7e1b-6442-473a-bd69-1a943c50b271",
   "metadata": {},
   "outputs": [
    {
     "data": {
      "text/html": [
       "<div>\n",
       "<style scoped>\n",
       "    .dataframe tbody tr th:only-of-type {\n",
       "        vertical-align: middle;\n",
       "    }\n",
       "\n",
       "    .dataframe tbody tr th {\n",
       "        vertical-align: top;\n",
       "    }\n",
       "\n",
       "    .dataframe thead th {\n",
       "        text-align: right;\n",
       "    }\n",
       "</style>\n",
       "<table border=\"1\" class=\"dataframe\">\n",
       "  <thead>\n",
       "    <tr style=\"text-align: right;\">\n",
       "      <th></th>\n",
       "      <th>Name</th>\n",
       "      <th>Age</th>\n",
       "      <th>Height</th>\n",
       "    </tr>\n",
       "  </thead>\n",
       "  <tbody>\n",
       "    <tr>\n",
       "      <th>0</th>\n",
       "      <td>Tom</td>\n",
       "      <td>10</td>\n",
       "      <td>3.25</td>\n",
       "    </tr>\n",
       "    <tr>\n",
       "      <th>1</th>\n",
       "      <td>Jerry</td>\n",
       "      <td>12</td>\n",
       "      <td>1.11</td>\n",
       "    </tr>\n",
       "    <tr>\n",
       "      <th>2</th>\n",
       "      <td>Spike</td>\n",
       "      <td>14</td>\n",
       "      <td>4.12</td>\n",
       "    </tr>\n",
       "    <tr>\n",
       "      <th>3</th>\n",
       "      <td>Popeye</td>\n",
       "      <td>30</td>\n",
       "      <td>5.47</td>\n",
       "    </tr>\n",
       "    <tr>\n",
       "      <th>4</th>\n",
       "      <td>Olive</td>\n",
       "      <td>28</td>\n",
       "      <td>6.15</td>\n",
       "    </tr>\n",
       "    <tr>\n",
       "      <th>5</th>\n",
       "      <td>Bluto</td>\n",
       "      <td>33</td>\n",
       "      <td>6.67</td>\n",
       "    </tr>\n",
       "    <tr>\n",
       "      <th>6</th>\n",
       "      <td>Mickey</td>\n",
       "      <td>15</td>\n",
       "      <td>2.61</td>\n",
       "    </tr>\n",
       "  </tbody>\n",
       "</table>\n",
       "</div>"
      ],
      "text/plain": [
       "     Name  Age  Height\n",
       "0     Tom   10    3.25\n",
       "1   Jerry   12    1.11\n",
       "2   Spike   14    4.12\n",
       "3  Popeye   30    5.47\n",
       "4   Olive   28    6.15\n",
       "5   Bluto   33    6.67\n",
       "6  Mickey   15    2.61"
      ]
     },
     "execution_count": 263,
     "metadata": {},
     "output_type": "execute_result"
    }
   ],
   "source": [
    "d = { 'Name'  :pd.Series(['Tom','Jerry','Spike','Popeye','Olive','Bluto','Mickey']),\n",
    "      'Age'   :pd.Series([10,12,14,30,28,33,15]),\n",
    "      'Height':pd.Series([3.25,1.11,4.12,5.47,6.15,6.67,2.61])}\n",
    "\n",
    "df = pd.DataFrame(d)\n",
    "df"
   ]
  },
  {
   "cell_type": "code",
   "execution_count": 265,
   "id": "a3e49138-7d10-4579-9fe6-62a4e323ece3",
   "metadata": {},
   "outputs": [
    {
     "name": "stdout",
     "output_type": "stream",
     "text": [
      "     Name  Age  Height\n",
      "0     Tom   10    3.25\n",
      "1   Jerry   12    1.11\n",
      "2   Spike   14    4.12\n",
      "3  Popeye   30    5.47\n",
      "4   Olive   28    6.15\n",
      "    Name  Age  Height\n",
      "0    Tom   10    3.25\n",
      "1  Jerry   12    1.11\n",
      "2  Spike   14    4.12\n"
     ]
    }
   ],
   "source": [
    "print(df.head())  # head function is used for 5 values\n",
    "print(df.head(3))"
   ]
  },
  {
   "cell_type": "markdown",
   "id": "cb588e15-8538-42f1-9155-500f311b3589",
   "metadata": {},
   "source": [
    "- **tail function**\n",
    "- The .tail() method in a Pandas DataFrame returns the last n rows (by default, n=5) of the DataFrame. This method is useful for quickly examining the last few rows of a large DataFrame to get a sense of its structure and content."
   ]
  },
  {
   "cell_type": "code",
   "execution_count": 268,
   "id": "740a8d37-5446-4ee1-b3ba-cf6768b1951a",
   "metadata": {},
   "outputs": [
    {
     "name": "stdout",
     "output_type": "stream",
     "text": [
      "     Name  Age  Height\n",
      "2   Spike   14    4.12\n",
      "3  Popeye   30    5.47\n",
      "4   Olive   28    6.15\n",
      "5   Bluto   33    6.67\n",
      "6  Mickey   15    2.61\n",
      "False\n"
     ]
    }
   ],
   "source": [
    "print(df.tail())\n",
    "print(df.empty)"
   ]
  },
  {
   "cell_type": "markdown",
   "id": "203b6804-a7bf-4993-bf45-1f7b73747927",
   "metadata": {},
   "source": [
    "- **Empty function**\n",
    "- The .empty attribute in a Pandas DataFrame returns a Boolean value indicating whether the DataFrame is empty or not. A DataFrame is considered empty if it has no rows."
   ]
  },
  {
   "cell_type": "code",
   "execution_count": 271,
   "id": "e42cd904-3d89-4d58-be2e-a801773af2f2",
   "metadata": {},
   "outputs": [
    {
     "data": {
      "text/plain": [
       "True"
      ]
     },
     "execution_count": 271,
     "metadata": {},
     "output_type": "execute_result"
    }
   ],
   "source": [
    "df = pd.DataFrame()\n",
    "\n",
    "df.empty"
   ]
  },
  {
   "cell_type": "markdown",
   "id": "0aa082e2-b8bc-4f12-94fd-78249a287596",
   "metadata": {},
   "source": [
    "### 9 Statistical or mathematical function"
   ]
  },
  {
   "cell_type": "markdown",
   "id": "2587c693-0862-48f7-ac2d-a56954a24622",
   "metadata": {},
   "source": [
    "Sum\n",
    "    $\\;\\;\\;\\;\\;\\;$  $\\;\\;\\;\\;\\;\\;$ Mean\n",
    "    $\\;\\;\\;\\;\\;\\;$  $\\;\\;\\;\\;\\;\\;$ Median\n",
    "    $\\;\\;\\;\\;\\;\\;$  $\\;\\;\\;\\;\\;\\;$ Mode\n",
    "    $\\;\\;\\;\\;\\;\\;$  $\\;\\;\\;\\;\\;\\;$ Variance\n",
    "    $\\;\\;\\;\\;\\;\\;$  $\\;\\;\\;\\;\\;\\;$ Min\n",
    "    $\\;\\;\\;\\;\\;\\;$  $\\;\\;\\;\\;\\;\\;$ Max\n",
    "    $\\;\\;\\;\\;\\;\\;$  $\\;\\;\\;\\;\\;\\;$ Standard Deviation"
   ]
  },
  {
   "cell_type": "code",
   "execution_count": 275,
   "id": "44a65110-3f41-4551-96e9-68522817bba2",
   "metadata": {},
   "outputs": [
    {
     "data": {
      "text/html": [
       "<div>\n",
       "<style scoped>\n",
       "    .dataframe tbody tr th:only-of-type {\n",
       "        vertical-align: middle;\n",
       "    }\n",
       "\n",
       "    .dataframe tbody tr th {\n",
       "        vertical-align: top;\n",
       "    }\n",
       "\n",
       "    .dataframe thead th {\n",
       "        text-align: right;\n",
       "    }\n",
       "</style>\n",
       "<table border=\"1\" class=\"dataframe\">\n",
       "  <thead>\n",
       "    <tr style=\"text-align: right;\">\n",
       "      <th></th>\n",
       "      <th>one</th>\n",
       "      <th>two</th>\n",
       "      <th>three</th>\n",
       "      <th>four</th>\n",
       "    </tr>\n",
       "  </thead>\n",
       "  <tbody>\n",
       "    <tr>\n",
       "      <th>0</th>\n",
       "      <td>1</td>\n",
       "      <td>10</td>\n",
       "      <td>100</td>\n",
       "      <td>1000</td>\n",
       "    </tr>\n",
       "    <tr>\n",
       "      <th>1</th>\n",
       "      <td>2</td>\n",
       "      <td>20</td>\n",
       "      <td>200</td>\n",
       "      <td>2000</td>\n",
       "    </tr>\n",
       "    <tr>\n",
       "      <th>2</th>\n",
       "      <td>3</td>\n",
       "      <td>30</td>\n",
       "      <td>300</td>\n",
       "      <td>3000</td>\n",
       "    </tr>\n",
       "    <tr>\n",
       "      <th>3</th>\n",
       "      <td>4</td>\n",
       "      <td>40</td>\n",
       "      <td>400</td>\n",
       "      <td>4000</td>\n",
       "    </tr>\n",
       "  </tbody>\n",
       "</table>\n",
       "</div>"
      ],
      "text/plain": [
       "   one  two  three  four\n",
       "0    1   10    100  1000\n",
       "1    2   20    200  2000\n",
       "2    3   30    300  3000\n",
       "3    4   40    400  4000"
      ]
     },
     "execution_count": 275,
     "metadata": {},
     "output_type": "execute_result"
    }
   ],
   "source": [
    "data = {'one'   : pd.Series([1, 2, 3, 4]),\n",
    "        'two'   : pd.Series([10, 20, 30, 40]),\n",
    "        'three' : pd.Series([100, 200, 300, 400]),\n",
    "        'four'  : pd.Series([1000, 2000, 3000, 4000])}\n",
    "\n",
    "df = pd.DataFrame(data)\n",
    "df"
   ]
  },
  {
   "cell_type": "markdown",
   "id": "3e3afb91-f8b3-4b07-9080-4d263a9f6a3d",
   "metadata": {},
   "source": [
    "- **Sum**"
   ]
  },
  {
   "cell_type": "code",
   "execution_count": 278,
   "id": "76617927-f022-44b7-801f-4075f386cae3",
   "metadata": {},
   "outputs": [
    {
     "data": {
      "text/plain": [
       "one         10\n",
       "two        100\n",
       "three     1000\n",
       "four     10000\n",
       "dtype: int64"
      ]
     },
     "execution_count": 278,
     "metadata": {},
     "output_type": "execute_result"
    }
   ],
   "source": [
    "df.sum()"
   ]
  },
  {
   "cell_type": "code",
   "execution_count": 282,
   "id": "d92b55ba-e53b-4bce-aba1-06f942e02971",
   "metadata": {},
   "outputs": [
    {
     "data": {
      "text/plain": [
       "0    1111\n",
       "1    2222\n",
       "2    3333\n",
       "3    4444\n",
       "dtype: int64"
      ]
     },
     "execution_count": 282,
     "metadata": {},
     "output_type": "execute_result"
    }
   ],
   "source": [
    "df.sum(axis = 1)  # column wise"
   ]
  },
  {
   "cell_type": "markdown",
   "id": "e62a21f8-3567-4de5-8980-06190e7d6efd",
   "metadata": {},
   "source": [
    "- **Mean**"
   ]
  },
  {
   "cell_type": "code",
   "execution_count": 285,
   "id": "12b7a160-63f1-48fd-94a6-dd16c2e4de9b",
   "metadata": {},
   "outputs": [
    {
     "data": {
      "text/plain": [
       "one         2.5\n",
       "two        25.0\n",
       "three     250.0\n",
       "four     2500.0\n",
       "dtype: float64"
      ]
     },
     "execution_count": 285,
     "metadata": {},
     "output_type": "execute_result"
    }
   ],
   "source": [
    "df.mean()"
   ]
  },
  {
   "cell_type": "code",
   "execution_count": 287,
   "id": "da5b4d54-7c30-4815-a0f5-6d79482073dd",
   "metadata": {},
   "outputs": [
    {
     "data": {
      "text/plain": [
       "0     277.75\n",
       "1     555.50\n",
       "2     833.25\n",
       "3    1111.00\n",
       "dtype: float64"
      ]
     },
     "execution_count": 287,
     "metadata": {},
     "output_type": "execute_result"
    }
   ],
   "source": [
    "df.mean(axis =  1)"
   ]
  },
  {
   "cell_type": "markdown",
   "id": "6f623762-1d10-444b-8c46-c7fc3c48437e",
   "metadata": {},
   "source": [
    "- **Median**"
   ]
  },
  {
   "cell_type": "code",
   "execution_count": 290,
   "id": "b40a9672-cca2-468f-8243-2a817132599e",
   "metadata": {},
   "outputs": [
    {
     "data": {
      "text/plain": [
       "one         2.5\n",
       "two        25.0\n",
       "three     250.0\n",
       "four     2500.0\n",
       "dtype: float64"
      ]
     },
     "execution_count": 290,
     "metadata": {},
     "output_type": "execute_result"
    }
   ],
   "source": [
    "df.median()"
   ]
  },
  {
   "cell_type": "markdown",
   "id": "c6f26d70-4a86-4c86-ade0-933721f54f2e",
   "metadata": {},
   "source": [
    "- **Mode**"
   ]
  },
  {
   "cell_type": "code",
   "execution_count": 314,
   "id": "6657a435-2be7-4b80-ada0-52605404799d",
   "metadata": {},
   "outputs": [
    {
     "name": "stdout",
     "output_type": "stream",
     "text": [
      "   A   B\n",
      "0  1  10\n",
      "1  2  20\n",
      "2  2  20\n",
      "3  3  30\n",
      "4  4  40\n",
      "5  4  40\n",
      "6  4  50\n",
      "7  5  60\n",
      "A 0    4\n",
      "Name: A, dtype: int64\n",
      "B 0    20\n",
      "1    40\n",
      "Name: B, dtype: int64\n"
     ]
    }
   ],
   "source": [
    "de = pd.DataFrame({'A': [1, 2, 2, 3, 4, 4, 4, 5], 'B': [10, 20, 20, 30, 40, 40, 50, 60]})\n",
    "print(de)\n",
    "print('A' , de['A'].mode())\n",
    "print('B' , de['B'].mode())"
   ]
  },
  {
   "cell_type": "markdown",
   "id": "9b548e8c-0c49-45aa-a8c6-89ca2ddc8d50",
   "metadata": {},
   "source": [
    "- **Variance**"
   ]
  },
  {
   "cell_type": "code",
   "execution_count": 317,
   "id": "cdedf2aa-0fc1-46f7-99ec-063ff4aed383",
   "metadata": {},
   "outputs": [
    {
     "data": {
      "text/plain": [
       "one      1.666667e+00\n",
       "two      1.666667e+02\n",
       "three    1.666667e+04\n",
       "four     1.666667e+06\n",
       "dtype: float64"
      ]
     },
     "execution_count": 317,
     "metadata": {},
     "output_type": "execute_result"
    }
   ],
   "source": [
    "df.var()"
   ]
  },
  {
   "cell_type": "markdown",
   "id": "9d421dc8-23cf-476a-b283-8021f314287e",
   "metadata": {},
   "source": [
    "- **Min**"
   ]
  },
  {
   "cell_type": "code",
   "execution_count": 323,
   "id": "e2b4d58a-6825-4610-ba9c-fc0f722b2ce5",
   "metadata": {},
   "outputs": [
    {
     "name": "stdout",
     "output_type": "stream",
     "text": [
      "   one  two  three  four\n",
      "0    1   10    100  1000\n",
      "1    2   20    200  2000\n",
      "2    3   30    300  3000\n",
      "3    4   40    400  4000\n",
      "one         1\n",
      "two        10\n",
      "three     100\n",
      "four     1000\n",
      "dtype: int64\n",
      "0    1\n",
      "1    2\n",
      "2    3\n",
      "3    4\n",
      "dtype: int64\n"
     ]
    }
   ],
   "source": [
    "print(df)\n",
    "print(df.min(axis = 0))\n",
    "print(df.min(axis = 1))"
   ]
  },
  {
   "cell_type": "markdown",
   "id": "251bd53a-4cc3-41b4-b289-0d8507ec24b3",
   "metadata": {},
   "source": [
    "- **Max**"
   ]
  },
  {
   "cell_type": "code",
   "execution_count": 332,
   "id": "14db68c7-1f3f-4742-b991-e5f7078a6de8",
   "metadata": {},
   "outputs": [
    {
     "name": "stdout",
     "output_type": "stream",
     "text": [
      "   one  two  three  four\n",
      "0    1   10    100  1000\n",
      "1    2   20    200  2000\n",
      "2    3   30    300  3000\n",
      "3    4   40    400  4000\n",
      "one         4\n",
      "two        40\n",
      "three     400\n",
      "four     4000\n",
      "dtype: int64\n",
      "0    1000\n",
      "1    2000\n",
      "2    3000\n",
      "3    4000\n",
      "dtype: int64\n"
     ]
    }
   ],
   "source": [
    "print(df)\n",
    "print(df.max(axis = 0))  #column wise  HERE IT IS OPPOSITE USE OF AXIS = 0,1\n",
    "print(df.max(axis = 1))  # row wise"
   ]
  },
  {
   "cell_type": "markdown",
   "id": "c740415a-8a2d-4529-8b9c-a70a63b9ca52",
   "metadata": {},
   "source": [
    "- **Standard deviation**"
   ]
  },
  {
   "cell_type": "code",
   "execution_count": 335,
   "id": "6f393e46-1e64-49c7-ab5c-1cb67fcebb83",
   "metadata": {},
   "outputs": [
    {
     "data": {
      "text/plain": [
       "one         1.290994\n",
       "two        12.909944\n",
       "three     129.099445\n",
       "four     1290.994449\n",
       "dtype: float64"
      ]
     },
     "execution_count": 335,
     "metadata": {},
     "output_type": "execute_result"
    }
   ],
   "source": [
    "df.std()"
   ]
  },
  {
   "cell_type": "markdown",
   "id": "3d62933a-3cce-40ad-bdf9-bce9398c8d2f",
   "metadata": {},
   "source": [
    "### 10 Describe function"
   ]
  },
  {
   "cell_type": "markdown",
   "id": "52189ef0-28ab-48bc-be3b-57eeac5a94c3",
   "metadata": {},
   "source": [
    "The describe() method in a Pandas DataFrame returns descriptive statistics of the data in the DataFrame. It provides a quick summary of the central tendency, dispersion, and shape of the distribution of a set of numerical data.\n",
    "\n",
    "The default behavior of describe() is to compute descriptive statistics for all numerical columns in the DataFrame. If you want to compute descriptive statistics for a specific column, you can pass the name of the column as an argument."
   ]
  },
  {
   "cell_type": "code",
   "execution_count": 343,
   "id": "39baa21b-28b6-470a-8368-3dc68ddb290b",
   "metadata": {},
   "outputs": [
    {
     "data": {
      "text/html": [
       "<div>\n",
       "<style scoped>\n",
       "    .dataframe tbody tr th:only-of-type {\n",
       "        vertical-align: middle;\n",
       "    }\n",
       "\n",
       "    .dataframe tbody tr th {\n",
       "        vertical-align: top;\n",
       "    }\n",
       "\n",
       "    .dataframe thead th {\n",
       "        text-align: right;\n",
       "    }\n",
       "</style>\n",
       "<table border=\"1\" class=\"dataframe\">\n",
       "  <thead>\n",
       "    <tr style=\"text-align: right;\">\n",
       "      <th></th>\n",
       "      <th>one</th>\n",
       "      <th>two</th>\n",
       "      <th>three</th>\n",
       "      <th>four</th>\n",
       "      <th>five</th>\n",
       "    </tr>\n",
       "  </thead>\n",
       "  <tbody>\n",
       "    <tr>\n",
       "      <th>0</th>\n",
       "      <td>1</td>\n",
       "      <td>10</td>\n",
       "      <td>100</td>\n",
       "      <td>1000</td>\n",
       "      <td>A</td>\n",
       "    </tr>\n",
       "    <tr>\n",
       "      <th>1</th>\n",
       "      <td>2</td>\n",
       "      <td>20</td>\n",
       "      <td>200</td>\n",
       "      <td>2000</td>\n",
       "      <td>B</td>\n",
       "    </tr>\n",
       "    <tr>\n",
       "      <th>2</th>\n",
       "      <td>3</td>\n",
       "      <td>30</td>\n",
       "      <td>300</td>\n",
       "      <td>3000</td>\n",
       "      <td>C</td>\n",
       "    </tr>\n",
       "    <tr>\n",
       "      <th>3</th>\n",
       "      <td>4</td>\n",
       "      <td>40</td>\n",
       "      <td>400</td>\n",
       "      <td>4000</td>\n",
       "      <td>D</td>\n",
       "    </tr>\n",
       "  </tbody>\n",
       "</table>\n",
       "</div>"
      ],
      "text/plain": [
       "   one  two  three  four five\n",
       "0    1   10    100  1000    A\n",
       "1    2   20    200  2000    B\n",
       "2    3   30    300  3000    C\n",
       "3    4   40    400  4000    D"
      ]
     },
     "execution_count": 343,
     "metadata": {},
     "output_type": "execute_result"
    }
   ],
   "source": [
    "data = {'one'  : pd.Series([1, 2, 3, 4]),\n",
    "        'two'  : pd.Series([10, 20, 30, 40]),\n",
    "        'three': pd.Series([100, 200, 300, 400]),\n",
    "        'four' : pd.Series([1000, 2000, 3000, 4000]),\n",
    "        'five' : pd.Series(['A','B','C','D'])}\n",
    "\n",
    "\n",
    "df = pd.DataFrame(data)\n",
    "df"
   ]
  },
  {
   "cell_type": "code",
   "execution_count": 345,
   "id": "97c61f2e-cdec-46f6-a3b0-d8a4f1fca175",
   "metadata": {},
   "outputs": [
    {
     "data": {
      "text/html": [
       "<div>\n",
       "<style scoped>\n",
       "    .dataframe tbody tr th:only-of-type {\n",
       "        vertical-align: middle;\n",
       "    }\n",
       "\n",
       "    .dataframe tbody tr th {\n",
       "        vertical-align: top;\n",
       "    }\n",
       "\n",
       "    .dataframe thead th {\n",
       "        text-align: right;\n",
       "    }\n",
       "</style>\n",
       "<table border=\"1\" class=\"dataframe\">\n",
       "  <thead>\n",
       "    <tr style=\"text-align: right;\">\n",
       "      <th></th>\n",
       "      <th>one</th>\n",
       "      <th>two</th>\n",
       "      <th>three</th>\n",
       "      <th>four</th>\n",
       "    </tr>\n",
       "  </thead>\n",
       "  <tbody>\n",
       "    <tr>\n",
       "      <th>count</th>\n",
       "      <td>4.000000</td>\n",
       "      <td>4.000000</td>\n",
       "      <td>4.000000</td>\n",
       "      <td>4.000000</td>\n",
       "    </tr>\n",
       "    <tr>\n",
       "      <th>mean</th>\n",
       "      <td>2.500000</td>\n",
       "      <td>25.000000</td>\n",
       "      <td>250.000000</td>\n",
       "      <td>2500.000000</td>\n",
       "    </tr>\n",
       "    <tr>\n",
       "      <th>std</th>\n",
       "      <td>1.290994</td>\n",
       "      <td>12.909944</td>\n",
       "      <td>129.099445</td>\n",
       "      <td>1290.994449</td>\n",
       "    </tr>\n",
       "    <tr>\n",
       "      <th>min</th>\n",
       "      <td>1.000000</td>\n",
       "      <td>10.000000</td>\n",
       "      <td>100.000000</td>\n",
       "      <td>1000.000000</td>\n",
       "    </tr>\n",
       "    <tr>\n",
       "      <th>25%</th>\n",
       "      <td>1.750000</td>\n",
       "      <td>17.500000</td>\n",
       "      <td>175.000000</td>\n",
       "      <td>1750.000000</td>\n",
       "    </tr>\n",
       "    <tr>\n",
       "      <th>50%</th>\n",
       "      <td>2.500000</td>\n",
       "      <td>25.000000</td>\n",
       "      <td>250.000000</td>\n",
       "      <td>2500.000000</td>\n",
       "    </tr>\n",
       "    <tr>\n",
       "      <th>75%</th>\n",
       "      <td>3.250000</td>\n",
       "      <td>32.500000</td>\n",
       "      <td>325.000000</td>\n",
       "      <td>3250.000000</td>\n",
       "    </tr>\n",
       "    <tr>\n",
       "      <th>max</th>\n",
       "      <td>4.000000</td>\n",
       "      <td>40.000000</td>\n",
       "      <td>400.000000</td>\n",
       "      <td>4000.000000</td>\n",
       "    </tr>\n",
       "  </tbody>\n",
       "</table>\n",
       "</div>"
      ],
      "text/plain": [
       "            one        two       three         four\n",
       "count  4.000000   4.000000    4.000000     4.000000\n",
       "mean   2.500000  25.000000  250.000000  2500.000000\n",
       "std    1.290994  12.909944  129.099445  1290.994449\n",
       "min    1.000000  10.000000  100.000000  1000.000000\n",
       "25%    1.750000  17.500000  175.000000  1750.000000\n",
       "50%    2.500000  25.000000  250.000000  2500.000000\n",
       "75%    3.250000  32.500000  325.000000  3250.000000\n",
       "max    4.000000  40.000000  400.000000  4000.000000"
      ]
     },
     "execution_count": 345,
     "metadata": {},
     "output_type": "execute_result"
    }
   ],
   "source": [
    "df.describe()"
   ]
  },
  {
   "cell_type": "markdown",
   "id": "e251b0b1-a872-415e-8444-03d0836bef6d",
   "metadata": {},
   "source": [
    "### 11 Pipe functions"
   ]
  },
  {
   "cell_type": "markdown",
   "id": "b16ce0fb-4c6e-4cf5-a6cd-433d01ebd69b",
   "metadata": {},
   "source": [
    "##### Pipe function"
   ]
  },
  {
   "cell_type": "markdown",
   "id": "d1614e41-4688-4298-ba97-c521ed9c7530",
   "metadata": {},
   "source": [
    "The pipe() method in a Pandas DataFrame allows you to apply a function to the DataFrame, similar to the way the apply() method works. The difference is that pipe() allows you to chain multiple operations together by passing the output of one function to the input of the next function."
   ]
  },
  {
   "cell_type": "code",
   "execution_count": 417,
   "id": "38d9a206-1dc7-4f82-aa68-5eb31755c393",
   "metadata": {},
   "outputs": [
    {
     "data": {
      "text/html": [
       "<div>\n",
       "<style scoped>\n",
       "    .dataframe tbody tr th:only-of-type {\n",
       "        vertical-align: middle;\n",
       "    }\n",
       "\n",
       "    .dataframe tbody tr th {\n",
       "        vertical-align: top;\n",
       "    }\n",
       "\n",
       "    .dataframe thead th {\n",
       "        text-align: right;\n",
       "    }\n",
       "</style>\n",
       "<table border=\"1\" class=\"dataframe\">\n",
       "  <thead>\n",
       "    <tr style=\"text-align: right;\">\n",
       "      <th></th>\n",
       "      <th>one</th>\n",
       "      <th>two</th>\n",
       "      <th>three</th>\n",
       "      <th>four</th>\n",
       "    </tr>\n",
       "  </thead>\n",
       "  <tbody>\n",
       "    <tr>\n",
       "      <th>0</th>\n",
       "      <td>1</td>\n",
       "      <td>10</td>\n",
       "      <td>100</td>\n",
       "      <td>1000</td>\n",
       "    </tr>\n",
       "    <tr>\n",
       "      <th>1</th>\n",
       "      <td>2</td>\n",
       "      <td>20</td>\n",
       "      <td>200</td>\n",
       "      <td>2000</td>\n",
       "    </tr>\n",
       "    <tr>\n",
       "      <th>2</th>\n",
       "      <td>3</td>\n",
       "      <td>30</td>\n",
       "      <td>300</td>\n",
       "      <td>3000</td>\n",
       "    </tr>\n",
       "    <tr>\n",
       "      <th>3</th>\n",
       "      <td>4</td>\n",
       "      <td>40</td>\n",
       "      <td>400</td>\n",
       "      <td>4000</td>\n",
       "    </tr>\n",
       "  </tbody>\n",
       "</table>\n",
       "</div>"
      ],
      "text/plain": [
       "   one  two  three  four\n",
       "0    1   10    100  1000\n",
       "1    2   20    200  2000\n",
       "2    3   30    300  3000\n",
       "3    4   40    400  4000"
      ]
     },
     "execution_count": 417,
     "metadata": {},
     "output_type": "execute_result"
    }
   ],
   "source": [
    "data = {'one'  : pd.Series([1, 2, 3, 4]),\n",
    "        'two'  : pd.Series([10, 20, 30, 40]),\n",
    "        'three': pd.Series([100, 200, 300, 400]),\n",
    "        'four' : pd.Series([1000, 2000, 3000, 4000])}\n",
    "def add_(i,j):\n",
    "    return i + j\n",
    "def sub_(i,j):\n",
    "    return i - j    \n",
    "\n",
    "\n",
    "df = pd.DataFrame(data)\n",
    "df"
   ]
  },
  {
   "cell_type": "code",
   "execution_count": 419,
   "id": "0f6b0071-4996-4e9f-9905-41f9fdcccca3",
   "metadata": {},
   "outputs": [
    {
     "data": {
      "text/html": [
       "<div>\n",
       "<style scoped>\n",
       "    .dataframe tbody tr th:only-of-type {\n",
       "        vertical-align: middle;\n",
       "    }\n",
       "\n",
       "    .dataframe tbody tr th {\n",
       "        vertical-align: top;\n",
       "    }\n",
       "\n",
       "    .dataframe thead th {\n",
       "        text-align: right;\n",
       "    }\n",
       "</style>\n",
       "<table border=\"1\" class=\"dataframe\">\n",
       "  <thead>\n",
       "    <tr style=\"text-align: right;\">\n",
       "      <th></th>\n",
       "      <th>one</th>\n",
       "      <th>two</th>\n",
       "      <th>three</th>\n",
       "      <th>four</th>\n",
       "    </tr>\n",
       "  </thead>\n",
       "  <tbody>\n",
       "    <tr>\n",
       "      <th>0</th>\n",
       "      <td>11</td>\n",
       "      <td>20</td>\n",
       "      <td>110</td>\n",
       "      <td>1010</td>\n",
       "    </tr>\n",
       "    <tr>\n",
       "      <th>1</th>\n",
       "      <td>12</td>\n",
       "      <td>30</td>\n",
       "      <td>210</td>\n",
       "      <td>2010</td>\n",
       "    </tr>\n",
       "    <tr>\n",
       "      <th>2</th>\n",
       "      <td>13</td>\n",
       "      <td>40</td>\n",
       "      <td>310</td>\n",
       "      <td>3010</td>\n",
       "    </tr>\n",
       "    <tr>\n",
       "      <th>3</th>\n",
       "      <td>14</td>\n",
       "      <td>50</td>\n",
       "      <td>410</td>\n",
       "      <td>4010</td>\n",
       "    </tr>\n",
       "  </tbody>\n",
       "</table>\n",
       "</div>"
      ],
      "text/plain": [
       "   one  two  three  four\n",
       "0   11   20    110  1010\n",
       "1   12   30    210  2010\n",
       "2   13   40    310  3010\n",
       "3   14   50    410  4010"
      ]
     },
     "execution_count": 419,
     "metadata": {},
     "output_type": "execute_result"
    }
   ],
   "source": [
    "df.pipe(add_, 10)   #Add function"
   ]
  },
  {
   "cell_type": "code",
   "execution_count": 421,
   "id": "0223ba43-a361-45dd-95e5-b50706fec50f",
   "metadata": {},
   "outputs": [
    {
     "data": {
      "text/html": [
       "<div>\n",
       "<style scoped>\n",
       "    .dataframe tbody tr th:only-of-type {\n",
       "        vertical-align: middle;\n",
       "    }\n",
       "\n",
       "    .dataframe tbody tr th {\n",
       "        vertical-align: top;\n",
       "    }\n",
       "\n",
       "    .dataframe thead th {\n",
       "        text-align: right;\n",
       "    }\n",
       "</style>\n",
       "<table border=\"1\" class=\"dataframe\">\n",
       "  <thead>\n",
       "    <tr style=\"text-align: right;\">\n",
       "      <th></th>\n",
       "      <th>one</th>\n",
       "      <th>two</th>\n",
       "      <th>three</th>\n",
       "      <th>four</th>\n",
       "    </tr>\n",
       "  </thead>\n",
       "  <tbody>\n",
       "    <tr>\n",
       "      <th>0</th>\n",
       "      <td>-9</td>\n",
       "      <td>0</td>\n",
       "      <td>90</td>\n",
       "      <td>990</td>\n",
       "    </tr>\n",
       "    <tr>\n",
       "      <th>1</th>\n",
       "      <td>-8</td>\n",
       "      <td>10</td>\n",
       "      <td>190</td>\n",
       "      <td>1990</td>\n",
       "    </tr>\n",
       "    <tr>\n",
       "      <th>2</th>\n",
       "      <td>-7</td>\n",
       "      <td>20</td>\n",
       "      <td>290</td>\n",
       "      <td>2990</td>\n",
       "    </tr>\n",
       "    <tr>\n",
       "      <th>3</th>\n",
       "      <td>-6</td>\n",
       "      <td>30</td>\n",
       "      <td>390</td>\n",
       "      <td>3990</td>\n",
       "    </tr>\n",
       "  </tbody>\n",
       "</table>\n",
       "</div>"
      ],
      "text/plain": [
       "   one  two  three  four\n",
       "0   -9    0     90   990\n",
       "1   -8   10    190  1990\n",
       "2   -7   20    290  2990\n",
       "3   -6   30    390  3990"
      ]
     },
     "execution_count": 421,
     "metadata": {},
     "output_type": "execute_result"
    }
   ],
   "source": [
    "df.pipe(sub_, 10)  #Subract function"
   ]
  },
  {
   "cell_type": "code",
   "execution_count": 423,
   "id": "d6ca25c8-ffdd-4d90-8d0b-aa3d4f0513b0",
   "metadata": {},
   "outputs": [],
   "source": [
    "def mean_(col):\n",
    "    return col.mean()\n",
    "def square(i):  \n",
    "    return i ** 2"
   ]
  },
  {
   "cell_type": "code",
   "execution_count": 425,
   "id": "3157aa1d-3ab2-4948-8098-3186796bd978",
   "metadata": {},
   "outputs": [
    {
     "name": "stdout",
     "output_type": "stream",
     "text": [
      "one         2.5\n",
      "two        25.0\n",
      "three     250.0\n",
      "four     2500.0\n",
      "dtype: float64\n",
      "one            6.25\n",
      "two          625.00\n",
      "three      62500.00\n",
      "four     6250000.00\n",
      "dtype: float64\n"
     ]
    }
   ],
   "source": [
    "print(df.pipe(mean_))\n",
    "print(df.pipe(mean_).pipe(square))"
   ]
  },
  {
   "cell_type": "code",
   "execution_count": 427,
   "id": "d804b381-afe6-4b2e-85f5-d2eedc2706f8",
   "metadata": {},
   "outputs": [
    {
     "data": {
      "text/html": [
       "<div>\n",
       "<style scoped>\n",
       "    .dataframe tbody tr th:only-of-type {\n",
       "        vertical-align: middle;\n",
       "    }\n",
       "\n",
       "    .dataframe tbody tr th {\n",
       "        vertical-align: top;\n",
       "    }\n",
       "\n",
       "    .dataframe thead th {\n",
       "        text-align: right;\n",
       "    }\n",
       "</style>\n",
       "<table border=\"1\" class=\"dataframe\">\n",
       "  <thead>\n",
       "    <tr style=\"text-align: right;\">\n",
       "      <th></th>\n",
       "      <th>one</th>\n",
       "      <th>two</th>\n",
       "      <th>three</th>\n",
       "      <th>four</th>\n",
       "    </tr>\n",
       "  </thead>\n",
       "  <tbody>\n",
       "    <tr>\n",
       "      <th>0</th>\n",
       "      <td>1</td>\n",
       "      <td>100</td>\n",
       "      <td>10000</td>\n",
       "      <td>1000000</td>\n",
       "    </tr>\n",
       "    <tr>\n",
       "      <th>1</th>\n",
       "      <td>4</td>\n",
       "      <td>400</td>\n",
       "      <td>40000</td>\n",
       "      <td>4000000</td>\n",
       "    </tr>\n",
       "    <tr>\n",
       "      <th>2</th>\n",
       "      <td>9</td>\n",
       "      <td>900</td>\n",
       "      <td>90000</td>\n",
       "      <td>9000000</td>\n",
       "    </tr>\n",
       "    <tr>\n",
       "      <th>3</th>\n",
       "      <td>16</td>\n",
       "      <td>1600</td>\n",
       "      <td>160000</td>\n",
       "      <td>16000000</td>\n",
       "    </tr>\n",
       "  </tbody>\n",
       "</table>\n",
       "</div>"
      ],
      "text/plain": [
       "   one   two   three      four\n",
       "0    1   100   10000   1000000\n",
       "1    4   400   40000   4000000\n",
       "2    9   900   90000   9000000\n",
       "3   16  1600  160000  16000000"
      ]
     },
     "execution_count": 427,
     "metadata": {},
     "output_type": "execute_result"
    }
   ],
   "source": [
    "df.pipe(square)"
   ]
  },
  {
   "cell_type": "markdown",
   "id": "5393f4b7-320e-4b62-8c3c-135e4dc3cdef",
   "metadata": {},
   "source": [
    "##### Apply function\n",
    "The apply() method in a Pandas DataFrame allows you to apply a function to the DataFrame, either to individual elements or to the entire DataFrame. The function can be either a built-in Python function or a user-defined function."
   ]
  },
  {
   "cell_type": "code",
   "execution_count": 452,
   "id": "d0a7868f-7e77-4d1e-8ce0-9aad66b6213d",
   "metadata": {},
   "outputs": [
    {
     "data": {
      "text/html": [
       "<div>\n",
       "<style scoped>\n",
       "    .dataframe tbody tr th:only-of-type {\n",
       "        vertical-align: middle;\n",
       "    }\n",
       "\n",
       "    .dataframe tbody tr th {\n",
       "        vertical-align: top;\n",
       "    }\n",
       "\n",
       "    .dataframe thead th {\n",
       "        text-align: right;\n",
       "    }\n",
       "</style>\n",
       "<table border=\"1\" class=\"dataframe\">\n",
       "  <thead>\n",
       "    <tr style=\"text-align: right;\">\n",
       "      <th></th>\n",
       "      <th>one</th>\n",
       "      <th>two</th>\n",
       "      <th>three</th>\n",
       "      <th>four</th>\n",
       "    </tr>\n",
       "  </thead>\n",
       "  <tbody>\n",
       "    <tr>\n",
       "      <th>0</th>\n",
       "      <td>1</td>\n",
       "      <td>10</td>\n",
       "      <td>100</td>\n",
       "      <td>1000</td>\n",
       "    </tr>\n",
       "    <tr>\n",
       "      <th>1</th>\n",
       "      <td>2</td>\n",
       "      <td>20</td>\n",
       "      <td>200</td>\n",
       "      <td>2000</td>\n",
       "    </tr>\n",
       "    <tr>\n",
       "      <th>2</th>\n",
       "      <td>3</td>\n",
       "      <td>30</td>\n",
       "      <td>300</td>\n",
       "      <td>3000</td>\n",
       "    </tr>\n",
       "    <tr>\n",
       "      <th>3</th>\n",
       "      <td>4</td>\n",
       "      <td>40</td>\n",
       "      <td>400</td>\n",
       "      <td>4000</td>\n",
       "    </tr>\n",
       "  </tbody>\n",
       "</table>\n",
       "</div>"
      ],
      "text/plain": [
       "   one  two  three  four\n",
       "0    1   10    100  1000\n",
       "1    2   20    200  2000\n",
       "2    3   30    300  3000\n",
       "3    4   40    400  4000"
      ]
     },
     "execution_count": 452,
     "metadata": {},
     "output_type": "execute_result"
    }
   ],
   "source": [
    "data = {'one'  : pd.Series([1, 2, 3, 4]),\n",
    "        'two'  : pd.Series([10, 20, 30, 40]),\n",
    "        'three': pd.Series([100, 200, 300, 400]),\n",
    "        'four' : pd.Series([1000, 2000, 3000, 4000])}\n",
    "\n",
    "df = pd.DataFrame(data)\n",
    "df"
   ]
  },
  {
   "cell_type": "code",
   "execution_count": 454,
   "id": "3c0742f7-572e-4d9d-856f-bc193266d947",
   "metadata": {},
   "outputs": [
    {
     "name": "stdout",
     "output_type": "stream",
     "text": [
      "one         2.5\n",
      "two        25.0\n",
      "three     250.0\n",
      "four     2500.0\n",
      "dtype: float64\n",
      "one         4\n",
      "two        40\n",
      "three     400\n",
      "four     4000\n",
      "dtype: int64\n",
      "one         1\n",
      "two        10\n",
      "three     100\n",
      "four     1000\n",
      "dtype: int64\n"
     ]
    }
   ],
   "source": [
    "print(df.apply(np.mean))\n",
    "print(df.apply(np.max))\n",
    "print(df.apply(np.min))"
   ]
  },
  {
   "cell_type": "code",
   "execution_count": 456,
   "id": "ed594c37-d2ee-4848-8211-feeea5741b28",
   "metadata": {},
   "outputs": [
    {
     "data": {
      "text/plain": [
       "one         3\n",
       "two        30\n",
       "three     300\n",
       "four     3000\n",
       "dtype: int64"
      ]
     },
     "execution_count": 456,
     "metadata": {},
     "output_type": "execute_result"
    }
   ],
   "source": [
    "df.apply(lambda x: x.max() - x.min())"
   ]
  },
  {
   "cell_type": "markdown",
   "id": "d89a679b-502a-47c4-b93c-664ca02c13f8",
   "metadata": {},
   "source": [
    "##### Appply map function\n",
    "The map() method in a Pandas DataFrame allows you to apply a function to each element of a specific column of the DataFrame. The function can be either a built-in Python function or a user-defined function."
   ]
  },
  {
   "cell_type": "code",
   "execution_count": 461,
   "id": "a8729dc0-e37e-4062-82ad-f38a1100bf33",
   "metadata": {},
   "outputs": [
    {
     "data": {
      "text/html": [
       "<div>\n",
       "<style scoped>\n",
       "    .dataframe tbody tr th:only-of-type {\n",
       "        vertical-align: middle;\n",
       "    }\n",
       "\n",
       "    .dataframe tbody tr th {\n",
       "        vertical-align: top;\n",
       "    }\n",
       "\n",
       "    .dataframe thead th {\n",
       "        text-align: right;\n",
       "    }\n",
       "</style>\n",
       "<table border=\"1\" class=\"dataframe\">\n",
       "  <thead>\n",
       "    <tr style=\"text-align: right;\">\n",
       "      <th></th>\n",
       "      <th>one</th>\n",
       "      <th>two</th>\n",
       "      <th>three</th>\n",
       "      <th>four</th>\n",
       "    </tr>\n",
       "  </thead>\n",
       "  <tbody>\n",
       "    <tr>\n",
       "      <th>0</th>\n",
       "      <td>1</td>\n",
       "      <td>10</td>\n",
       "      <td>100</td>\n",
       "      <td>1000</td>\n",
       "    </tr>\n",
       "    <tr>\n",
       "      <th>1</th>\n",
       "      <td>2</td>\n",
       "      <td>20</td>\n",
       "      <td>200</td>\n",
       "      <td>2000</td>\n",
       "    </tr>\n",
       "    <tr>\n",
       "      <th>2</th>\n",
       "      <td>3</td>\n",
       "      <td>30</td>\n",
       "      <td>300</td>\n",
       "      <td>3000</td>\n",
       "    </tr>\n",
       "    <tr>\n",
       "      <th>3</th>\n",
       "      <td>4</td>\n",
       "      <td>40</td>\n",
       "      <td>400</td>\n",
       "      <td>4000</td>\n",
       "    </tr>\n",
       "  </tbody>\n",
       "</table>\n",
       "</div>"
      ],
      "text/plain": [
       "   one  two  three  four\n",
       "0    1   10    100  1000\n",
       "1    2   20    200  2000\n",
       "2    3   30    300  3000\n",
       "3    4   40    400  4000"
      ]
     },
     "execution_count": 461,
     "metadata": {},
     "output_type": "execute_result"
    }
   ],
   "source": [
    "df"
   ]
  },
  {
   "cell_type": "code",
   "execution_count": 475,
   "id": "c6c5594e-142b-4626-9127-020fe83ae717",
   "metadata": {},
   "outputs": [
    {
     "data": {
      "text/html": [
       "<div>\n",
       "<style scoped>\n",
       "    .dataframe tbody tr th:only-of-type {\n",
       "        vertical-align: middle;\n",
       "    }\n",
       "\n",
       "    .dataframe tbody tr th {\n",
       "        vertical-align: top;\n",
       "    }\n",
       "\n",
       "    .dataframe thead th {\n",
       "        text-align: right;\n",
       "    }\n",
       "</style>\n",
       "<table border=\"1\" class=\"dataframe\">\n",
       "  <thead>\n",
       "    <tr style=\"text-align: right;\">\n",
       "      <th></th>\n",
       "      <th>one</th>\n",
       "      <th>two</th>\n",
       "      <th>three</th>\n",
       "      <th>four</th>\n",
       "    </tr>\n",
       "  </thead>\n",
       "  <tbody>\n",
       "    <tr>\n",
       "      <th>0</th>\n",
       "      <td>100</td>\n",
       "      <td>1000</td>\n",
       "      <td>10000</td>\n",
       "      <td>100000</td>\n",
       "    </tr>\n",
       "    <tr>\n",
       "      <th>1</th>\n",
       "      <td>200</td>\n",
       "      <td>2000</td>\n",
       "      <td>20000</td>\n",
       "      <td>200000</td>\n",
       "    </tr>\n",
       "    <tr>\n",
       "      <th>2</th>\n",
       "      <td>300</td>\n",
       "      <td>3000</td>\n",
       "      <td>30000</td>\n",
       "      <td>300000</td>\n",
       "    </tr>\n",
       "    <tr>\n",
       "      <th>3</th>\n",
       "      <td>400</td>\n",
       "      <td>4000</td>\n",
       "      <td>40000</td>\n",
       "      <td>400000</td>\n",
       "    </tr>\n",
       "  </tbody>\n",
       "</table>\n",
       "</div>"
      ],
      "text/plain": [
       "   one   two  three    four\n",
       "0  100  1000  10000  100000\n",
       "1  200  2000  20000  200000\n",
       "2  300  3000  30000  300000\n",
       "3  400  4000  40000  400000"
      ]
     },
     "execution_count": 475,
     "metadata": {},
     "output_type": "execute_result"
    }
   ],
   "source": [
    "df.map(lambda x: x*100)"
   ]
  },
  {
   "cell_type": "markdown",
   "id": "0488f820-0a44-4675-ad48-0a4cd91f4516",
   "metadata": {},
   "source": [
    "applymap and apply are both functions in the pandas library used for applying a function to elements of a pandas DataFrame or Series.\n",
    "\n",
    "applymap is used to apply a function to every element of a DataFrame. It returns a new DataFrame where each element has been modified by the input function.\n",
    "\n",
    "apply is used to apply a function along any axis of a DataFrame or Series. It returns either a Series or a DataFrame, depending on the axis along which the function is applied and the return value of the function. Unlike applymap, apply can take into account the context of the data, such as the row or column label.\n",
    "\n",
    "So, applymap is meant for element-wise operations while apply can be used for both element-wise and row/column-wise operations."
   ]
  },
  {
   "cell_type": "code",
   "execution_count": 503,
   "id": "c8e10d6d-42dd-4d21-a95b-e44749d0541a",
   "metadata": {},
   "outputs": [
    {
     "name": "stdout",
     "output_type": "stream",
     "text": [
      "     A    B\n",
      "0  1.2  7.8\n",
      "1  3.4  9.1\n",
      "2  5.6  2.3\n",
      "   A  B\n",
      "0  1  7\n",
      "1  3  9\n",
      "2  5  2\n",
      "A    3.4\n",
      "B    6.4\n",
      "dtype: float64\n",
      "0    4.50\n",
      "1    6.25\n",
      "2    3.95\n",
      "dtype: float64\n"
     ]
    }
   ],
   "source": [
    "df = pd.DataFrame({ 'A': [1.2, 3.4, 5.6], \n",
    "                    'B': [7.8, 9.1, 2.3]})\n",
    "print(df)\n",
    "df_1 = df.map(np.int64)\n",
    "print(df_1)\n",
    "\n",
    "df_2 = df.apply(lambda row : row.mean(), axis = 0)\n",
    "print(df_2)\n",
    "df_3 = df.apply(lambda row : row.mean(), axis = 1)\n",
    "print(df_3)"
   ]
  },
  {
   "cell_type": "markdown",
   "id": "b5b37d6e-be06-463a-bfc5-656cdebd53c8",
   "metadata": {},
   "source": [
    "### 12 Reindex function\n",
    "\n",
    "The reindex function in Pandas is used to change the row labels and/or column labels of a DataFrame. This function can be used to align data from multiple DataFrames or to update the labels based on new data. The function takes in a list or an array of new labels as its first argument and, optionally, a fill value to replace any missing values. The reindexing can be done along either the row axis (0) or the column axis (1). The reindexed DataFrame is returned."
   ]
  },
  {
   "cell_type": "markdown",
   "id": "03476118-26b5-4498-979a-ad9cfdadce7c",
   "metadata": {},
   "source": [
    "**This is row wise re indexing** "
   ]
  },
  {
   "cell_type": "code",
   "execution_count": 518,
   "id": "b307649f-f8f2-4fc4-b713-64363fb4af04",
   "metadata": {},
   "outputs": [
    {
     "name": "stdout",
     "output_type": "stream",
     "text": [
      "   one  two  three  four\n",
      "0    1   10    100  1000\n",
      "1    2   20    200  2000\n",
      "2    3   30    300  3000\n",
      "3    4   40    400  4000\n",
      "*************************\n",
      "   one  two  three  four\n",
      "1    2   20    200  2000\n",
      "2    3   30    300  3000\n",
      "3    4   40    400  4000\n",
      "0    1   10    100  1000\n"
     ]
    }
   ],
   "source": [
    "data = {'one'  : pd.Series([1, 2, 3, 4]),\n",
    "        'two'  : pd.Series([10, 20, 30, 40]),\n",
    "        'three': pd.Series([100, 200, 300, 400]),\n",
    "        'four' : pd.Series([1000, 2000, 3000, 4000])}\n",
    "\n",
    "df = pd.DataFrame(data)\n",
    "print(df)\n",
    "print(\"*\"*25)\n",
    "print(df.reindex([1,2,3,0]))"
   ]
  },
  {
   "cell_type": "markdown",
   "id": "af9ab9bd-eb00-4e1a-b5f6-7c5999629e24",
   "metadata": {},
   "source": [
    "**This is column wise indexing**"
   ]
  },
  {
   "cell_type": "code",
   "execution_count": 533,
   "id": "3dd921ae-eda6-41f2-9a11-f0058b1181a2",
   "metadata": {},
   "outputs": [
    {
     "name": "stdout",
     "output_type": "stream",
     "text": [
      "Orignal\n",
      "   Name  Age         City\n",
      "0  John   25     New York\n",
      "1  Jane   30  Los Angeles\n",
      "2   Jim   35      Chicago\n",
      "3  Joan   40      Houston\n",
      "*************************\n",
      "Rows and columns wise re-indexing\n",
      "   Name         City  Age\n",
      "1  Jane  Los Angeles   30\n",
      "2   Jim      Chicago   35\n",
      "3  Joan      Houston   40\n",
      "0  John     New York   25\n",
      "*************************\n",
      "Columns-wise\n",
      "   Name         City  Age\n",
      "0  John     New York   25\n",
      "1  Jane  Los Angeles   30\n",
      "2   Jim      Chicago   35\n",
      "3  Joan      Houston   40\n"
     ]
    }
   ],
   "source": [
    "data = {'Name' : ['John', 'Jane', 'Jim', 'Joan'],\n",
    "        'Age'  : [25, 30, 35, 40],\n",
    "        'City' : ['New York', 'Los Angeles', 'Chicago', 'Houston']}\n",
    "\n",
    "df = pd.DataFrame(data)   #original\n",
    "print(\"Orignal\")\n",
    "print(df)\n",
    "print(\"*\"*25)\n",
    "print(\"Rows and columns wise re-indexing\")\n",
    "df1 = df.reindex([1,2,3,0], columns = ['Name','City','Age'])  # both  rows and  columns re-indexing\n",
    "print(df1)\n",
    "print(\"*\"*25)\n",
    "print(\"Columns-wise\")\n",
    "df2 = df.reindex(columns = ['Name','City','Age'])  # column wise\n",
    "print(df2)"
   ]
  },
  {
   "cell_type": "markdown",
   "id": "546ce992-1a29-49c5-8787-cd868c277f8f",
   "metadata": {},
   "source": [
    "### 13 Renaming columns\n",
    "The rename function in Pandas is used to change the row labels and/or column labels of a DataFrame. It can be used to update the names of one or multiple rows or columns by passing a dictionary of new names as its argument. The dictionary should have the old names as keys and the new names as values"
   ]
  },
  {
   "cell_type": "code",
   "execution_count": 537,
   "id": "0333d7fc-cba0-4e02-8b4c-d9cea02b9386",
   "metadata": {},
   "outputs": [
    {
     "data": {
      "text/html": [
       "<div>\n",
       "<style scoped>\n",
       "    .dataframe tbody tr th:only-of-type {\n",
       "        vertical-align: middle;\n",
       "    }\n",
       "\n",
       "    .dataframe tbody tr th {\n",
       "        vertical-align: top;\n",
       "    }\n",
       "\n",
       "    .dataframe thead th {\n",
       "        text-align: right;\n",
       "    }\n",
       "</style>\n",
       "<table border=\"1\" class=\"dataframe\">\n",
       "  <thead>\n",
       "    <tr style=\"text-align: right;\">\n",
       "      <th></th>\n",
       "      <th>one</th>\n",
       "      <th>two</th>\n",
       "      <th>three</th>\n",
       "      <th>four</th>\n",
       "    </tr>\n",
       "  </thead>\n",
       "  <tbody>\n",
       "    <tr>\n",
       "      <th>0</th>\n",
       "      <td>1</td>\n",
       "      <td>10</td>\n",
       "      <td>100</td>\n",
       "      <td>1000</td>\n",
       "    </tr>\n",
       "    <tr>\n",
       "      <th>1</th>\n",
       "      <td>2</td>\n",
       "      <td>20</td>\n",
       "      <td>200</td>\n",
       "      <td>2000</td>\n",
       "    </tr>\n",
       "    <tr>\n",
       "      <th>2</th>\n",
       "      <td>3</td>\n",
       "      <td>30</td>\n",
       "      <td>300</td>\n",
       "      <td>3000</td>\n",
       "    </tr>\n",
       "    <tr>\n",
       "      <th>3</th>\n",
       "      <td>4</td>\n",
       "      <td>40</td>\n",
       "      <td>400</td>\n",
       "      <td>4000</td>\n",
       "    </tr>\n",
       "  </tbody>\n",
       "</table>\n",
       "</div>"
      ],
      "text/plain": [
       "   one  two  three  four\n",
       "0    1   10    100  1000\n",
       "1    2   20    200  2000\n",
       "2    3   30    300  3000\n",
       "3    4   40    400  4000"
      ]
     },
     "execution_count": 537,
     "metadata": {},
     "output_type": "execute_result"
    }
   ],
   "source": [
    "data = { 'one'   : pd.Series([1, 2, 3, 4]),\n",
    "         'two'   : pd.Series([10, 20, 30, 40]),\n",
    "         'three' : pd.Series([100, 200, 300, 400]),\n",
    "         'four'  : pd.Series([1000, 2000, 3000, 4000])}\n",
    "\n",
    "df = pd.DataFrame(data)\n",
    "df"
   ]
  },
  {
   "cell_type": "code",
   "execution_count": 539,
   "id": "266dc695-e638-48c6-9f45-cc429cab69b5",
   "metadata": {},
   "outputs": [
    {
     "data": {
      "text/html": [
       "<div>\n",
       "<style scoped>\n",
       "    .dataframe tbody tr th:only-of-type {\n",
       "        vertical-align: middle;\n",
       "    }\n",
       "\n",
       "    .dataframe tbody tr th {\n",
       "        vertical-align: top;\n",
       "    }\n",
       "\n",
       "    .dataframe thead th {\n",
       "        text-align: right;\n",
       "    }\n",
       "</style>\n",
       "<table border=\"1\" class=\"dataframe\">\n",
       "  <thead>\n",
       "    <tr style=\"text-align: right;\">\n",
       "      <th></th>\n",
       "      <th>One</th>\n",
       "      <th>Two</th>\n",
       "      <th>Three</th>\n",
       "      <th>Four</th>\n",
       "    </tr>\n",
       "  </thead>\n",
       "  <tbody>\n",
       "    <tr>\n",
       "      <th>a</th>\n",
       "      <td>1</td>\n",
       "      <td>10</td>\n",
       "      <td>100</td>\n",
       "      <td>1000</td>\n",
       "    </tr>\n",
       "    <tr>\n",
       "      <th>b</th>\n",
       "      <td>2</td>\n",
       "      <td>20</td>\n",
       "      <td>200</td>\n",
       "      <td>2000</td>\n",
       "    </tr>\n",
       "    <tr>\n",
       "      <th>c</th>\n",
       "      <td>3</td>\n",
       "      <td>30</td>\n",
       "      <td>300</td>\n",
       "      <td>3000</td>\n",
       "    </tr>\n",
       "    <tr>\n",
       "      <th>3</th>\n",
       "      <td>4</td>\n",
       "      <td>40</td>\n",
       "      <td>400</td>\n",
       "      <td>4000</td>\n",
       "    </tr>\n",
       "  </tbody>\n",
       "</table>\n",
       "</div>"
      ],
      "text/plain": [
       "   One  Two  Three  Four\n",
       "a    1   10    100  1000\n",
       "b    2   20    200  2000\n",
       "c    3   30    300  3000\n",
       "3    4   40    400  4000"
      ]
     },
     "execution_count": 539,
     "metadata": {},
     "output_type": "execute_result"
    }
   ],
   "source": [
    "df.rename(columns = {'one' : 'One','two': 'Two', 'three' : 'Three', 'four' : 'Four'}, \n",
    "           inplace = True, index = {0:'a',1:'b',2:'c',4:'d'})\n",
    "df"
   ]
  },
  {
   "cell_type": "markdown",
   "id": "1dfa39c2-db9a-499d-b93e-79b547ab2a19",
   "metadata": {},
   "source": [
    "### 14 Sorting \n",
    "Pandas provides several methods to sort a DataFrame based on one or more columns.\n",
    "\n",
    "- sort_values: This method sorts the DataFrame based on one or more columns. The default sorting order is ascending, but you can change it to descending by passing the ascending argument with a value of False. bash"
   ]
  },
  {
   "cell_type": "code",
   "execution_count": 547,
   "id": "ce550aef-f1f6-4973-99c8-9be4e838c108",
   "metadata": {},
   "outputs": [
    {
     "data": {
      "text/html": [
       "<div>\n",
       "<style scoped>\n",
       "    .dataframe tbody tr th:only-of-type {\n",
       "        vertical-align: middle;\n",
       "    }\n",
       "\n",
       "    .dataframe tbody tr th {\n",
       "        vertical-align: top;\n",
       "    }\n",
       "\n",
       "    .dataframe thead th {\n",
       "        text-align: right;\n",
       "    }\n",
       "</style>\n",
       "<table border=\"1\" class=\"dataframe\">\n",
       "  <thead>\n",
       "    <tr style=\"text-align: right;\">\n",
       "      <th></th>\n",
       "      <th>one</th>\n",
       "      <th>two</th>\n",
       "      <th>three</th>\n",
       "      <th>four</th>\n",
       "    </tr>\n",
       "  </thead>\n",
       "  <tbody>\n",
       "    <tr>\n",
       "      <th>0</th>\n",
       "      <td>11</td>\n",
       "      <td>10</td>\n",
       "      <td>100</td>\n",
       "      <td>1000</td>\n",
       "    </tr>\n",
       "    <tr>\n",
       "      <th>1</th>\n",
       "      <td>51</td>\n",
       "      <td>20</td>\n",
       "      <td>200</td>\n",
       "      <td>2000</td>\n",
       "    </tr>\n",
       "    <tr>\n",
       "      <th>2</th>\n",
       "      <td>31</td>\n",
       "      <td>30</td>\n",
       "      <td>500</td>\n",
       "      <td>3000</td>\n",
       "    </tr>\n",
       "    <tr>\n",
       "      <th>3</th>\n",
       "      <td>41</td>\n",
       "      <td>40</td>\n",
       "      <td>400</td>\n",
       "      <td>4000</td>\n",
       "    </tr>\n",
       "  </tbody>\n",
       "</table>\n",
       "</div>"
      ],
      "text/plain": [
       "   one  two  three  four\n",
       "0   11   10    100  1000\n",
       "1   51   20    200  2000\n",
       "2   31   30    500  3000\n",
       "3   41   40    400  4000"
      ]
     },
     "execution_count": 547,
     "metadata": {},
     "output_type": "execute_result"
    }
   ],
   "source": [
    "data = { 'one'   : pd.Series([11, 51, 31, 41]),\n",
    "         'two'   : pd.Series([10, 20, 30, 40]),\n",
    "         'three' : pd.Series([100, 200, 500, 400]),\n",
    "         'four'  : pd.Series([1000, 2000, 3000, 4000])}\n",
    "\n",
    "df = pd.DataFrame(data)\n",
    "df"
   ]
  },
  {
   "cell_type": "markdown",
   "id": "6c551d0d-7855-4af0-a088-01a45d08f319",
   "metadata": {},
   "source": [
    "- **Sort with  respect to specific column**"
   ]
  },
  {
   "cell_type": "code",
   "execution_count": 558,
   "id": "d10a3d93-479c-4827-8c1f-55c1ad9b8a45",
   "metadata": {},
   "outputs": [
    {
     "data": {
      "text/html": [
       "<div>\n",
       "<style scoped>\n",
       "    .dataframe tbody tr th:only-of-type {\n",
       "        vertical-align: middle;\n",
       "    }\n",
       "\n",
       "    .dataframe tbody tr th {\n",
       "        vertical-align: top;\n",
       "    }\n",
       "\n",
       "    .dataframe thead th {\n",
       "        text-align: right;\n",
       "    }\n",
       "</style>\n",
       "<table border=\"1\" class=\"dataframe\">\n",
       "  <thead>\n",
       "    <tr style=\"text-align: right;\">\n",
       "      <th></th>\n",
       "      <th>one</th>\n",
       "      <th>two</th>\n",
       "      <th>three</th>\n",
       "      <th>four</th>\n",
       "    </tr>\n",
       "  </thead>\n",
       "  <tbody>\n",
       "    <tr>\n",
       "      <th>0</th>\n",
       "      <td>11</td>\n",
       "      <td>10</td>\n",
       "      <td>100</td>\n",
       "      <td>1000</td>\n",
       "    </tr>\n",
       "    <tr>\n",
       "      <th>2</th>\n",
       "      <td>31</td>\n",
       "      <td>30</td>\n",
       "      <td>500</td>\n",
       "      <td>3000</td>\n",
       "    </tr>\n",
       "    <tr>\n",
       "      <th>3</th>\n",
       "      <td>41</td>\n",
       "      <td>40</td>\n",
       "      <td>400</td>\n",
       "      <td>4000</td>\n",
       "    </tr>\n",
       "    <tr>\n",
       "      <th>1</th>\n",
       "      <td>51</td>\n",
       "      <td>20</td>\n",
       "      <td>200</td>\n",
       "      <td>2000</td>\n",
       "    </tr>\n",
       "  </tbody>\n",
       "</table>\n",
       "</div>"
      ],
      "text/plain": [
       "   one  two  three  four\n",
       "0   11   10    100  1000\n",
       "2   31   30    500  3000\n",
       "3   41   40    400  4000\n",
       "1   51   20    200  2000"
      ]
     },
     "execution_count": 558,
     "metadata": {},
     "output_type": "execute_result"
    }
   ],
   "source": [
    "df.sort_values(by = 'one')"
   ]
  },
  {
   "cell_type": "markdown",
   "id": "e0378478-85e7-4560-8c98-a11ee9e13b15",
   "metadata": {},
   "source": [
    "- **Sort in specific order**"
   ]
  },
  {
   "cell_type": "code",
   "execution_count": 570,
   "id": "2824fb52-13d9-44ce-a05c-e65612a5725c",
   "metadata": {},
   "outputs": [
    {
     "data": {
      "text/html": [
       "<div>\n",
       "<style scoped>\n",
       "    .dataframe tbody tr th:only-of-type {\n",
       "        vertical-align: middle;\n",
       "    }\n",
       "\n",
       "    .dataframe tbody tr th {\n",
       "        vertical-align: top;\n",
       "    }\n",
       "\n",
       "    .dataframe thead th {\n",
       "        text-align: right;\n",
       "    }\n",
       "</style>\n",
       "<table border=\"1\" class=\"dataframe\">\n",
       "  <thead>\n",
       "    <tr style=\"text-align: right;\">\n",
       "      <th></th>\n",
       "      <th>one</th>\n",
       "      <th>two</th>\n",
       "      <th>three</th>\n",
       "      <th>four</th>\n",
       "    </tr>\n",
       "  </thead>\n",
       "  <tbody>\n",
       "    <tr>\n",
       "      <th>1</th>\n",
       "      <td>51</td>\n",
       "      <td>20</td>\n",
       "      <td>200</td>\n",
       "      <td>2000</td>\n",
       "    </tr>\n",
       "    <tr>\n",
       "      <th>3</th>\n",
       "      <td>41</td>\n",
       "      <td>40</td>\n",
       "      <td>400</td>\n",
       "      <td>4000</td>\n",
       "    </tr>\n",
       "    <tr>\n",
       "      <th>2</th>\n",
       "      <td>31</td>\n",
       "      <td>30</td>\n",
       "      <td>500</td>\n",
       "      <td>3000</td>\n",
       "    </tr>\n",
       "    <tr>\n",
       "      <th>0</th>\n",
       "      <td>11</td>\n",
       "      <td>10</td>\n",
       "      <td>100</td>\n",
       "      <td>1000</td>\n",
       "    </tr>\n",
       "  </tbody>\n",
       "</table>\n",
       "</div>"
      ],
      "text/plain": [
       "   one  two  three  four\n",
       "1   51   20    200  2000\n",
       "3   41   40    400  4000\n",
       "2   31   30    500  3000\n",
       "0   11   10    100  1000"
      ]
     },
     "execution_count": 570,
     "metadata": {},
     "output_type": "execute_result"
    }
   ],
   "source": [
    "df.sort_values(by = 'one' , ascending = False)"
   ]
  },
  {
   "cell_type": "markdown",
   "id": "3e6f8768-f9da-4cbf-b2b5-b137cebfac45",
   "metadata": {},
   "source": [
    "- **Sort in specific order based on multiple columns**"
   ]
  },
  {
   "cell_type": "code",
   "execution_count": 579,
   "id": "8b504898-9dce-4afd-be93-aa91dad41141",
   "metadata": {},
   "outputs": [
    {
     "data": {
      "text/html": [
       "<div>\n",
       "<style scoped>\n",
       "    .dataframe tbody tr th:only-of-type {\n",
       "        vertical-align: middle;\n",
       "    }\n",
       "\n",
       "    .dataframe tbody tr th {\n",
       "        vertical-align: top;\n",
       "    }\n",
       "\n",
       "    .dataframe thead th {\n",
       "        text-align: right;\n",
       "    }\n",
       "</style>\n",
       "<table border=\"1\" class=\"dataframe\">\n",
       "  <thead>\n",
       "    <tr style=\"text-align: right;\">\n",
       "      <th></th>\n",
       "      <th>one</th>\n",
       "      <th>two</th>\n",
       "      <th>three</th>\n",
       "      <th>four</th>\n",
       "    </tr>\n",
       "  </thead>\n",
       "  <tbody>\n",
       "    <tr>\n",
       "      <th>0</th>\n",
       "      <td>11</td>\n",
       "      <td>10</td>\n",
       "      <td>100</td>\n",
       "      <td>1000</td>\n",
       "    </tr>\n",
       "    <tr>\n",
       "      <th>2</th>\n",
       "      <td>31</td>\n",
       "      <td>30</td>\n",
       "      <td>500</td>\n",
       "      <td>3000</td>\n",
       "    </tr>\n",
       "    <tr>\n",
       "      <th>3</th>\n",
       "      <td>41</td>\n",
       "      <td>40</td>\n",
       "      <td>400</td>\n",
       "      <td>4000</td>\n",
       "    </tr>\n",
       "    <tr>\n",
       "      <th>1</th>\n",
       "      <td>51</td>\n",
       "      <td>20</td>\n",
       "      <td>200</td>\n",
       "      <td>2000</td>\n",
       "    </tr>\n",
       "  </tbody>\n",
       "</table>\n",
       "</div>"
      ],
      "text/plain": [
       "   one  two  three  four\n",
       "0   11   10    100  1000\n",
       "2   31   30    500  3000\n",
       "3   41   40    400  4000\n",
       "1   51   20    200  2000"
      ]
     },
     "execution_count": 579,
     "metadata": {},
     "output_type": "execute_result"
    }
   ],
   "source": [
    "df.sort_values(by = ['one', 'two'])"
   ]
  },
  {
   "cell_type": "markdown",
   "id": "bb2334aa-03fe-4cea-a7b4-760aa263457c",
   "metadata": {},
   "source": [
    "- **Sort in specific order based on sorting  algorithms**\n",
    "- quicksort\n",
    "- mergesort\n",
    "- heapsort"
   ]
  },
  {
   "cell_type": "code",
   "execution_count": 582,
   "id": "96345282-3c34-41b2-a718-9d72068c5ec3",
   "metadata": {},
   "outputs": [
    {
     "data": {
      "text/html": [
       "<div>\n",
       "<style scoped>\n",
       "    .dataframe tbody tr th:only-of-type {\n",
       "        vertical-align: middle;\n",
       "    }\n",
       "\n",
       "    .dataframe tbody tr th {\n",
       "        vertical-align: top;\n",
       "    }\n",
       "\n",
       "    .dataframe thead th {\n",
       "        text-align: right;\n",
       "    }\n",
       "</style>\n",
       "<table border=\"1\" class=\"dataframe\">\n",
       "  <thead>\n",
       "    <tr style=\"text-align: right;\">\n",
       "      <th></th>\n",
       "      <th>one</th>\n",
       "      <th>two</th>\n",
       "      <th>three</th>\n",
       "      <th>four</th>\n",
       "    </tr>\n",
       "  </thead>\n",
       "  <tbody>\n",
       "    <tr>\n",
       "      <th>0</th>\n",
       "      <td>11</td>\n",
       "      <td>10</td>\n",
       "      <td>100</td>\n",
       "      <td>1000</td>\n",
       "    </tr>\n",
       "    <tr>\n",
       "      <th>2</th>\n",
       "      <td>31</td>\n",
       "      <td>30</td>\n",
       "      <td>500</td>\n",
       "      <td>3000</td>\n",
       "    </tr>\n",
       "    <tr>\n",
       "      <th>3</th>\n",
       "      <td>41</td>\n",
       "      <td>40</td>\n",
       "      <td>400</td>\n",
       "      <td>4000</td>\n",
       "    </tr>\n",
       "    <tr>\n",
       "      <th>1</th>\n",
       "      <td>51</td>\n",
       "      <td>20</td>\n",
       "      <td>200</td>\n",
       "      <td>2000</td>\n",
       "    </tr>\n",
       "  </tbody>\n",
       "</table>\n",
       "</div>"
      ],
      "text/plain": [
       "   one  two  three  four\n",
       "0   11   10    100  1000\n",
       "2   31   30    500  3000\n",
       "3   41   40    400  4000\n",
       "1   51   20    200  2000"
      ]
     },
     "execution_count": 582,
     "metadata": {},
     "output_type": "execute_result"
    }
   ],
   "source": [
    "df.sort_values(by = 'one', kind = 'heapsort')"
   ]
  },
  {
   "cell_type": "markdown",
   "id": "ae4db677-701b-43d8-9bbf-33f7b605e5eb",
   "metadata": {},
   "source": [
    "### 15 Groupby function\n",
    "The groupby function in pandas is used to split a dataframe into groups based on one or more columns. It returns a DataFrameGroupBy object, which is similar to a DataFrame but has some additional methods to perform operations on the grouped data."
   ]
  },
  {
   "cell_type": "code",
   "execution_count": 652,
   "id": "d981d5b8-17b7-4f15-bde2-5a0a00c20600",
   "metadata": {},
   "outputs": [
    {
     "data": {
      "text/html": [
       "<div>\n",
       "<style scoped>\n",
       "    .dataframe tbody tr th:only-of-type {\n",
       "        vertical-align: middle;\n",
       "    }\n",
       "\n",
       "    .dataframe tbody tr th {\n",
       "        vertical-align: top;\n",
       "    }\n",
       "\n",
       "    .dataframe thead th {\n",
       "        text-align: right;\n",
       "    }\n",
       "</style>\n",
       "<table border=\"1\" class=\"dataframe\">\n",
       "  <thead>\n",
       "    <tr style=\"text-align: right;\">\n",
       "      <th></th>\n",
       "      <th>Team</th>\n",
       "      <th>Rank</th>\n",
       "      <th>Year</th>\n",
       "      <th>Points</th>\n",
       "    </tr>\n",
       "  </thead>\n",
       "  <tbody>\n",
       "    <tr>\n",
       "      <th>0</th>\n",
       "      <td>India</td>\n",
       "      <td>2</td>\n",
       "      <td>2014</td>\n",
       "      <td>876</td>\n",
       "    </tr>\n",
       "    <tr>\n",
       "      <th>1</th>\n",
       "      <td>India</td>\n",
       "      <td>3</td>\n",
       "      <td>2015</td>\n",
       "      <td>801</td>\n",
       "    </tr>\n",
       "    <tr>\n",
       "      <th>2</th>\n",
       "      <td>Australia</td>\n",
       "      <td>1</td>\n",
       "      <td>2014</td>\n",
       "      <td>891</td>\n",
       "    </tr>\n",
       "    <tr>\n",
       "      <th>3</th>\n",
       "      <td>Australia</td>\n",
       "      <td>2</td>\n",
       "      <td>2015</td>\n",
       "      <td>815</td>\n",
       "    </tr>\n",
       "    <tr>\n",
       "      <th>4</th>\n",
       "      <td>SA</td>\n",
       "      <td>3</td>\n",
       "      <td>2014</td>\n",
       "      <td>776</td>\n",
       "    </tr>\n",
       "    <tr>\n",
       "      <th>5</th>\n",
       "      <td>SA</td>\n",
       "      <td>4</td>\n",
       "      <td>2015</td>\n",
       "      <td>784</td>\n",
       "    </tr>\n",
       "    <tr>\n",
       "      <th>6</th>\n",
       "      <td>SA</td>\n",
       "      <td>1</td>\n",
       "      <td>2016</td>\n",
       "      <td>834</td>\n",
       "    </tr>\n",
       "    <tr>\n",
       "      <th>7</th>\n",
       "      <td>SA</td>\n",
       "      <td>1</td>\n",
       "      <td>2017</td>\n",
       "      <td>824</td>\n",
       "    </tr>\n",
       "    <tr>\n",
       "      <th>8</th>\n",
       "      <td>NZ</td>\n",
       "      <td>2</td>\n",
       "      <td>2016</td>\n",
       "      <td>758</td>\n",
       "    </tr>\n",
       "    <tr>\n",
       "      <th>9</th>\n",
       "      <td>NZ</td>\n",
       "      <td>4</td>\n",
       "      <td>2014</td>\n",
       "      <td>691</td>\n",
       "    </tr>\n",
       "    <tr>\n",
       "      <th>10</th>\n",
       "      <td>NZ</td>\n",
       "      <td>1</td>\n",
       "      <td>2015</td>\n",
       "      <td>883</td>\n",
       "    </tr>\n",
       "    <tr>\n",
       "      <th>11</th>\n",
       "      <td>India</td>\n",
       "      <td>2</td>\n",
       "      <td>2017</td>\n",
       "      <td>782</td>\n",
       "    </tr>\n",
       "  </tbody>\n",
       "</table>\n",
       "</div>"
      ],
      "text/plain": [
       "         Team  Rank  Year  Points\n",
       "0       India     2  2014     876\n",
       "1       India     3  2015     801\n",
       "2   Australia     1  2014     891\n",
       "3   Australia     2  2015     815\n",
       "4          SA     3  2014     776\n",
       "5          SA     4  2015     784\n",
       "6          SA     1  2016     834\n",
       "7          SA     1  2017     824\n",
       "8          NZ     2  2016     758\n",
       "9          NZ     4  2014     691\n",
       "10         NZ     1  2015     883\n",
       "11      India     2  2017     782"
      ]
     },
     "execution_count": 652,
     "metadata": {},
     "output_type": "execute_result"
    }
   ],
   "source": [
    "cricket = {'Team'   : ['India', 'India', 'Australia', 'Australia', 'SA', 'SA', 'SA', 'SA', 'NZ', 'NZ', 'NZ', 'India'],\n",
    "           'Rank'   : [2, 3, 1,2, 3,4 ,1 ,1,2 , 4,1,2],\n",
    "           'Year'   : [2014,2015,2014,2015,2014,2015,2016,2017,2016,2014,2015,2017],\n",
    "           'Points' : [876,801,891,815,776,784,834,824,758,691,883,782]}\n",
    "\n",
    "df = pd.DataFrame(cricket)\n",
    "df"
   ]
  },
  {
   "cell_type": "code",
   "execution_count": 654,
   "id": "bf45debb-823d-481d-a27c-100bdb73fea6",
   "metadata": {},
   "outputs": [
    {
     "data": {
      "text/plain": [
       "{'Australia': [2, 3], 'India': [0, 1, 11], 'NZ': [8, 9, 10], 'SA': [4, 5, 6, 7]}"
      ]
     },
     "execution_count": 654,
     "metadata": {},
     "output_type": "execute_result"
    }
   ],
   "source": [
    "df.groupby('Team').groups"
   ]
  },
  {
   "cell_type": "markdown",
   "id": "4bf77e6b-302f-4806-817e-75002f1e9eb9",
   "metadata": {},
   "source": [
    "- Austrealia is present in index 2 and 3\n",
    "- India is present in index 0,1 and 11 and so on"
   ]
  },
  {
   "cell_type": "markdown",
   "id": "1dd1ba44-4288-44a0-abf8-7fb486fd01a3",
   "metadata": {},
   "source": [
    "- **To search for specific country with specific year**"
   ]
  },
  {
   "cell_type": "code",
   "execution_count": 658,
   "id": "c518958d-bde7-440b-80d7-f70d112286b5",
   "metadata": {},
   "outputs": [
    {
     "data": {
      "text/html": [
       "<div>\n",
       "<style scoped>\n",
       "    .dataframe tbody tr th:only-of-type {\n",
       "        vertical-align: middle;\n",
       "    }\n",
       "\n",
       "    .dataframe tbody tr th {\n",
       "        vertical-align: top;\n",
       "    }\n",
       "\n",
       "    .dataframe thead th {\n",
       "        text-align: right;\n",
       "    }\n",
       "</style>\n",
       "<table border=\"1\" class=\"dataframe\">\n",
       "  <thead>\n",
       "    <tr style=\"text-align: right;\">\n",
       "      <th></th>\n",
       "      <th>Team</th>\n",
       "      <th>Rank</th>\n",
       "      <th>Year</th>\n",
       "      <th>Points</th>\n",
       "    </tr>\n",
       "  </thead>\n",
       "  <tbody>\n",
       "    <tr>\n",
       "      <th>2</th>\n",
       "      <td>Australia</td>\n",
       "      <td>1</td>\n",
       "      <td>2014</td>\n",
       "      <td>891</td>\n",
       "    </tr>\n",
       "  </tbody>\n",
       "</table>\n",
       "</div>"
      ],
      "text/plain": [
       "        Team  Rank  Year  Points\n",
       "2  Australia     1  2014     891"
      ]
     },
     "execution_count": 658,
     "metadata": {},
     "output_type": "execute_result"
    }
   ],
   "source": [
    "df.groupby(['Team','Year']).get_group(('Australia',2014))"
   ]
  },
  {
   "cell_type": "markdown",
   "id": "c01f7ace-95e7-4372-bfc5-d5b2e0ec4e96",
   "metadata": {},
   "source": [
    "`If the data is not present then we will be getting an error`"
   ]
  },
  {
   "cell_type": "markdown",
   "id": "9bbc14e7-d182-4794-8d41-ac223da97365",
   "metadata": {},
   "source": [
    "- **Adding some statistical computation on top of groupby**"
   ]
  },
  {
   "cell_type": "code",
   "execution_count": 662,
   "id": "4754952e-1ebc-45f0-80aa-abb70596455b",
   "metadata": {},
   "outputs": [
    {
     "data": {
      "text/plain": [
       "Team\n",
       "Australia    1706\n",
       "India        2459\n",
       "NZ           2332\n",
       "SA           3218\n",
       "Name: Points, dtype: int64"
      ]
     },
     "execution_count": 662,
     "metadata": {},
     "output_type": "execute_result"
    }
   ],
   "source": [
    "df.groupby('Team').sum()['Points']"
   ]
  },
  {
   "cell_type": "markdown",
   "id": "ac75f48a-6d68-4b7f-8ec4-4dd90c1bf92f",
   "metadata": {},
   "source": [
    "This means we have displayed the teams which are having the maximum sum in Poitns"
   ]
  },
  {
   "cell_type": "markdown",
   "id": "7edcfacf-98c8-423a-8d48-a9df3d74ad9f",
   "metadata": {},
   "source": [
    "- **Let us sort it to get it in a better way**"
   ]
  },
  {
   "cell_type": "code",
   "execution_count": 666,
   "id": "7b878e5e-db1f-4c27-b5a2-8206927634a1",
   "metadata": {},
   "outputs": [
    {
     "data": {
      "text/plain": [
       "Team\n",
       "SA           3218\n",
       "India        2459\n",
       "NZ           2332\n",
       "Australia    1706\n",
       "Name: Points, dtype: int64"
      ]
     },
     "execution_count": 666,
     "metadata": {},
     "output_type": "execute_result"
    }
   ],
   "source": [
    "df.groupby('Team').sum()['Points'].sort_values(ascending = False)"
   ]
  },
  {
   "cell_type": "markdown",
   "id": "6d0f302f-28eb-4118-bb38-a9220bf4970b",
   "metadata": {},
   "source": [
    "- **Checking multiple stats for points team wise**"
   ]
  },
  {
   "cell_type": "code",
   "execution_count": 669,
   "id": "0e781525-d894-4ce5-861c-9f5013cfa595",
   "metadata": {},
   "outputs": [
    {
     "name": "stderr",
     "output_type": "stream",
     "text": [
      "C:\\Users\\dkvh2\\AppData\\Local\\Temp\\ipykernel_17632\\465911169.py:3: FutureWarning: The provided callable <function sum at 0x000001B93B26F740> is currently using SeriesGroupBy.sum. In a future version of pandas, the provided callable will be used directly. To keep current behavior pass the string \"sum\" instead.\n",
      "  groups['Points'].agg([np.sum, np.mean, np.std,np.max,np.min])\n",
      "C:\\Users\\dkvh2\\AppData\\Local\\Temp\\ipykernel_17632\\465911169.py:3: FutureWarning: The provided callable <function mean at 0x000001B93B294860> is currently using SeriesGroupBy.mean. In a future version of pandas, the provided callable will be used directly. To keep current behavior pass the string \"mean\" instead.\n",
      "  groups['Points'].agg([np.sum, np.mean, np.std,np.max,np.min])\n",
      "C:\\Users\\dkvh2\\AppData\\Local\\Temp\\ipykernel_17632\\465911169.py:3: FutureWarning: The provided callable <function std at 0x000001B93B2949A0> is currently using SeriesGroupBy.std. In a future version of pandas, the provided callable will be used directly. To keep current behavior pass the string \"std\" instead.\n",
      "  groups['Points'].agg([np.sum, np.mean, np.std,np.max,np.min])\n",
      "C:\\Users\\dkvh2\\AppData\\Local\\Temp\\ipykernel_17632\\465911169.py:3: FutureWarning: The provided callable <function max at 0x000001B93B26FE20> is currently using SeriesGroupBy.max. In a future version of pandas, the provided callable will be used directly. To keep current behavior pass the string \"max\" instead.\n",
      "  groups['Points'].agg([np.sum, np.mean, np.std,np.max,np.min])\n",
      "C:\\Users\\dkvh2\\AppData\\Local\\Temp\\ipykernel_17632\\465911169.py:3: FutureWarning: The provided callable <function min at 0x000001B93B26FF60> is currently using SeriesGroupBy.min. In a future version of pandas, the provided callable will be used directly. To keep current behavior pass the string \"min\" instead.\n",
      "  groups['Points'].agg([np.sum, np.mean, np.std,np.max,np.min])\n"
     ]
    },
    {
     "data": {
      "text/html": [
       "<div>\n",
       "<style scoped>\n",
       "    .dataframe tbody tr th:only-of-type {\n",
       "        vertical-align: middle;\n",
       "    }\n",
       "\n",
       "    .dataframe tbody tr th {\n",
       "        vertical-align: top;\n",
       "    }\n",
       "\n",
       "    .dataframe thead th {\n",
       "        text-align: right;\n",
       "    }\n",
       "</style>\n",
       "<table border=\"1\" class=\"dataframe\">\n",
       "  <thead>\n",
       "    <tr style=\"text-align: right;\">\n",
       "      <th></th>\n",
       "      <th>sum</th>\n",
       "      <th>mean</th>\n",
       "      <th>std</th>\n",
       "      <th>max</th>\n",
       "      <th>min</th>\n",
       "    </tr>\n",
       "    <tr>\n",
       "      <th>Team</th>\n",
       "      <th></th>\n",
       "      <th></th>\n",
       "      <th></th>\n",
       "      <th></th>\n",
       "      <th></th>\n",
       "    </tr>\n",
       "  </thead>\n",
       "  <tbody>\n",
       "    <tr>\n",
       "      <th>Australia</th>\n",
       "      <td>1706</td>\n",
       "      <td>853.000000</td>\n",
       "      <td>53.740115</td>\n",
       "      <td>891</td>\n",
       "      <td>815</td>\n",
       "    </tr>\n",
       "    <tr>\n",
       "      <th>India</th>\n",
       "      <td>2459</td>\n",
       "      <td>819.666667</td>\n",
       "      <td>49.702448</td>\n",
       "      <td>876</td>\n",
       "      <td>782</td>\n",
       "    </tr>\n",
       "    <tr>\n",
       "      <th>NZ</th>\n",
       "      <td>2332</td>\n",
       "      <td>777.333333</td>\n",
       "      <td>97.449132</td>\n",
       "      <td>883</td>\n",
       "      <td>691</td>\n",
       "    </tr>\n",
       "    <tr>\n",
       "      <th>SA</th>\n",
       "      <td>3218</td>\n",
       "      <td>804.500000</td>\n",
       "      <td>28.769196</td>\n",
       "      <td>834</td>\n",
       "      <td>776</td>\n",
       "    </tr>\n",
       "  </tbody>\n",
       "</table>\n",
       "</div>"
      ],
      "text/plain": [
       "            sum        mean        std  max  min\n",
       "Team                                            \n",
       "Australia  1706  853.000000  53.740115  891  815\n",
       "India      2459  819.666667  49.702448  876  782\n",
       "NZ         2332  777.333333  97.449132  883  691\n",
       "SA         3218  804.500000  28.769196  834  776"
      ]
     },
     "execution_count": 669,
     "metadata": {},
     "output_type": "execute_result"
    }
   ],
   "source": [
    "groups = df.groupby('Team')\n",
    "\n",
    "groups['Points'].agg([np.sum, np.mean, np.std,np.max,np.min])"
   ]
  },
  {
   "cell_type": "markdown",
   "id": "12cd6e71-be05-4f36-916d-ffd79ac5c4a5",
   "metadata": {},
   "source": [
    "- **filter function along with groupby**"
   ]
  },
  {
   "cell_type": "code",
   "execution_count": 672,
   "id": "77f33548-5c77-46fb-84ca-86075c955c51",
   "metadata": {},
   "outputs": [
    {
     "name": "stdout",
     "output_type": "stream",
     "text": [
      "  Team  Rank  Year  Points\n",
      "4   SA     3  2014     776\n",
      "5   SA     4  2015     784\n",
      "6   SA     1  2016     834\n",
      "7   SA     1  2017     824\n"
     ]
    }
   ],
   "source": [
    "print(df.groupby('Team').filter(lambda x : len(x) == 4))"
   ]
  },
  {
   "cell_type": "markdown",
   "id": "d9f15f6b-a0d0-47c7-a652-9f68fe3db32f",
   "metadata": {},
   "source": [
    "- The data of South Africa are present equal to 4 times that is why South Africa is being displayed here"
   ]
  },
  {
   "cell_type": "code",
   "execution_count": 675,
   "id": "a8248551-a7a4-41eb-a60e-75d22db75581",
   "metadata": {},
   "outputs": [
    {
     "data": {
      "text/html": [
       "<div>\n",
       "<style scoped>\n",
       "    .dataframe tbody tr th:only-of-type {\n",
       "        vertical-align: middle;\n",
       "    }\n",
       "\n",
       "    .dataframe tbody tr th {\n",
       "        vertical-align: top;\n",
       "    }\n",
       "\n",
       "    .dataframe thead th {\n",
       "        text-align: right;\n",
       "    }\n",
       "</style>\n",
       "<table border=\"1\" class=\"dataframe\">\n",
       "  <thead>\n",
       "    <tr style=\"text-align: right;\">\n",
       "      <th></th>\n",
       "      <th>Team</th>\n",
       "      <th>Rank</th>\n",
       "      <th>Year</th>\n",
       "      <th>Points</th>\n",
       "    </tr>\n",
       "  </thead>\n",
       "  <tbody>\n",
       "    <tr>\n",
       "      <th>0</th>\n",
       "      <td>India</td>\n",
       "      <td>2</td>\n",
       "      <td>2014</td>\n",
       "      <td>876</td>\n",
       "    </tr>\n",
       "    <tr>\n",
       "      <th>1</th>\n",
       "      <td>India</td>\n",
       "      <td>3</td>\n",
       "      <td>2015</td>\n",
       "      <td>801</td>\n",
       "    </tr>\n",
       "    <tr>\n",
       "      <th>8</th>\n",
       "      <td>NZ</td>\n",
       "      <td>2</td>\n",
       "      <td>2016</td>\n",
       "      <td>758</td>\n",
       "    </tr>\n",
       "    <tr>\n",
       "      <th>9</th>\n",
       "      <td>NZ</td>\n",
       "      <td>4</td>\n",
       "      <td>2014</td>\n",
       "      <td>691</td>\n",
       "    </tr>\n",
       "    <tr>\n",
       "      <th>10</th>\n",
       "      <td>NZ</td>\n",
       "      <td>1</td>\n",
       "      <td>2015</td>\n",
       "      <td>883</td>\n",
       "    </tr>\n",
       "    <tr>\n",
       "      <th>11</th>\n",
       "      <td>India</td>\n",
       "      <td>2</td>\n",
       "      <td>2017</td>\n",
       "      <td>782</td>\n",
       "    </tr>\n",
       "  </tbody>\n",
       "</table>\n",
       "</div>"
      ],
      "text/plain": [
       "     Team  Rank  Year  Points\n",
       "0   India     2  2014     876\n",
       "1   India     3  2015     801\n",
       "8      NZ     2  2016     758\n",
       "9      NZ     4  2014     691\n",
       "10     NZ     1  2015     883\n",
       "11  India     2  2017     782"
      ]
     },
     "execution_count": 675,
     "metadata": {},
     "output_type": "execute_result"
    }
   ],
   "source": [
    "df.groupby('Team').filter(lambda x : len(x) == 3)"
   ]
  },
  {
   "cell_type": "markdown",
   "id": "78812027-7714-428a-aea9-f2bf2336c5bd",
   "metadata": {},
   "source": [
    "- The data of India and New Zealand are present 3 times so that is why they are being displayed here"
   ]
  },
  {
   "cell_type": "code",
   "execution_count": 678,
   "id": "d12033f2-0cb0-4389-900d-b45b222dcb21",
   "metadata": {},
   "outputs": [
    {
     "data": {
      "text/html": [
       "<div>\n",
       "<style scoped>\n",
       "    .dataframe tbody tr th:only-of-type {\n",
       "        vertical-align: middle;\n",
       "    }\n",
       "\n",
       "    .dataframe tbody tr th {\n",
       "        vertical-align: top;\n",
       "    }\n",
       "\n",
       "    .dataframe thead th {\n",
       "        text-align: right;\n",
       "    }\n",
       "</style>\n",
       "<table border=\"1\" class=\"dataframe\">\n",
       "  <thead>\n",
       "    <tr style=\"text-align: right;\">\n",
       "      <th></th>\n",
       "      <th>Team</th>\n",
       "      <th>Rank</th>\n",
       "      <th>Year</th>\n",
       "      <th>Points</th>\n",
       "    </tr>\n",
       "  </thead>\n",
       "  <tbody>\n",
       "    <tr>\n",
       "      <th>2</th>\n",
       "      <td>Australia</td>\n",
       "      <td>1</td>\n",
       "      <td>2014</td>\n",
       "      <td>891</td>\n",
       "    </tr>\n",
       "    <tr>\n",
       "      <th>3</th>\n",
       "      <td>Australia</td>\n",
       "      <td>2</td>\n",
       "      <td>2015</td>\n",
       "      <td>815</td>\n",
       "    </tr>\n",
       "  </tbody>\n",
       "</table>\n",
       "</div>"
      ],
      "text/plain": [
       "        Team  Rank  Year  Points\n",
       "2  Australia     1  2014     891\n",
       "3  Australia     2  2015     815"
      ]
     },
     "execution_count": 678,
     "metadata": {},
     "output_type": "execute_result"
    }
   ],
   "source": [
    "df.groupby('Team').filter(lambda x : len(x) == 2)"
   ]
  },
  {
   "cell_type": "markdown",
   "id": "ebc2333f-c725-4373-b1b9-dadd87218989",
   "metadata": {},
   "source": [
    "- The data of Australia is present 2 times so that is why they are being displayed here"
   ]
  },
  {
   "cell_type": "markdown",
   "id": "737c7139-f2b6-46f3-95b7-c69d25dfb441",
   "metadata": {},
   "source": [
    "# C Working with csv files and basic data Analysis Using Pandas"
   ]
  },
  {
   "cell_type": "markdown",
   "id": "2303652e-8f35-477e-9d06-0d52f9c08738",
   "metadata": {},
   "source": [
    "### 1 Reading CSV"
   ]
  },
  {
   "cell_type": "code",
   "execution_count": 705,
   "id": "d0593f48-f686-49d5-82fa-c03ab75aa93a",
   "metadata": {},
   "outputs": [
    {
     "data": {
      "text/html": [
       "<div>\n",
       "<style scoped>\n",
       "    .dataframe tbody tr th:only-of-type {\n",
       "        vertical-align: middle;\n",
       "    }\n",
       "\n",
       "    .dataframe tbody tr th {\n",
       "        vertical-align: top;\n",
       "    }\n",
       "\n",
       "    .dataframe thead th {\n",
       "        text-align: right;\n",
       "    }\n",
       "</style>\n",
       "<table border=\"1\" class=\"dataframe\">\n",
       "  <thead>\n",
       "    <tr style=\"text-align: right;\">\n",
       "      <th></th>\n",
       "      <th>Country</th>\n",
       "      <th>League</th>\n",
       "      <th>Club</th>\n",
       "      <th>Player Names</th>\n",
       "      <th>Matches_Played</th>\n",
       "      <th>Substitution</th>\n",
       "      <th>Mins</th>\n",
       "      <th>Goals</th>\n",
       "      <th>xG</th>\n",
       "      <th>xG Per Avg Match</th>\n",
       "      <th>Shots</th>\n",
       "      <th>OnTarget</th>\n",
       "      <th>Shots Per Avg Match</th>\n",
       "      <th>On Target Per Avg Match</th>\n",
       "      <th>Year</th>\n",
       "    </tr>\n",
       "  </thead>\n",
       "  <tbody>\n",
       "    <tr>\n",
       "      <th>0</th>\n",
       "      <td>Spain</td>\n",
       "      <td>La Liga</td>\n",
       "      <td>(BET)</td>\n",
       "      <td>Juanmi Callejon</td>\n",
       "      <td>19</td>\n",
       "      <td>16</td>\n",
       "      <td>1849</td>\n",
       "      <td>11</td>\n",
       "      <td>6.62</td>\n",
       "      <td>0.34</td>\n",
       "      <td>48</td>\n",
       "      <td>20</td>\n",
       "      <td>2.47</td>\n",
       "      <td>1.03</td>\n",
       "      <td>2016</td>\n",
       "    </tr>\n",
       "    <tr>\n",
       "      <th>1</th>\n",
       "      <td>Spain</td>\n",
       "      <td>La Liga</td>\n",
       "      <td>(BAR)</td>\n",
       "      <td>Antoine Griezmann</td>\n",
       "      <td>36</td>\n",
       "      <td>0</td>\n",
       "      <td>3129</td>\n",
       "      <td>16</td>\n",
       "      <td>11.86</td>\n",
       "      <td>0.36</td>\n",
       "      <td>88</td>\n",
       "      <td>41</td>\n",
       "      <td>2.67</td>\n",
       "      <td>1.24</td>\n",
       "      <td>2016</td>\n",
       "    </tr>\n",
       "    <tr>\n",
       "      <th>2</th>\n",
       "      <td>Spain</td>\n",
       "      <td>La Liga</td>\n",
       "      <td>(ATL)</td>\n",
       "      <td>Luis Suarez</td>\n",
       "      <td>34</td>\n",
       "      <td>1</td>\n",
       "      <td>2940</td>\n",
       "      <td>28</td>\n",
       "      <td>23.21</td>\n",
       "      <td>0.75</td>\n",
       "      <td>120</td>\n",
       "      <td>57</td>\n",
       "      <td>3.88</td>\n",
       "      <td>1.84</td>\n",
       "      <td>2016</td>\n",
       "    </tr>\n",
       "    <tr>\n",
       "      <th>3</th>\n",
       "      <td>Spain</td>\n",
       "      <td>La Liga</td>\n",
       "      <td>(CAR)</td>\n",
       "      <td>Ruben Castro</td>\n",
       "      <td>32</td>\n",
       "      <td>3</td>\n",
       "      <td>2842</td>\n",
       "      <td>13</td>\n",
       "      <td>14.06</td>\n",
       "      <td>0.47</td>\n",
       "      <td>117</td>\n",
       "      <td>42</td>\n",
       "      <td>3.91</td>\n",
       "      <td>1.40</td>\n",
       "      <td>2016</td>\n",
       "    </tr>\n",
       "    <tr>\n",
       "      <th>4</th>\n",
       "      <td>Spain</td>\n",
       "      <td>La Liga</td>\n",
       "      <td>(VAL)</td>\n",
       "      <td>Kevin Gameiro</td>\n",
       "      <td>21</td>\n",
       "      <td>10</td>\n",
       "      <td>1745</td>\n",
       "      <td>13</td>\n",
       "      <td>10.65</td>\n",
       "      <td>0.58</td>\n",
       "      <td>50</td>\n",
       "      <td>23</td>\n",
       "      <td>2.72</td>\n",
       "      <td>1.25</td>\n",
       "      <td>2016</td>\n",
       "    </tr>\n",
       "  </tbody>\n",
       "</table>\n",
       "</div>"
      ],
      "text/plain": [
       "  Country   League   Club       Player Names  Matches_Played  Substitution   \\\n",
       "0   Spain  La Liga  (BET)    Juanmi Callejon              19             16   \n",
       "1   Spain  La Liga  (BAR)  Antoine Griezmann              36              0   \n",
       "2   Spain  La Liga  (ATL)        Luis Suarez              34              1   \n",
       "3   Spain  La Liga  (CAR)       Ruben Castro              32              3   \n",
       "4   Spain  La Liga  (VAL)      Kevin Gameiro              21             10   \n",
       "\n",
       "   Mins  Goals     xG  xG Per Avg Match  Shots  OnTarget  Shots Per Avg Match  \\\n",
       "0  1849     11   6.62              0.34     48        20                 2.47   \n",
       "1  3129     16  11.86              0.36     88        41                 2.67   \n",
       "2  2940     28  23.21              0.75    120        57                 3.88   \n",
       "3  2842     13  14.06              0.47    117        42                 3.91   \n",
       "4  1745     13  10.65              0.58     50        23                 2.72   \n",
       "\n",
       "   On Target Per Avg Match  Year  \n",
       "0                     1.03  2016  \n",
       "1                     1.24  2016  \n",
       "2                     1.84  2016  \n",
       "3                     1.40  2016  \n",
       "4                     1.25  2016  "
      ]
     },
     "execution_count": 705,
     "metadata": {},
     "output_type": "execute_result"
    }
   ],
   "source": [
    "df = pd.read_csv('Football.csv')\n",
    "\n",
    "df.head()"
   ]
  },
  {
   "cell_type": "markdown",
   "id": "730d9cd6-66c0-4dea-9909-15ebe5ca389a",
   "metadata": {},
   "source": [
    "- Reading CSV files from github repositories\n",
    "- **NOTE**: The link of the page should be copied when the file is in raw format"
   ]
  },
  {
   "cell_type": "code",
   "execution_count": 708,
   "id": "09364294-936d-4fb2-8c8c-4b3a3c688de1",
   "metadata": {},
   "outputs": [],
   "source": [
    "link = 'https://raw.githubusercontent.com/AshishJangra27/Data-Analysis-with-Python-GFG/main/3.%20Data%20Preprocessing%20-%20Removing%20Null%20Value%20Rows/googleplaystore.csv'\n",
    "\n",
    "#df = pd.read_csv(link)\n",
    "#df.head()"
   ]
  },
  {
   "cell_type": "markdown",
   "id": "7c68e53b-671a-41d6-9a28-34e235cde52c",
   "metadata": {},
   "source": [
    "### 2 Pandas info() function\n",
    "Pandas dataframe.info() function is used to get a concise summary of the dataframe. It comes really handy when doing exploratory analysis of the data. To get a quick overview of the dataset we use the dataframe.info() function.\n",
    "\n",
    "Syntax: DataFrame.info(verbose=None, buf=None, max_cols=None, memory_usage=None, null_counts=None)"
   ]
  },
  {
   "cell_type": "code",
   "execution_count": 711,
   "id": "4a4b915c-9872-40bb-bd64-d29aab9d3e23",
   "metadata": {},
   "outputs": [
    {
     "name": "stdout",
     "output_type": "stream",
     "text": [
      "<class 'pandas.core.frame.DataFrame'>\n",
      "RangeIndex: 660 entries, 0 to 659\n",
      "Data columns (total 15 columns):\n",
      " #   Column                   Non-Null Count  Dtype  \n",
      "---  ------                   --------------  -----  \n",
      " 0   Country                  660 non-null    object \n",
      " 1   League                   660 non-null    object \n",
      " 2   Club                     626 non-null    object \n",
      " 3   Player Names             660 non-null    object \n",
      " 4   Matches_Played           660 non-null    int64  \n",
      " 5   Substitution             660 non-null    int64  \n",
      " 6   Mins                     660 non-null    int64  \n",
      " 7   Goals                    660 non-null    int64  \n",
      " 8   xG                       660 non-null    float64\n",
      " 9   xG Per Avg Match         660 non-null    float64\n",
      " 10  Shots                    660 non-null    int64  \n",
      " 11  OnTarget                 660 non-null    int64  \n",
      " 12  Shots Per Avg Match      660 non-null    float64\n",
      " 13  On Target Per Avg Match  660 non-null    float64\n",
      " 14  Year                     660 non-null    int64  \n",
      "dtypes: float64(4), int64(7), object(4)\n",
      "memory usage: 77.5+ KB\n"
     ]
    }
   ],
   "source": [
    "df.info()"
   ]
  },
  {
   "cell_type": "markdown",
   "id": "cc20a121-6fc4-451a-bbfe-f707a7114273",
   "metadata": {},
   "source": [
    "### 3 isnull() function to check if there are nan values present"
   ]
  },
  {
   "cell_type": "code",
   "execution_count": 722,
   "id": "294a7d26-1a8a-4605-98db-dce0aa906380",
   "metadata": {},
   "outputs": [
    {
     "data": {
      "text/plain": [
       "Country                     0\n",
       "League                      0\n",
       "Club                       34\n",
       "Player Names                0\n",
       "Matches_Played              0\n",
       "Substitution                0\n",
       "Mins                        0\n",
       "Goals                       0\n",
       "xG                          0\n",
       "xG Per Avg Match            0\n",
       "Shots                       0\n",
       "OnTarget                    0\n",
       "Shots Per Avg Match         0\n",
       "On Target Per Avg Match     0\n",
       "Year                        0\n",
       "dtype: int64"
      ]
     },
     "execution_count": 722,
     "metadata": {},
     "output_type": "execute_result"
    }
   ],
   "source": [
    "df.isnull().sum()"
   ]
  },
  {
   "cell_type": "markdown",
   "id": "3235b660-e88f-40ea-ada3-257aca8fff6f",
   "metadata": {},
   "source": [
    "### 4 Quantile function to get the specific percentile value\n",
    "Let us check the 80 percentile value of each columns using describe function first"
   ]
  },
  {
   "cell_type": "code",
   "execution_count": 726,
   "id": "dabf3b81-7d1d-4bf5-ab77-c20151720c3f",
   "metadata": {},
   "outputs": [
    {
     "data": {
      "text/html": [
       "<div>\n",
       "<style scoped>\n",
       "    .dataframe tbody tr th:only-of-type {\n",
       "        vertical-align: middle;\n",
       "    }\n",
       "\n",
       "    .dataframe tbody tr th {\n",
       "        vertical-align: top;\n",
       "    }\n",
       "\n",
       "    .dataframe thead th {\n",
       "        text-align: right;\n",
       "    }\n",
       "</style>\n",
       "<table border=\"1\" class=\"dataframe\">\n",
       "  <thead>\n",
       "    <tr style=\"text-align: right;\">\n",
       "      <th></th>\n",
       "      <th>Matches_Played</th>\n",
       "      <th>Substitution</th>\n",
       "      <th>Mins</th>\n",
       "      <th>Goals</th>\n",
       "      <th>xG</th>\n",
       "      <th>xG Per Avg Match</th>\n",
       "      <th>Shots</th>\n",
       "      <th>OnTarget</th>\n",
       "      <th>Shots Per Avg Match</th>\n",
       "      <th>On Target Per Avg Match</th>\n",
       "      <th>Year</th>\n",
       "    </tr>\n",
       "  </thead>\n",
       "  <tbody>\n",
       "    <tr>\n",
       "      <th>count</th>\n",
       "      <td>660.000000</td>\n",
       "      <td>660.000000</td>\n",
       "      <td>660.000000</td>\n",
       "      <td>660.000000</td>\n",
       "      <td>660.000000</td>\n",
       "      <td>660.000000</td>\n",
       "      <td>660.000000</td>\n",
       "      <td>660.000000</td>\n",
       "      <td>660.000000</td>\n",
       "      <td>660.000000</td>\n",
       "      <td>660.000000</td>\n",
       "    </tr>\n",
       "    <tr>\n",
       "      <th>mean</th>\n",
       "      <td>22.371212</td>\n",
       "      <td>3.224242</td>\n",
       "      <td>2071.416667</td>\n",
       "      <td>11.810606</td>\n",
       "      <td>10.089606</td>\n",
       "      <td>0.476167</td>\n",
       "      <td>64.177273</td>\n",
       "      <td>28.365152</td>\n",
       "      <td>2.948015</td>\n",
       "      <td>1.315652</td>\n",
       "      <td>2018.363636</td>\n",
       "    </tr>\n",
       "    <tr>\n",
       "      <th>std</th>\n",
       "      <td>9.754658</td>\n",
       "      <td>3.839498</td>\n",
       "      <td>900.595049</td>\n",
       "      <td>6.075315</td>\n",
       "      <td>5.724844</td>\n",
       "      <td>0.192831</td>\n",
       "      <td>34.941622</td>\n",
       "      <td>16.363149</td>\n",
       "      <td>0.914906</td>\n",
       "      <td>0.474239</td>\n",
       "      <td>1.367700</td>\n",
       "    </tr>\n",
       "    <tr>\n",
       "      <th>min</th>\n",
       "      <td>2.000000</td>\n",
       "      <td>0.000000</td>\n",
       "      <td>264.000000</td>\n",
       "      <td>2.000000</td>\n",
       "      <td>0.710000</td>\n",
       "      <td>0.070000</td>\n",
       "      <td>5.000000</td>\n",
       "      <td>2.000000</td>\n",
       "      <td>0.800000</td>\n",
       "      <td>0.240000</td>\n",
       "      <td>2016.000000</td>\n",
       "    </tr>\n",
       "    <tr>\n",
       "      <th>50%</th>\n",
       "      <td>24.000000</td>\n",
       "      <td>2.000000</td>\n",
       "      <td>2245.500000</td>\n",
       "      <td>11.000000</td>\n",
       "      <td>9.285000</td>\n",
       "      <td>0.435000</td>\n",
       "      <td>62.000000</td>\n",
       "      <td>26.000000</td>\n",
       "      <td>2.845000</td>\n",
       "      <td>1.250000</td>\n",
       "      <td>2019.000000</td>\n",
       "    </tr>\n",
       "    <tr>\n",
       "      <th>80%</th>\n",
       "      <td>32.000000</td>\n",
       "      <td>6.000000</td>\n",
       "      <td>2915.800000</td>\n",
       "      <td>15.000000</td>\n",
       "      <td>14.076000</td>\n",
       "      <td>0.610000</td>\n",
       "      <td>90.000000</td>\n",
       "      <td>39.000000</td>\n",
       "      <td>3.600000</td>\n",
       "      <td>1.630000</td>\n",
       "      <td>2020.000000</td>\n",
       "    </tr>\n",
       "    <tr>\n",
       "      <th>max</th>\n",
       "      <td>38.000000</td>\n",
       "      <td>26.000000</td>\n",
       "      <td>4177.000000</td>\n",
       "      <td>42.000000</td>\n",
       "      <td>32.540000</td>\n",
       "      <td>1.350000</td>\n",
       "      <td>208.000000</td>\n",
       "      <td>102.000000</td>\n",
       "      <td>7.200000</td>\n",
       "      <td>3.630000</td>\n",
       "      <td>2020.000000</td>\n",
       "    </tr>\n",
       "  </tbody>\n",
       "</table>\n",
       "</div>"
      ],
      "text/plain": [
       "       Matches_Played  Substitution          Mins       Goals          xG  \\\n",
       "count      660.000000     660.000000   660.000000  660.000000  660.000000   \n",
       "mean        22.371212       3.224242  2071.416667   11.810606   10.089606   \n",
       "std          9.754658       3.839498   900.595049    6.075315    5.724844   \n",
       "min          2.000000       0.000000   264.000000    2.000000    0.710000   \n",
       "50%         24.000000       2.000000  2245.500000   11.000000    9.285000   \n",
       "80%         32.000000       6.000000  2915.800000   15.000000   14.076000   \n",
       "max         38.000000      26.000000  4177.000000   42.000000   32.540000   \n",
       "\n",
       "       xG Per Avg Match       Shots    OnTarget  Shots Per Avg Match  \\\n",
       "count        660.000000  660.000000  660.000000           660.000000   \n",
       "mean           0.476167   64.177273   28.365152             2.948015   \n",
       "std            0.192831   34.941622   16.363149             0.914906   \n",
       "min            0.070000    5.000000    2.000000             0.800000   \n",
       "50%            0.435000   62.000000   26.000000             2.845000   \n",
       "80%            0.610000   90.000000   39.000000             3.600000   \n",
       "max            1.350000  208.000000  102.000000             7.200000   \n",
       "\n",
       "       On Target Per Avg Match         Year  \n",
       "count               660.000000   660.000000  \n",
       "mean                  1.315652  2018.363636  \n",
       "std                   0.474239     1.367700  \n",
       "min                   0.240000  2016.000000  \n",
       "50%                   1.250000  2019.000000  \n",
       "80%                   1.630000  2020.000000  \n",
       "max                   3.630000  2020.000000  "
      ]
     },
     "execution_count": 726,
     "metadata": {},
     "output_type": "execute_result"
    }
   ],
   "source": [
    "df.describe(percentiles = [.80])"
   ]
  },
  {
   "cell_type": "markdown",
   "id": "e98a0b4a-2f8d-4f2f-ae76-7f9498b57932",
   "metadata": {},
   "source": [
    "`so we can see the 80th Percentile value of Mins is 2915.80`"
   ]
  },
  {
   "cell_type": "markdown",
   "id": "de6f838f-644c-4aff-8cdc-1e8bc156eee5",
   "metadata": {},
   "source": [
    "- Let us use the quantile function to get the exact value now"
   ]
  },
  {
   "cell_type": "code",
   "execution_count": 731,
   "id": "b24ecb06-1ca2-4354-8521-3bb9b62f8a34",
   "metadata": {},
   "outputs": [
    {
     "data": {
      "text/plain": [
       "2915.8"
      ]
     },
     "execution_count": 731,
     "metadata": {},
     "output_type": "execute_result"
    }
   ],
   "source": [
    "df['Mins'].quantile(.80)"
   ]
  },
  {
   "cell_type": "markdown",
   "id": "44a1792c-4c58-4f2b-a856-0ea46addeb58",
   "metadata": {},
   "source": [
    "`Here we go, we got the same value`"
   ]
  },
  {
   "cell_type": "markdown",
   "id": "d3e19a64-0686-4776-941b-0925177b063a",
   "metadata": {},
   "source": [
    "- To get the 99 percentile value we can write"
   ]
  },
  {
   "cell_type": "code",
   "execution_count": 736,
   "id": "5ff14ca6-d474-4569-a346-358e938fafe1",
   "metadata": {},
   "outputs": [
    {
     "data": {
      "text/plain": [
       "3520.0199999999995"
      ]
     },
     "execution_count": 736,
     "metadata": {},
     "output_type": "execute_result"
    }
   ],
   "source": [
    "df['Mins'].quantile(.99)"
   ]
  },
  {
   "cell_type": "markdown",
   "id": "3c03478b-4881-4170-b16d-f40e70bb8e22",
   "metadata": {},
   "source": [
    "**`This function is important as it can be used to treat ourliers in Data Science EDA process`**"
   ]
  },
  {
   "cell_type": "markdown",
   "id": "b895a768-6c9a-4878-9c52-e807526a4ce3",
   "metadata": {},
   "source": [
    "### 5 Copy function\n",
    "If we normal do:\n",
    "de=df\n",
    "Then a change in de will affect the data of df as well so we need to copy in such a way that it creates a totally new object and does not affect the old dataframe"
   ]
  },
  {
   "cell_type": "code",
   "execution_count": 744,
   "id": "c0e0c862-3b40-4d6e-bcc5-2bc2124f13ba",
   "metadata": {},
   "outputs": [
    {
     "data": {
      "text/html": [
       "<div>\n",
       "<style scoped>\n",
       "    .dataframe tbody tr th:only-of-type {\n",
       "        vertical-align: middle;\n",
       "    }\n",
       "\n",
       "    .dataframe tbody tr th {\n",
       "        vertical-align: top;\n",
       "    }\n",
       "\n",
       "    .dataframe thead th {\n",
       "        text-align: right;\n",
       "    }\n",
       "</style>\n",
       "<table border=\"1\" class=\"dataframe\">\n",
       "  <thead>\n",
       "    <tr style=\"text-align: right;\">\n",
       "      <th></th>\n",
       "      <th>Country</th>\n",
       "      <th>League</th>\n",
       "      <th>Club</th>\n",
       "      <th>Player Names</th>\n",
       "      <th>Matches_Played</th>\n",
       "      <th>Substitution</th>\n",
       "      <th>Mins</th>\n",
       "      <th>Goals</th>\n",
       "      <th>xG</th>\n",
       "      <th>xG Per Avg Match</th>\n",
       "      <th>Shots</th>\n",
       "      <th>OnTarget</th>\n",
       "      <th>Shots Per Avg Match</th>\n",
       "      <th>On Target Per Avg Match</th>\n",
       "      <th>Year</th>\n",
       "    </tr>\n",
       "  </thead>\n",
       "  <tbody>\n",
       "    <tr>\n",
       "      <th>0</th>\n",
       "      <td>Spain</td>\n",
       "      <td>La Liga</td>\n",
       "      <td>(BET)</td>\n",
       "      <td>Juanmi Callejon</td>\n",
       "      <td>19</td>\n",
       "      <td>16</td>\n",
       "      <td>1849</td>\n",
       "      <td>11</td>\n",
       "      <td>6.62</td>\n",
       "      <td>0.34</td>\n",
       "      <td>48</td>\n",
       "      <td>20</td>\n",
       "      <td>2.47</td>\n",
       "      <td>1.03</td>\n",
       "      <td>2016</td>\n",
       "    </tr>\n",
       "    <tr>\n",
       "      <th>1</th>\n",
       "      <td>Spain</td>\n",
       "      <td>La Liga</td>\n",
       "      <td>(BAR)</td>\n",
       "      <td>Antoine Griezmann</td>\n",
       "      <td>36</td>\n",
       "      <td>0</td>\n",
       "      <td>3129</td>\n",
       "      <td>16</td>\n",
       "      <td>11.86</td>\n",
       "      <td>0.36</td>\n",
       "      <td>88</td>\n",
       "      <td>41</td>\n",
       "      <td>2.67</td>\n",
       "      <td>1.24</td>\n",
       "      <td>2016</td>\n",
       "    </tr>\n",
       "    <tr>\n",
       "      <th>2</th>\n",
       "      <td>Spain</td>\n",
       "      <td>La Liga</td>\n",
       "      <td>(ATL)</td>\n",
       "      <td>Luis Suarez</td>\n",
       "      <td>34</td>\n",
       "      <td>1</td>\n",
       "      <td>2940</td>\n",
       "      <td>28</td>\n",
       "      <td>23.21</td>\n",
       "      <td>0.75</td>\n",
       "      <td>120</td>\n",
       "      <td>57</td>\n",
       "      <td>3.88</td>\n",
       "      <td>1.84</td>\n",
       "      <td>2016</td>\n",
       "    </tr>\n",
       "  </tbody>\n",
       "</table>\n",
       "</div>"
      ],
      "text/plain": [
       "  Country   League   Club       Player Names  Matches_Played  Substitution   \\\n",
       "0   Spain  La Liga  (BET)    Juanmi Callejon              19             16   \n",
       "1   Spain  La Liga  (BAR)  Antoine Griezmann              36              0   \n",
       "2   Spain  La Liga  (ATL)        Luis Suarez              34              1   \n",
       "\n",
       "   Mins  Goals     xG  xG Per Avg Match  Shots  OnTarget  Shots Per Avg Match  \\\n",
       "0  1849     11   6.62              0.34     48        20                 2.47   \n",
       "1  3129     16  11.86              0.36     88        41                 2.67   \n",
       "2  2940     28  23.21              0.75    120        57                 3.88   \n",
       "\n",
       "   On Target Per Avg Match  Year  \n",
       "0                     1.03  2016  \n",
       "1                     1.24  2016  \n",
       "2                     1.84  2016  "
      ]
     },
     "execution_count": 744,
     "metadata": {},
     "output_type": "execute_result"
    }
   ],
   "source": [
    "de = df.copy()\n",
    "de.head(3)"
   ]
  },
  {
   "cell_type": "code",
   "execution_count": 746,
   "id": "83c507cd-f6b7-4b5d-9b33-03289cea4a5a",
   "metadata": {},
   "outputs": [
    {
     "data": {
      "text/html": [
       "<div>\n",
       "<style scoped>\n",
       "    .dataframe tbody tr th:only-of-type {\n",
       "        vertical-align: middle;\n",
       "    }\n",
       "\n",
       "    .dataframe tbody tr th {\n",
       "        vertical-align: top;\n",
       "    }\n",
       "\n",
       "    .dataframe thead th {\n",
       "        text-align: right;\n",
       "    }\n",
       "</style>\n",
       "<table border=\"1\" class=\"dataframe\">\n",
       "  <thead>\n",
       "    <tr style=\"text-align: right;\">\n",
       "      <th></th>\n",
       "      <th>Country</th>\n",
       "      <th>League</th>\n",
       "      <th>Club</th>\n",
       "      <th>Player Names</th>\n",
       "      <th>Matches_Played</th>\n",
       "      <th>Substitution</th>\n",
       "      <th>Mins</th>\n",
       "      <th>Goals</th>\n",
       "      <th>xG</th>\n",
       "      <th>xG Per Avg Match</th>\n",
       "      <th>Shots</th>\n",
       "      <th>OnTarget</th>\n",
       "      <th>Shots Per Avg Match</th>\n",
       "      <th>On Target Per Avg Match</th>\n",
       "      <th>Year</th>\n",
       "      <th>Year+100</th>\n",
       "    </tr>\n",
       "  </thead>\n",
       "  <tbody>\n",
       "    <tr>\n",
       "      <th>0</th>\n",
       "      <td>Spain</td>\n",
       "      <td>La Liga</td>\n",
       "      <td>(BET)</td>\n",
       "      <td>Juanmi Callejon</td>\n",
       "      <td>19</td>\n",
       "      <td>16</td>\n",
       "      <td>1849</td>\n",
       "      <td>11</td>\n",
       "      <td>6.62</td>\n",
       "      <td>0.34</td>\n",
       "      <td>48</td>\n",
       "      <td>20</td>\n",
       "      <td>2.47</td>\n",
       "      <td>1.03</td>\n",
       "      <td>2016</td>\n",
       "      <td>2116</td>\n",
       "    </tr>\n",
       "    <tr>\n",
       "      <th>1</th>\n",
       "      <td>Spain</td>\n",
       "      <td>La Liga</td>\n",
       "      <td>(BAR)</td>\n",
       "      <td>Antoine Griezmann</td>\n",
       "      <td>36</td>\n",
       "      <td>0</td>\n",
       "      <td>3129</td>\n",
       "      <td>16</td>\n",
       "      <td>11.86</td>\n",
       "      <td>0.36</td>\n",
       "      <td>88</td>\n",
       "      <td>41</td>\n",
       "      <td>2.67</td>\n",
       "      <td>1.24</td>\n",
       "      <td>2016</td>\n",
       "      <td>2116</td>\n",
       "    </tr>\n",
       "    <tr>\n",
       "      <th>2</th>\n",
       "      <td>Spain</td>\n",
       "      <td>La Liga</td>\n",
       "      <td>(ATL)</td>\n",
       "      <td>Luis Suarez</td>\n",
       "      <td>34</td>\n",
       "      <td>1</td>\n",
       "      <td>2940</td>\n",
       "      <td>28</td>\n",
       "      <td>23.21</td>\n",
       "      <td>0.75</td>\n",
       "      <td>120</td>\n",
       "      <td>57</td>\n",
       "      <td>3.88</td>\n",
       "      <td>1.84</td>\n",
       "      <td>2016</td>\n",
       "      <td>2116</td>\n",
       "    </tr>\n",
       "    <tr>\n",
       "      <th>3</th>\n",
       "      <td>Spain</td>\n",
       "      <td>La Liga</td>\n",
       "      <td>(CAR)</td>\n",
       "      <td>Ruben Castro</td>\n",
       "      <td>32</td>\n",
       "      <td>3</td>\n",
       "      <td>2842</td>\n",
       "      <td>13</td>\n",
       "      <td>14.06</td>\n",
       "      <td>0.47</td>\n",
       "      <td>117</td>\n",
       "      <td>42</td>\n",
       "      <td>3.91</td>\n",
       "      <td>1.40</td>\n",
       "      <td>2016</td>\n",
       "      <td>2116</td>\n",
       "    </tr>\n",
       "    <tr>\n",
       "      <th>4</th>\n",
       "      <td>Spain</td>\n",
       "      <td>La Liga</td>\n",
       "      <td>(VAL)</td>\n",
       "      <td>Kevin Gameiro</td>\n",
       "      <td>21</td>\n",
       "      <td>10</td>\n",
       "      <td>1745</td>\n",
       "      <td>13</td>\n",
       "      <td>10.65</td>\n",
       "      <td>0.58</td>\n",
       "      <td>50</td>\n",
       "      <td>23</td>\n",
       "      <td>2.72</td>\n",
       "      <td>1.25</td>\n",
       "      <td>2016</td>\n",
       "      <td>2116</td>\n",
       "    </tr>\n",
       "  </tbody>\n",
       "</table>\n",
       "</div>"
      ],
      "text/plain": [
       "  Country   League   Club       Player Names  Matches_Played  Substitution   \\\n",
       "0   Spain  La Liga  (BET)    Juanmi Callejon              19             16   \n",
       "1   Spain  La Liga  (BAR)  Antoine Griezmann              36              0   \n",
       "2   Spain  La Liga  (ATL)        Luis Suarez              34              1   \n",
       "3   Spain  La Liga  (CAR)       Ruben Castro              32              3   \n",
       "4   Spain  La Liga  (VAL)      Kevin Gameiro              21             10   \n",
       "\n",
       "   Mins  Goals     xG  xG Per Avg Match  Shots  OnTarget  Shots Per Avg Match  \\\n",
       "0  1849     11   6.62              0.34     48        20                 2.47   \n",
       "1  3129     16  11.86              0.36     88        41                 2.67   \n",
       "2  2940     28  23.21              0.75    120        57                 3.88   \n",
       "3  2842     13  14.06              0.47    117        42                 3.91   \n",
       "4  1745     13  10.65              0.58     50        23                 2.72   \n",
       "\n",
       "   On Target Per Avg Match  Year  Year+100  \n",
       "0                     1.03  2016      2116  \n",
       "1                     1.24  2016      2116  \n",
       "2                     1.84  2016      2116  \n",
       "3                     1.40  2016      2116  \n",
       "4                     1.25  2016      2116  "
      ]
     },
     "execution_count": 746,
     "metadata": {},
     "output_type": "execute_result"
    }
   ],
   "source": [
    "de['Year+100'] = de['Year'] + 100\n",
    "de.head()"
   ]
  },
  {
   "cell_type": "markdown",
   "id": "3062003c-9607-47ff-81d0-ac65cdf30aef",
   "metadata": {},
   "source": [
    "`So we can see a new column has been added here but our old data is secured`"
   ]
  },
  {
   "cell_type": "code",
   "execution_count": 749,
   "id": "50ef5c3e-5fdd-4e6c-b8bf-1a9dee8075e7",
   "metadata": {},
   "outputs": [
    {
     "data": {
      "text/html": [
       "<div>\n",
       "<style scoped>\n",
       "    .dataframe tbody tr th:only-of-type {\n",
       "        vertical-align: middle;\n",
       "    }\n",
       "\n",
       "    .dataframe tbody tr th {\n",
       "        vertical-align: top;\n",
       "    }\n",
       "\n",
       "    .dataframe thead th {\n",
       "        text-align: right;\n",
       "    }\n",
       "</style>\n",
       "<table border=\"1\" class=\"dataframe\">\n",
       "  <thead>\n",
       "    <tr style=\"text-align: right;\">\n",
       "      <th></th>\n",
       "      <th>Country</th>\n",
       "      <th>League</th>\n",
       "      <th>Club</th>\n",
       "      <th>Player Names</th>\n",
       "      <th>Matches_Played</th>\n",
       "      <th>Substitution</th>\n",
       "      <th>Mins</th>\n",
       "      <th>Goals</th>\n",
       "      <th>xG</th>\n",
       "      <th>xG Per Avg Match</th>\n",
       "      <th>Shots</th>\n",
       "      <th>OnTarget</th>\n",
       "      <th>Shots Per Avg Match</th>\n",
       "      <th>On Target Per Avg Match</th>\n",
       "      <th>Year</th>\n",
       "    </tr>\n",
       "  </thead>\n",
       "  <tbody>\n",
       "    <tr>\n",
       "      <th>0</th>\n",
       "      <td>Spain</td>\n",
       "      <td>La Liga</td>\n",
       "      <td>(BET)</td>\n",
       "      <td>Juanmi Callejon</td>\n",
       "      <td>19</td>\n",
       "      <td>16</td>\n",
       "      <td>1849</td>\n",
       "      <td>11</td>\n",
       "      <td>6.62</td>\n",
       "      <td>0.34</td>\n",
       "      <td>48</td>\n",
       "      <td>20</td>\n",
       "      <td>2.47</td>\n",
       "      <td>1.03</td>\n",
       "      <td>2016</td>\n",
       "    </tr>\n",
       "    <tr>\n",
       "      <th>1</th>\n",
       "      <td>Spain</td>\n",
       "      <td>La Liga</td>\n",
       "      <td>(BAR)</td>\n",
       "      <td>Antoine Griezmann</td>\n",
       "      <td>36</td>\n",
       "      <td>0</td>\n",
       "      <td>3129</td>\n",
       "      <td>16</td>\n",
       "      <td>11.86</td>\n",
       "      <td>0.36</td>\n",
       "      <td>88</td>\n",
       "      <td>41</td>\n",
       "      <td>2.67</td>\n",
       "      <td>1.24</td>\n",
       "      <td>2016</td>\n",
       "    </tr>\n",
       "    <tr>\n",
       "      <th>2</th>\n",
       "      <td>Spain</td>\n",
       "      <td>La Liga</td>\n",
       "      <td>(ATL)</td>\n",
       "      <td>Luis Suarez</td>\n",
       "      <td>34</td>\n",
       "      <td>1</td>\n",
       "      <td>2940</td>\n",
       "      <td>28</td>\n",
       "      <td>23.21</td>\n",
       "      <td>0.75</td>\n",
       "      <td>120</td>\n",
       "      <td>57</td>\n",
       "      <td>3.88</td>\n",
       "      <td>1.84</td>\n",
       "      <td>2016</td>\n",
       "    </tr>\n",
       "    <tr>\n",
       "      <th>3</th>\n",
       "      <td>Spain</td>\n",
       "      <td>La Liga</td>\n",
       "      <td>(CAR)</td>\n",
       "      <td>Ruben Castro</td>\n",
       "      <td>32</td>\n",
       "      <td>3</td>\n",
       "      <td>2842</td>\n",
       "      <td>13</td>\n",
       "      <td>14.06</td>\n",
       "      <td>0.47</td>\n",
       "      <td>117</td>\n",
       "      <td>42</td>\n",
       "      <td>3.91</td>\n",
       "      <td>1.40</td>\n",
       "      <td>2016</td>\n",
       "    </tr>\n",
       "    <tr>\n",
       "      <th>4</th>\n",
       "      <td>Spain</td>\n",
       "      <td>La Liga</td>\n",
       "      <td>(VAL)</td>\n",
       "      <td>Kevin Gameiro</td>\n",
       "      <td>21</td>\n",
       "      <td>10</td>\n",
       "      <td>1745</td>\n",
       "      <td>13</td>\n",
       "      <td>10.65</td>\n",
       "      <td>0.58</td>\n",
       "      <td>50</td>\n",
       "      <td>23</td>\n",
       "      <td>2.72</td>\n",
       "      <td>1.25</td>\n",
       "      <td>2016</td>\n",
       "    </tr>\n",
       "  </tbody>\n",
       "</table>\n",
       "</div>"
      ],
      "text/plain": [
       "  Country   League   Club       Player Names  Matches_Played  Substitution   \\\n",
       "0   Spain  La Liga  (BET)    Juanmi Callejon              19             16   \n",
       "1   Spain  La Liga  (BAR)  Antoine Griezmann              36              0   \n",
       "2   Spain  La Liga  (ATL)        Luis Suarez              34              1   \n",
       "3   Spain  La Liga  (CAR)       Ruben Castro              32              3   \n",
       "4   Spain  La Liga  (VAL)      Kevin Gameiro              21             10   \n",
       "\n",
       "   Mins  Goals     xG  xG Per Avg Match  Shots  OnTarget  Shots Per Avg Match  \\\n",
       "0  1849     11   6.62              0.34     48        20                 2.47   \n",
       "1  3129     16  11.86              0.36     88        41                 2.67   \n",
       "2  2940     28  23.21              0.75    120        57                 3.88   \n",
       "3  2842     13  14.06              0.47    117        42                 3.91   \n",
       "4  1745     13  10.65              0.58     50        23                 2.72   \n",
       "\n",
       "   On Target Per Avg Match  Year  \n",
       "0                     1.03  2016  \n",
       "1                     1.24  2016  \n",
       "2                     1.84  2016  \n",
       "3                     1.40  2016  \n",
       "4                     1.25  2016  "
      ]
     },
     "execution_count": 749,
     "metadata": {},
     "output_type": "execute_result"
    }
   ],
   "source": [
    "df.head()"
   ]
  },
  {
   "cell_type": "markdown",
   "id": "ef58a287-4271-4bb0-9054-44361322b6a4",
   "metadata": {},
   "source": [
    "`The new column is not present here`"
   ]
  },
  {
   "cell_type": "markdown",
   "id": "de1be630-fe06-4a20-aa8a-80e74e272bde",
   "metadata": {},
   "source": [
    "### 6 Value count function\n",
    "Pandas Series.value_counts() function return a Series containing counts of unique values. The resulting object will be in descending order so that the first element is the most frequently-occurring element. Excludes NA values by default.\n",
    "\n",
    "Syntax: Series.value_counts(normalize=False, sort=True, ascending=False, bins=None, dropna=True)"
   ]
  },
  {
   "cell_type": "code",
   "execution_count": 754,
   "id": "93244361-653f-416e-af19-f7eb63139e83",
   "metadata": {},
   "outputs": [
    {
     "data": {
      "text/plain": [
       "Player Names\n",
       "Andrea Belotti     5\n",
       "Lionel Messi       5\n",
       "Luis Suarez        5\n",
       "Andrej Kramaric    5\n",
       "Ciro Immobile      5\n",
       "                  ..\n",
       "Francois Kamano    1\n",
       "Lebo Mothiba       1\n",
       "Gaetan Laborde     1\n",
       "Falcao             1\n",
       "Cody Gakpo         1\n",
       "Name: count, Length: 444, dtype: int64"
      ]
     },
     "execution_count": 754,
     "metadata": {},
     "output_type": "execute_result"
    }
   ],
   "source": [
    "df['Player Names'].value_counts()"
   ]
  },
  {
   "cell_type": "markdown",
   "id": "2256880f-8c4b-48ca-abb8-f17cec51407f",
   "metadata": {},
   "source": [
    "### 7 Unique and Nunique function\n",
    "While analyzing the data, many times the user wants to see the unique values in a particular column, which can be done using Pandas unique() function."
   ]
  },
  {
   "cell_type": "code",
   "execution_count": 762,
   "id": "8dbaffb4-f1fe-4776-b4a8-9ddbfb20c162",
   "metadata": {},
   "outputs": [
    {
     "data": {
      "text/plain": [
       "array(['Juanmi Callejon', 'Antoine Griezmann', 'Luis Suarez',\n",
       "       'Ruben Castro', 'Kevin Gameiro', 'Cristiano Ronaldo',\n",
       "       'Karim Benzema', 'Neymar ', 'Iago Aspas', 'Sergi Enrich',\n",
       "       'Aduriz ', 'Sandro Ramlrez', 'Lionel Messi', 'Gerard Moreno',\n",
       "       'Morata', 'Wissam Ben Yedder', 'Willian Jose', 'Andone ',\n",
       "       'Cedric Bakambu', 'Isco', 'Mohamed Salah', 'Gregoire Defrel',\n",
       "       'Ciro Immobile', 'Nikola Kalinic', 'Dries Mertens',\n",
       "       'Alejandro Gomez', 'Jose CallejOn', 'Iago Falque',\n",
       "       'Giovanni Simeone', 'Mauro Icardi', 'Diego Falcinelli',\n",
       "       'Cyril Thereau', 'Edin Dzeko', 'Lorenzo Insigne',\n",
       "       'Fabio Quagliarella', 'Borriello ', 'Carlos Bacca',\n",
       "       'Gonzalo Higuain', 'Keita Balde', 'Andrea Belotti', 'Fin Bartels',\n",
       "       'Lars Stindl', 'Serge Gnabry', 'Wagner ', 'Andrej Kramaric',\n",
       "       'Florian Niederlechner', 'Robert Lewandowski', 'Emil Forsberg',\n",
       "       'Timo Werner', 'Nils Petersen', 'Vedad Ibisevic', 'Mario Gomez',\n",
       "       'Maximilian Philipp', 'A\\x81dam Szalai',\n",
       "       'Pierre-Emerick Aubameyang', 'Guido Burgstaller', 'Max Kruse',\n",
       "       'Chicharito ', 'Anthony Modeste', 'Arjen Robben', 'Alexis Sanchez',\n",
       "       'Romelu Lukaku', 'Harry Kane', 'Jamie Vardy', 'Christian Benteke',\n",
       "       'Pedro None', 'Eden Hazard', 'Roberto Firmino', 'Sadio Mane',\n",
       "       'Philippe Coutinho', 'Diego Costa', 'Dele Alli', 'Sergio Aguero',\n",
       "       'Jermain Defoe', 'Fernando Llorente', 'Michail Antonio',\n",
       "       'Zlatan Ibrahimovic', 'Olivier Giroud', 'Son Heung-Min',\n",
       "       'Joshua King', 'Diego Souza', 'Pablo ', 'Robinho ', 'Kempes ',\n",
       "       'Gabriel Jesus', 'Bruno Rangel ', 'Rogerio ', 'Vitor Bueno',\n",
       "       'Marinho ', 'Grafite ', 'Andres Chavez', 'Cicero Semedo', 'Sassa',\n",
       "       'Giorgian de Arrascaeta', 'Keno ', 'Fred ', 'Kleber Gladiador',\n",
       "       'Pottker ', 'Jonathan Copete', 'Ricardo Oliveira',\n",
       "       'Angel Rodriguez', 'Gareth Bale', 'Rodrigo None', 'Sergio Leon',\n",
       "       'Maxi Gomez', 'Mikel Oyarzabal', 'Willian Josa', 'Simone Zaza',\n",
       "       'Portu ', 'Cristhian Stuani', 'Santi Mina', 'Morales ', 'Munir ',\n",
       "       'Jose Callejon', 'Sergej Milinkovic-Savic', 'Duvan Zapata',\n",
       "       'Paulo Dybala', 'Mirco Antenucci', 'Luis Alberto',\n",
       "       'Roberto Inglese', 'Josip Ilicic', 'Ivan Perisic',\n",
       "       'Leonardo Pavoletti', 'Kevin Lasagna', 'Niclas Fullkrug',\n",
       "       'Salomon Kalou', 'Thorgan Hazard', 'Jean-Kevin Augustin',\n",
       "       'Sandro Wagner ', 'Leon Bailey', 'Daniel Didavi',\n",
       "       'Alfred Finnbogason', 'Davie Selke', 'Mark Uth',\n",
       "       'Michael Gregoritsch', 'Julian Brandt', 'Kevin Volland', 'Roger ',\n",
       "       'Arthur Caike', 'Everton ', 'Hernanes ', 'Luiz Fernando',\n",
       "       'Wellington Paulista', 'Santiago Trellez', 'Jo', 'Thiago Neves',\n",
       "       'Bruno Henrique', 'Dudu ', 'Diego ', 'Lucca ', 'Henrique Dourado',\n",
       "       'Andre', 'Edigar Junio ', 'Junior  Dutra', 'Jaime Mata',\n",
       "       'Inaki Williams', 'Chimy Avila', 'Raul de Tomas', 'Pablo Sarabia',\n",
       "       'Borja Iglesias', 'Jorge Molina', 'Charles', 'Arkadiusz Milik',\n",
       "       'Mandzukic None', 'Andrea Petagna', 'Francesco Caputo',\n",
       "       'Stephan El Shaarawy', 'Gervinho ', 'Krzysztof Piatek',\n",
       "       'Alassane Plea', 'Kai Havertz', 'Luka Jovic', 'Ante Rebic',\n",
       "       'Jadon Sancho', 'Ondrej Duda', 'Paco Alcacer', 'Benito Raman',\n",
       "       'Wout Weghorst', 'Ishak Belfodil', 'Marco Reus',\n",
       "       'Jean-Philippe Mateta', 'Sebastien Haller', 'Yussuf Poulsen',\n",
       "       'Angel Di Maria', 'Remi Oudin', 'Nicolas Pepe', 'Emiliano Sala',\n",
       "       'Jonathan Bamba', \"M'Baye Niang\", 'Edinson Cavani',\n",
       "       'Stephane Bahoken', 'Max Gradel', 'Florian Thauvin',\n",
       "       'Kylian Mbappe-Lottin', 'Wahbi Khazri', 'Falcao ',\n",
       "       'Gaetan Laborde', 'Andy Delort', 'Moussa Dembele', 'Memphis Depay',\n",
       "       'Lebo Mothiba', 'Francois Kamano', 'Luka Milivojevic',\n",
       "       'Paul Pogba', 'Ashley Barnes', 'Glenn Murray', 'Richarlison ',\n",
       "       'Callum Wilson', 'Gylfi Sigurdsson', 'Raheem Sterling',\n",
       "       'Ayoze Perez', 'Alexandre Lacazette', 'Raul Jimenez',\n",
       "       'Lucas Paqueta', 'Juan Cazares', 'Deyverson ', 'Leandro Damiao ',\n",
       "       'Yago Pikachu', 'Rodrygo ', 'Andres Rios', 'Roger Guedes ',\n",
       "       'Leandro Pereira ', 'Pedro ', 'Nico Lupez', 'Nene ', 'Gilberto ',\n",
       "       'Henrique ', 'Willian ', 'Gabriel Barbosa', 'Diego Rossi',\n",
       "       'Josef Martinez', 'Chris Wondolowski', 'Nani ', 'Kacper Przybylko',\n",
       "       'Kei Kamara', 'C.J. Sapong', 'Gyasi Zardes', 'Heber ',\n",
       "       'Mauro Manotas', 'Brian Fernandez', 'Alejandro Pozuelo',\n",
       "       'Felipe Gutierrez', 'Jordan Morris', 'Raul Ruidiaz',\n",
       "       'Jozy Altidore', 'Carlos Vela', 'Nemanja Nikolic',\n",
       "       'Alexandru Mitrita', 'Joselu', 'Carlos Fernandez', 'Ante Budimir',\n",
       "       'Lucas Perez', 'Loren Moron', 'Raul Garcla', 'Morata ',\n",
       "       'Sergio Ramos', 'Lucas Ocampos', 'Cazorla ', 'Pote ',\n",
       "       'Tiquinho Soares', 'Eduardo Mancha', 'Paulinho ', 'Alex Telles',\n",
       "       'Bruno Viana', 'Mehrdad Mohammadi', 'Carlos Valenzuela',\n",
       "       'Ruben Lameiras', 'Moussa Marega', 'Gian-Luca Waldschmidt',\n",
       "       'Samuel Lino', 'Andre Andre', 'Mehdi Taremi', 'Carlos Vinicius',\n",
       "       'Sergio Oliveira', 'Douglas Tanque', 'Fabio Abreu',\n",
       "       'Brayan Riascos', 'Alex Telles ', 'Fabio Martins',\n",
       "       'Haris  Seferovic', 'Joao Teixeira', 'Bruno Fernandes',\n",
       "       'Angel Gomes', 'Toni MartÃ\\xadnez', 'Pizzi ', 'Bozhidar Kraev',\n",
       "       'Sandro Lima', 'Rodrigo Pinho', 'Thiago Santana', 'Trincao ',\n",
       "       'Andraz Sporar', 'Ricardo Horta', 'Bruno Duarte', 'Nuno Santos',\n",
       "       'Domenico Berardi', 'Joao Pedro', 'Andreas Cornelius',\n",
       "       'Marco Mancosu', 'Lautaro Martrinez', 'Luis Muriel',\n",
       "       'Gianluca Lapadula', 'Marcus Thuram', 'Rouwen Hennings',\n",
       "       'Andre Silva', 'Erling Haaland', 'Jhon Cordoba', 'Robin Quaison',\n",
       "       'Sebastian Andersson', 'Dimitri Payet', 'Kasper Dolberg',\n",
       "       'Adrien Thomasson', 'Dario Benedetto', 'Ludovic Ajorque',\n",
       "       'Islam Slimani', 'Adrien Hunou', 'Denis Bouanga',\n",
       "       'Sehrou Guirassy', 'Ã\\x81ngel Di Maria', 'Habib Diallo',\n",
       "       'Victor Osimhen', 'Dominic Calvert-Lewin', 'Kevin De Bruyne',\n",
       "       'Chris Wood', 'Anthony Martial', 'Riyad Mahrez', 'Marcus Rashford',\n",
       "       'Danny Ings', 'Richarlison  ', 'Teemu Pukki', 'Tammy Abraham',\n",
       "       'Thiago Galhardo', 'Paolo Guerrero', 'Pepe', 'Michael ',\n",
       "       'Carlos Sanchez', 'Everaldo ', 'Artur ', 'Marcelo  Cirino',\n",
       "       'Yeferson Soteldo', 'Eduardo Sasha', 'Rafael Moura', 'Antony None',\n",
       "       'Quincy Promes', 'Dusan Tadic', 'Armando Broja', 'Steven Berghuis',\n",
       "       'Michael de Leeuw', 'Lois Openda', 'Danilo Nome', 'Lennart Thy',\n",
       "       'Donyell Malen', 'Noni Madueke', 'Davy Klaassen',\n",
       "       'Oussama Tannane', 'Vaclav Cerny', 'Vangelis Pavlidis',\n",
       "       'Henk Veerman', 'Abdou Harroui', 'Rai Vloet', 'Lassina Traore',\n",
       "       'Georgios Giakoumakis', 'Alex Pozuelo', 'Kevin Molino',\n",
       "       'Damir Kreilach', 'Bradley Wright-Phillips', 'Nicolas Lodeiro',\n",
       "       'Daryl Dike', 'Cristian Pavon', 'Chris Mueller', 'Romell Quioto',\n",
       "       'Gustavo Bou', 'Robert Beric', 'Ayo Akinola', 'Jeremy Ebobisse',\n",
       "       'Diego Valeri', 'Youssef   En-Nesyri', 'Carlos Soler',\n",
       "       'Cristian Tello', 'Esteban Burgos', 'Joao Felix',\n",
       "       'Federico Valverde', 'Kike GarcIa', 'Ansu Fati', 'Roberto Soriano',\n",
       "       'Gaetano Castrovilli', 'Henrikh Mkhitaryan', 'Jordan Veretout',\n",
       "       'Lautaro MartInez', 'Hirving Lozano', 'Lucas Alario', 'Bas Dost',\n",
       "       'Dani Olmo', 'Ellyes Skhiri', 'Thomas Muller', 'Andre Hahn',\n",
       "       'Daniel Caligiuri', 'Matheus Cunha', 'Ludovic Blas', 'Karl Toko',\n",
       "       'Burak Yilmaz', 'Ibrahima Niane', 'Boulaye Dia', 'Moise Kean',\n",
       "       'Ignatius Ganago', 'Irvin Cardona', 'Wissam Ben', 'Amine Gouiri',\n",
       "       'Mama Balde', 'Gael Kakuta', 'James Ward-Prowse', 'Diogo Jota',\n",
       "       'Wilfried Zaha', 'Jack Grealish', 'Jarrod Bowen',\n",
       "       'Patrick Bamford', 'Danny Ings ', 'Neal Maupay', 'Ollie Watkins',\n",
       "       'Luciano ', 'Vinicius ', 'Raphael Veiga', 'Luiz Adriano',\n",
       "       'Cleber ', 'German Cano', 'Brenner None', 'Matheus Babi',\n",
       "       'Alerrandro ', 'Claudinho ', 'Robson', 'Renato Kayzer',\n",
       "       'Donny van de Beek', 'Teun Koopmeiners', 'Cantalapiedra ',\n",
       "       'Bryan Linssen', 'Matavz ', 'Oussama Idrissi', 'Chidera Ejuke',\n",
       "       'Myron Boadu', 'Klaas-Jan Huntelaar', 'Haris Vuckic',\n",
       "       'Gyrano Kerk', 'Denzel Dumfries', 'Cyriel Dessers ', 'Cody Gakpo'],\n",
       "      dtype=object)"
      ]
     },
     "execution_count": 762,
     "metadata": {},
     "output_type": "execute_result"
    }
   ],
   "source": [
    "df['Player Names'].unique()"
   ]
  },
  {
   "cell_type": "code",
   "execution_count": 764,
   "id": "760316f3-44ab-4295-a5e5-b35362af0691",
   "metadata": {},
   "outputs": [
    {
     "data": {
      "text/plain": [
       "444"
      ]
     },
     "execution_count": 764,
     "metadata": {},
     "output_type": "execute_result"
    }
   ],
   "source": [
    "df['Player Names'].nunique()"
   ]
  },
  {
   "cell_type": "markdown",
   "id": "a1e503cd-21e6-46ba-a380-992316efaa38",
   "metadata": {},
   "source": [
    "### 8 dropna() function\n",
    "Sometimes csv file has null values, which are later displayed as NaN in Data Frame. Pandas dropna() method allows the user to analyze and drop Rows/Columns with Null values in different ways.\n",
    "\n",
    "Syntax:\n",
    "\n",
    "DataFrameName.dropna(axis=0,inplace=False)dropna() function"
   ]
  },
  {
   "cell_type": "markdown",
   "id": "50b9b2e4-c82d-4b9f-85cc-17520f6b1c25",
   "metadata": {},
   "source": [
    "**axis: axis takes int or string value for rows/columns. Input can be 0 or 1 for Integer and ‘index’ or ‘columns’ for String.**"
   ]
  },
  {
   "cell_type": "code",
   "execution_count": 769,
   "id": "4713de6c-5bca-4ab7-b2b3-868ff651e986",
   "metadata": {},
   "outputs": [
    {
     "data": {
      "text/html": [
       "<div>\n",
       "<style scoped>\n",
       "    .dataframe tbody tr th:only-of-type {\n",
       "        vertical-align: middle;\n",
       "    }\n",
       "\n",
       "    .dataframe tbody tr th {\n",
       "        vertical-align: top;\n",
       "    }\n",
       "\n",
       "    .dataframe thead th {\n",
       "        text-align: right;\n",
       "    }\n",
       "</style>\n",
       "<table border=\"1\" class=\"dataframe\">\n",
       "  <thead>\n",
       "    <tr style=\"text-align: right;\">\n",
       "      <th></th>\n",
       "      <th>App</th>\n",
       "      <th>Category</th>\n",
       "      <th>Rating</th>\n",
       "      <th>Reviews</th>\n",
       "      <th>Size</th>\n",
       "      <th>Installs</th>\n",
       "      <th>Type</th>\n",
       "      <th>Price</th>\n",
       "      <th>Content Rating</th>\n",
       "      <th>Genres</th>\n",
       "      <th>Last Updated</th>\n",
       "      <th>Current Ver</th>\n",
       "      <th>Android Ver</th>\n",
       "    </tr>\n",
       "  </thead>\n",
       "  <tbody>\n",
       "    <tr>\n",
       "      <th>0</th>\n",
       "      <td>Photo Editor &amp; Candy Camera &amp; Grid &amp; ScrapBook</td>\n",
       "      <td>ART_AND_DESIGN</td>\n",
       "      <td>4.1</td>\n",
       "      <td>159</td>\n",
       "      <td>19M</td>\n",
       "      <td>10,000+</td>\n",
       "      <td>Free</td>\n",
       "      <td>0</td>\n",
       "      <td>Everyone</td>\n",
       "      <td>Art &amp; Design</td>\n",
       "      <td>January 7, 2018</td>\n",
       "      <td>1.0.0</td>\n",
       "      <td>4.0.3 and up</td>\n",
       "    </tr>\n",
       "    <tr>\n",
       "      <th>1</th>\n",
       "      <td>Coloring book moana</td>\n",
       "      <td>ART_AND_DESIGN</td>\n",
       "      <td>3.9</td>\n",
       "      <td>967</td>\n",
       "      <td>14M</td>\n",
       "      <td>500,000+</td>\n",
       "      <td>Free</td>\n",
       "      <td>0</td>\n",
       "      <td>Everyone</td>\n",
       "      <td>Art &amp; Design;Pretend Play</td>\n",
       "      <td>January 15, 2018</td>\n",
       "      <td>2.0.0</td>\n",
       "      <td>4.0.3 and up</td>\n",
       "    </tr>\n",
       "    <tr>\n",
       "      <th>2</th>\n",
       "      <td>U Launcher Lite – FREE Live Cool Themes, Hide ...</td>\n",
       "      <td>ART_AND_DESIGN</td>\n",
       "      <td>4.7</td>\n",
       "      <td>87510</td>\n",
       "      <td>8.7M</td>\n",
       "      <td>5,000,000+</td>\n",
       "      <td>Free</td>\n",
       "      <td>0</td>\n",
       "      <td>Everyone</td>\n",
       "      <td>Art &amp; Design</td>\n",
       "      <td>August 1, 2018</td>\n",
       "      <td>1.2.4</td>\n",
       "      <td>4.0.3 and up</td>\n",
       "    </tr>\n",
       "    <tr>\n",
       "      <th>3</th>\n",
       "      <td>Sketch - Draw &amp; Paint</td>\n",
       "      <td>ART_AND_DESIGN</td>\n",
       "      <td>4.5</td>\n",
       "      <td>215644</td>\n",
       "      <td>25M</td>\n",
       "      <td>50,000,000+</td>\n",
       "      <td>Free</td>\n",
       "      <td>0</td>\n",
       "      <td>Teen</td>\n",
       "      <td>Art &amp; Design</td>\n",
       "      <td>June 8, 2018</td>\n",
       "      <td>Varies with device</td>\n",
       "      <td>4.2 and up</td>\n",
       "    </tr>\n",
       "    <tr>\n",
       "      <th>4</th>\n",
       "      <td>Pixel Draw - Number Art Coloring Book</td>\n",
       "      <td>ART_AND_DESIGN</td>\n",
       "      <td>4.3</td>\n",
       "      <td>967</td>\n",
       "      <td>2.8M</td>\n",
       "      <td>100,000+</td>\n",
       "      <td>Free</td>\n",
       "      <td>0</td>\n",
       "      <td>Everyone</td>\n",
       "      <td>Art &amp; Design;Creativity</td>\n",
       "      <td>June 20, 2018</td>\n",
       "      <td>1.1</td>\n",
       "      <td>4.4 and up</td>\n",
       "    </tr>\n",
       "  </tbody>\n",
       "</table>\n",
       "</div>"
      ],
      "text/plain": [
       "                                                 App        Category  Rating  \\\n",
       "0     Photo Editor & Candy Camera & Grid & ScrapBook  ART_AND_DESIGN     4.1   \n",
       "1                                Coloring book moana  ART_AND_DESIGN     3.9   \n",
       "2  U Launcher Lite – FREE Live Cool Themes, Hide ...  ART_AND_DESIGN     4.7   \n",
       "3                              Sketch - Draw & Paint  ART_AND_DESIGN     4.5   \n",
       "4              Pixel Draw - Number Art Coloring Book  ART_AND_DESIGN     4.3   \n",
       "\n",
       "  Reviews  Size     Installs  Type Price Content Rating  \\\n",
       "0     159   19M      10,000+  Free     0       Everyone   \n",
       "1     967   14M     500,000+  Free     0       Everyone   \n",
       "2   87510  8.7M   5,000,000+  Free     0       Everyone   \n",
       "3  215644   25M  50,000,000+  Free     0           Teen   \n",
       "4     967  2.8M     100,000+  Free     0       Everyone   \n",
       "\n",
       "                      Genres      Last Updated         Current Ver  \\\n",
       "0               Art & Design   January 7, 2018               1.0.0   \n",
       "1  Art & Design;Pretend Play  January 15, 2018               2.0.0   \n",
       "2               Art & Design    August 1, 2018               1.2.4   \n",
       "3               Art & Design      June 8, 2018  Varies with device   \n",
       "4    Art & Design;Creativity     June 20, 2018                 1.1   \n",
       "\n",
       "    Android Ver  \n",
       "0  4.0.3 and up  \n",
       "1  4.0.3 and up  \n",
       "2  4.0.3 and up  \n",
       "3    4.2 and up  \n",
       "4    4.4 and up  "
      ]
     },
     "execution_count": 769,
     "metadata": {},
     "output_type": "execute_result"
    }
   ],
   "source": [
    "link = 'https://raw.githubusercontent.com/AshishJangra27/Data-Analysis-with-Python-GFG/main/3.%20Data%20Preprocessing%20-%20Removing%20Null%20Value%20Rows/googleplaystore.csv'\n",
    "\n",
    "df = pd.read_csv(link)\n",
    "df.head()"
   ]
  },
  {
   "cell_type": "code",
   "execution_count": 771,
   "id": "ff1b2589-0fa3-4db7-af24-ed60b5f80ff8",
   "metadata": {},
   "outputs": [
    {
     "data": {
      "text/plain": [
       "App                  0\n",
       "Category             0\n",
       "Rating            1474\n",
       "Reviews              0\n",
       "Size                 0\n",
       "Installs             0\n",
       "Type                 1\n",
       "Price                0\n",
       "Content Rating       1\n",
       "Genres               0\n",
       "Last Updated         0\n",
       "Current Ver          8\n",
       "Android Ver          3\n",
       "dtype: int64"
      ]
     },
     "execution_count": 771,
     "metadata": {},
     "output_type": "execute_result"
    }
   ],
   "source": [
    "df.isnull().sum()"
   ]
  },
  {
   "cell_type": "markdown",
   "id": "9e731771-5aa6-4365-95ce-7523ad522db2",
   "metadata": {},
   "source": [
    "`ok so it seems like we have alot of Null Values in column Rating and few null values in some other columnsok so it seems like we have alot of Null Values in column Rating and few null values in some other columns`"
   ]
  },
  {
   "cell_type": "code",
   "execution_count": 774,
   "id": "124f65ff-ec43-4f83-951a-3f9b755d95f6",
   "metadata": {},
   "outputs": [],
   "source": [
    "df.dropna(inplace = True, axis = 0)\n",
    "#This will delete all the rows which are containing the null values"
   ]
  },
  {
   "cell_type": "code",
   "execution_count": 776,
   "id": "f8934075-6284-4217-ad32-a9a2298aedad",
   "metadata": {},
   "outputs": [],
   "source": [
    "df.dropna(inplace = True, axis = 1)\n",
    "#This will delete all the columns containing null values"
   ]
  },
  {
   "cell_type": "markdown",
   "id": "071205fc-3211-45da-acd2-f5871323df21",
   "metadata": {},
   "source": [
    "### 9 Fillna Function\n",
    "Pandas Series.fillna() function is used to fill NA/NaN values using the specified method.\n",
    "\n",
    "\n",
    "**Suppose if we want to fill the null values with something instead of removing them then we can use fillna function\n",
    "Here we will be filling the numerical columns with its `mean values` and Categorical columns with its `mode`**"
   ]
  },
  {
   "cell_type": "code",
   "execution_count": 794,
   "id": "f3007422-e8c3-4abd-9d29-b168e1a37cc3",
   "metadata": {},
   "outputs": [
    {
     "name": "stdout",
     "output_type": "stream",
     "text": [
      "0        4.1\n",
      "1        3.9\n",
      "2        4.7\n",
      "3        4.5\n",
      "4        4.3\n",
      "        ... \n",
      "10836    4.5\n",
      "10837    5.0\n",
      "10838    NaN\n",
      "10839    4.5\n",
      "10840    4.5\n",
      "Name: Rating, Length: 10841, dtype: float64\n",
      "**********\n",
      "10841\n"
     ]
    }
   ],
   "source": [
    "link = 'https://raw.githubusercontent.com/AshishJangra27/Data-Analysis-with-Python-GFG/main/3.%20Data%20Preprocessing%20-%20Removing%20Null%20Value%20Rows/googleplaystore.csv'\n",
    "\n",
    "df = pd.read_csv(link)\n",
    "print(df['Rating'])\n",
    "print(\"*\"*10)\n",
    "print(len(df))"
   ]
  },
  {
   "cell_type": "markdown",
   "id": "8b86fb34-1969-48dc-8177-ada0bb899005",
   "metadata": {},
   "source": [
    "- **Numerical Values**"
   ]
  },
  {
   "cell_type": "code",
   "execution_count": 799,
   "id": "fc32e9b0-dd05-4134-bd80-e7e89fb02e4e",
   "metadata": {},
   "outputs": [
    {
     "name": "stdout",
     "output_type": "stream",
     "text": [
      "10841\n"
     ]
    }
   ],
   "source": [
    "mis = round(df['Rating'].mean(),2)\n",
    "\n",
    "df['Rating'] = df['Rating'].fillna(mis)\n",
    "\n",
    "print(len(df))"
   ]
  },
  {
   "cell_type": "code",
   "execution_count": 805,
   "id": "a4d73808-a002-487c-9f2e-5c4a07c4901c",
   "metadata": {},
   "outputs": [
    {
     "data": {
      "text/plain": [
       "0        False\n",
       "1        False\n",
       "2        False\n",
       "3        False\n",
       "4        False\n",
       "         ...  \n",
       "10836    False\n",
       "10837    False\n",
       "10838    False\n",
       "10839    False\n",
       "10840    False\n",
       "Name: Rating, Length: 10841, dtype: bool"
      ]
     },
     "execution_count": 805,
     "metadata": {},
     "output_type": "execute_result"
    }
   ],
   "source": [
    "df['Rating'].isnull()"
   ]
  },
  {
   "cell_type": "markdown",
   "id": "10378cab-bc4f-4b55-aa37-b119e25cec89",
   "metadata": {},
   "source": [
    "- **Categorical values**\n",
    "\n",
    "If we would have used inplcae=True then it would have permenantly stored those values in our dataframe"
   ]
  },
  {
   "cell_type": "code",
   "execution_count": 810,
   "id": "7befeb03-1371-4faa-bb18-58ec0ba17946",
   "metadata": {},
   "outputs": [
    {
     "data": {
      "text/plain": [
       "App               0\n",
       "Category          0\n",
       "Rating            0\n",
       "Reviews           0\n",
       "Size              0\n",
       "Installs          0\n",
       "Type              1\n",
       "Price             0\n",
       "Content Rating    1\n",
       "Genres            0\n",
       "Last Updated      0\n",
       "Current Ver       0\n",
       "Android Ver       3\n",
       "dtype: int64"
      ]
     },
     "execution_count": 810,
     "metadata": {},
     "output_type": "execute_result"
    }
   ],
   "source": [
    "df.isnull().sum()"
   ]
  },
  {
   "cell_type": "code",
   "execution_count": 812,
   "id": "2fbd4afe-39bd-461a-b4a6-4b1d6875b3d8",
   "metadata": {},
   "outputs": [],
   "source": [
    "df['Current Ver'] = df['Current Ver'].fillna('Varies on Device')"
   ]
  },
  {
   "cell_type": "code",
   "execution_count": 814,
   "id": "9bdab83d-cf57-4fef-8ecb-b0cc4263aaf9",
   "metadata": {},
   "outputs": [
    {
     "data": {
      "text/plain": [
       "App               0\n",
       "Category          0\n",
       "Rating            0\n",
       "Reviews           0\n",
       "Size              0\n",
       "Installs          0\n",
       "Type              1\n",
       "Price             0\n",
       "Content Rating    1\n",
       "Genres            0\n",
       "Last Updated      0\n",
       "Current Ver       0\n",
       "Android Ver       3\n",
       "dtype: int64"
      ]
     },
     "execution_count": 814,
     "metadata": {},
     "output_type": "execute_result"
    }
   ],
   "source": [
    "df.isnull().sum()"
   ]
  },
  {
   "cell_type": "code",
   "execution_count": 816,
   "id": "3ac35953-ba4c-45ab-b712-941b39140f6e",
   "metadata": {},
   "outputs": [],
   "source": [
    "df['Android Ver'] = df['Android Ver'].fillna('Version upgrading')"
   ]
  },
  {
   "cell_type": "code",
   "execution_count": 818,
   "id": "43d32ebd-9424-40f9-a60b-bf6c2bdef9e0",
   "metadata": {},
   "outputs": [
    {
     "data": {
      "text/plain": [
       "App               0\n",
       "Category          0\n",
       "Rating            0\n",
       "Reviews           0\n",
       "Size              0\n",
       "Installs          0\n",
       "Type              1\n",
       "Price             0\n",
       "Content Rating    1\n",
       "Genres            0\n",
       "Last Updated      0\n",
       "Current Ver       0\n",
       "Android Ver       0\n",
       "dtype: int64"
      ]
     },
     "execution_count": 818,
     "metadata": {},
     "output_type": "execute_result"
    }
   ],
   "source": [
    "df.isnull().sum()"
   ]
  },
  {
   "cell_type": "markdown",
   "id": "74dc9396-986e-4d19-a5a6-000040e41c5f",
   "metadata": {},
   "source": [
    "### 10 Sample function\n",
    "Pandas sample() is used to generate a sample random row or column from the function caller data frame.\n",
    "\n",
    "Syntax:\n",
    "\n",
    "DataFrame.sample(n=None, frac=None, replace=False, weights=None, random_state=None, axis=None)"
   ]
  },
  {
   "cell_type": "code",
   "execution_count": 827,
   "id": "a3e190a5-0f31-4055-997c-9840aa8834f2",
   "metadata": {},
   "outputs": [
    {
     "data": {
      "text/html": [
       "<div>\n",
       "<style scoped>\n",
       "    .dataframe tbody tr th:only-of-type {\n",
       "        vertical-align: middle;\n",
       "    }\n",
       "\n",
       "    .dataframe tbody tr th {\n",
       "        vertical-align: top;\n",
       "    }\n",
       "\n",
       "    .dataframe thead th {\n",
       "        text-align: right;\n",
       "    }\n",
       "</style>\n",
       "<table border=\"1\" class=\"dataframe\">\n",
       "  <thead>\n",
       "    <tr style=\"text-align: right;\">\n",
       "      <th></th>\n",
       "      <th>App</th>\n",
       "      <th>Category</th>\n",
       "      <th>Rating</th>\n",
       "      <th>Reviews</th>\n",
       "      <th>Size</th>\n",
       "      <th>Installs</th>\n",
       "      <th>Type</th>\n",
       "      <th>Price</th>\n",
       "      <th>Content Rating</th>\n",
       "      <th>Genres</th>\n",
       "      <th>Last Updated</th>\n",
       "      <th>Current Ver</th>\n",
       "      <th>Android Ver</th>\n",
       "    </tr>\n",
       "  </thead>\n",
       "  <tbody>\n",
       "    <tr>\n",
       "      <th>3118</th>\n",
       "      <td>trivago: Hotels &amp; Travel</td>\n",
       "      <td>TRAVEL_AND_LOCAL</td>\n",
       "      <td>4.2</td>\n",
       "      <td>219848</td>\n",
       "      <td>Varies with device</td>\n",
       "      <td>50,000,000+</td>\n",
       "      <td>Free</td>\n",
       "      <td>0</td>\n",
       "      <td>Everyone</td>\n",
       "      <td>Travel &amp; Local</td>\n",
       "      <td>August 2, 2018</td>\n",
       "      <td>Varies with device</td>\n",
       "      <td>Varies with device</td>\n",
       "    </tr>\n",
       "    <tr>\n",
       "      <th>5214</th>\n",
       "      <td>MiAI (Artificial Intelligence) Assistant</td>\n",
       "      <td>PRODUCTIVITY</td>\n",
       "      <td>3.7</td>\n",
       "      <td>3</td>\n",
       "      <td>7.5M</td>\n",
       "      <td>100+</td>\n",
       "      <td>Free</td>\n",
       "      <td>0</td>\n",
       "      <td>Everyone</td>\n",
       "      <td>Productivity</td>\n",
       "      <td>March 1, 2018</td>\n",
       "      <td>11.04</td>\n",
       "      <td>4.1 and up</td>\n",
       "    </tr>\n",
       "    <tr>\n",
       "      <th>4544</th>\n",
       "      <td>R Programming Solution</td>\n",
       "      <td>FAMILY</td>\n",
       "      <td>3.9</td>\n",
       "      <td>169</td>\n",
       "      <td>7.7M</td>\n",
       "      <td>10,000+</td>\n",
       "      <td>Free</td>\n",
       "      <td>0</td>\n",
       "      <td>Everyone</td>\n",
       "      <td>Education</td>\n",
       "      <td>June 20, 2016</td>\n",
       "      <td>1.0.3</td>\n",
       "      <td>4.0 and up</td>\n",
       "    </tr>\n",
       "    <tr>\n",
       "      <th>3651</th>\n",
       "      <td>Weather From DMI/YR</td>\n",
       "      <td>WEATHER</td>\n",
       "      <td>4.3</td>\n",
       "      <td>2143</td>\n",
       "      <td>Varies with device</td>\n",
       "      <td>100,000+</td>\n",
       "      <td>Free</td>\n",
       "      <td>0</td>\n",
       "      <td>Everyone</td>\n",
       "      <td>Weather</td>\n",
       "      <td>July 31, 2018</td>\n",
       "      <td>Varies with device</td>\n",
       "      <td>Varies with device</td>\n",
       "    </tr>\n",
       "    <tr>\n",
       "      <th>5926</th>\n",
       "      <td>Learn alif ba ta</td>\n",
       "      <td>FAMILY</td>\n",
       "      <td>4.8</td>\n",
       "      <td>23</td>\n",
       "      <td>35M</td>\n",
       "      <td>10,000+</td>\n",
       "      <td>Free</td>\n",
       "      <td>0</td>\n",
       "      <td>Everyone</td>\n",
       "      <td>Educational;Education</td>\n",
       "      <td>November 28, 2017</td>\n",
       "      <td>1.0.2</td>\n",
       "      <td>2.3 and up</td>\n",
       "    </tr>\n",
       "  </tbody>\n",
       "</table>\n",
       "</div>"
      ],
      "text/plain": [
       "                                           App          Category  Rating  \\\n",
       "3118                  trivago: Hotels & Travel  TRAVEL_AND_LOCAL     4.2   \n",
       "5214  MiAI (Artificial Intelligence) Assistant      PRODUCTIVITY     3.7   \n",
       "4544                    R Programming Solution            FAMILY     3.9   \n",
       "3651                       Weather From DMI/YR           WEATHER     4.3   \n",
       "5926                          Learn alif ba ta            FAMILY     4.8   \n",
       "\n",
       "     Reviews                Size     Installs  Type Price Content Rating  \\\n",
       "3118  219848  Varies with device  50,000,000+  Free     0       Everyone   \n",
       "5214       3                7.5M         100+  Free     0       Everyone   \n",
       "4544     169                7.7M      10,000+  Free     0       Everyone   \n",
       "3651    2143  Varies with device     100,000+  Free     0       Everyone   \n",
       "5926      23                 35M      10,000+  Free     0       Everyone   \n",
       "\n",
       "                     Genres       Last Updated         Current Ver  \\\n",
       "3118         Travel & Local     August 2, 2018  Varies with device   \n",
       "5214           Productivity      March 1, 2018               11.04   \n",
       "4544              Education      June 20, 2016               1.0.3   \n",
       "3651                Weather      July 31, 2018  Varies with device   \n",
       "5926  Educational;Education  November 28, 2017               1.0.2   \n",
       "\n",
       "             Android Ver  \n",
       "3118  Varies with device  \n",
       "5214          4.1 and up  \n",
       "4544          4.0 and up  \n",
       "3651  Varies with device  \n",
       "5926          2.3 and up  "
      ]
     },
     "execution_count": 827,
     "metadata": {},
     "output_type": "execute_result"
    }
   ],
   "source": [
    "df.sample(5)"
   ]
  },
  {
   "cell_type": "markdown",
   "id": "8abbe96b-fc3e-4964-ab1e-45d01aa3bba3",
   "metadata": {},
   "source": [
    "### 11 to_csv() function\n",
    "Pandas Series.to_csv() function write the given series object to a comma-separated values (csv) file/format.\n",
    "\n",
    "Syntax: Series.to_csv(*args, **kwargs)"
   ]
  },
  {
   "cell_type": "code",
   "execution_count": 839,
   "id": "818cc9d4-07af-4c4f-9ac0-5d1d4442359a",
   "metadata": {},
   "outputs": [],
   "source": [
    "data = { 'one'   : pd.Series([1, 2, 3, 4]),\n",
    "         'two'   : pd.Series([10, 20, 30, 40]),\n",
    "         'three' : pd.Series([100, 200, 300, 400]),\n",
    "         'four'  : pd.Series([1000, 2000, 3000, 4000])}\n",
    "\n",
    "df = pd.DataFrame(data)\n",
    "\n",
    "df.to_csv('Number.csv')"
   ]
  },
  {
   "cell_type": "markdown",
   "id": "6f987e90-81c6-41ce-bbfa-56f84d790737",
   "metadata": {},
   "source": [
    "- `We got an extra Unnamed:0 Column if we want to avoid that we need to add an extra parameter mentioning index=False`"
   ]
  },
  {
   "cell_type": "code",
   "execution_count": 842,
   "id": "921188ed-905b-422f-b994-85099f993e74",
   "metadata": {},
   "outputs": [],
   "source": [
    "df.to_csv('Numbers.csv', index = False)"
   ]
  },
  {
   "cell_type": "markdown",
   "id": "d7e33ab4-fb06-4f33-8c1e-39d2864e6263",
   "metadata": {},
   "source": [
    "# D-> Detailed Pandas Profile report\n",
    "The pandas_profiling library in Python include a method named as ProfileReport() which generate a basic report on the input DataFrame.\n",
    "\n",
    "The report consist of the following:\n",
    "\n",
    "DataFrame overview, Each attribute on which DataFrame is defined, Correlations between attributes (Pearson Correlation and Spearman Correlation), and A sample of DataFrame."
   ]
  },
  {
   "cell_type": "code",
   "execution_count": 852,
   "id": "1893cac7-f170-4aa1-a4ac-e62235cc84fa",
   "metadata": {},
   "outputs": [],
   "source": [
    "import matplotlib\n",
    "import ydata_profiling as pp"
   ]
  },
  {
   "cell_type": "code",
   "execution_count": 854,
   "id": "a908f568-b33c-4072-982a-2bb753bebd2d",
   "metadata": {},
   "outputs": [
    {
     "data": {
      "text/html": [
       "<div>\n",
       "<style scoped>\n",
       "    .dataframe tbody tr th:only-of-type {\n",
       "        vertical-align: middle;\n",
       "    }\n",
       "\n",
       "    .dataframe tbody tr th {\n",
       "        vertical-align: top;\n",
       "    }\n",
       "\n",
       "    .dataframe thead th {\n",
       "        text-align: right;\n",
       "    }\n",
       "</style>\n",
       "<table border=\"1\" class=\"dataframe\">\n",
       "  <thead>\n",
       "    <tr style=\"text-align: right;\">\n",
       "      <th></th>\n",
       "      <th>Country</th>\n",
       "      <th>League</th>\n",
       "      <th>Club</th>\n",
       "      <th>Player Names</th>\n",
       "      <th>Matches_Played</th>\n",
       "      <th>Substitution</th>\n",
       "      <th>Mins</th>\n",
       "      <th>Goals</th>\n",
       "      <th>xG</th>\n",
       "      <th>xG Per Avg Match</th>\n",
       "      <th>Shots</th>\n",
       "      <th>OnTarget</th>\n",
       "      <th>Shots Per Avg Match</th>\n",
       "      <th>On Target Per Avg Match</th>\n",
       "      <th>Year</th>\n",
       "    </tr>\n",
       "  </thead>\n",
       "  <tbody>\n",
       "    <tr>\n",
       "      <th>0</th>\n",
       "      <td>Spain</td>\n",
       "      <td>La Liga</td>\n",
       "      <td>(BET)</td>\n",
       "      <td>Juanmi Callejon</td>\n",
       "      <td>19</td>\n",
       "      <td>16</td>\n",
       "      <td>1849</td>\n",
       "      <td>11</td>\n",
       "      <td>6.62</td>\n",
       "      <td>0.34</td>\n",
       "      <td>48</td>\n",
       "      <td>20</td>\n",
       "      <td>2.47</td>\n",
       "      <td>1.03</td>\n",
       "      <td>2016</td>\n",
       "    </tr>\n",
       "    <tr>\n",
       "      <th>1</th>\n",
       "      <td>Spain</td>\n",
       "      <td>La Liga</td>\n",
       "      <td>(BAR)</td>\n",
       "      <td>Antoine Griezmann</td>\n",
       "      <td>36</td>\n",
       "      <td>0</td>\n",
       "      <td>3129</td>\n",
       "      <td>16</td>\n",
       "      <td>11.86</td>\n",
       "      <td>0.36</td>\n",
       "      <td>88</td>\n",
       "      <td>41</td>\n",
       "      <td>2.67</td>\n",
       "      <td>1.24</td>\n",
       "      <td>2016</td>\n",
       "    </tr>\n",
       "    <tr>\n",
       "      <th>2</th>\n",
       "      <td>Spain</td>\n",
       "      <td>La Liga</td>\n",
       "      <td>(ATL)</td>\n",
       "      <td>Luis Suarez</td>\n",
       "      <td>34</td>\n",
       "      <td>1</td>\n",
       "      <td>2940</td>\n",
       "      <td>28</td>\n",
       "      <td>23.21</td>\n",
       "      <td>0.75</td>\n",
       "      <td>120</td>\n",
       "      <td>57</td>\n",
       "      <td>3.88</td>\n",
       "      <td>1.84</td>\n",
       "      <td>2016</td>\n",
       "    </tr>\n",
       "    <tr>\n",
       "      <th>3</th>\n",
       "      <td>Spain</td>\n",
       "      <td>La Liga</td>\n",
       "      <td>(CAR)</td>\n",
       "      <td>Ruben Castro</td>\n",
       "      <td>32</td>\n",
       "      <td>3</td>\n",
       "      <td>2842</td>\n",
       "      <td>13</td>\n",
       "      <td>14.06</td>\n",
       "      <td>0.47</td>\n",
       "      <td>117</td>\n",
       "      <td>42</td>\n",
       "      <td>3.91</td>\n",
       "      <td>1.40</td>\n",
       "      <td>2016</td>\n",
       "    </tr>\n",
       "    <tr>\n",
       "      <th>4</th>\n",
       "      <td>Spain</td>\n",
       "      <td>La Liga</td>\n",
       "      <td>(VAL)</td>\n",
       "      <td>Kevin Gameiro</td>\n",
       "      <td>21</td>\n",
       "      <td>10</td>\n",
       "      <td>1745</td>\n",
       "      <td>13</td>\n",
       "      <td>10.65</td>\n",
       "      <td>0.58</td>\n",
       "      <td>50</td>\n",
       "      <td>23</td>\n",
       "      <td>2.72</td>\n",
       "      <td>1.25</td>\n",
       "      <td>2016</td>\n",
       "    </tr>\n",
       "  </tbody>\n",
       "</table>\n",
       "</div>"
      ],
      "text/plain": [
       "  Country   League   Club       Player Names  Matches_Played  Substitution   \\\n",
       "0   Spain  La Liga  (BET)    Juanmi Callejon              19             16   \n",
       "1   Spain  La Liga  (BAR)  Antoine Griezmann              36              0   \n",
       "2   Spain  La Liga  (ATL)        Luis Suarez              34              1   \n",
       "3   Spain  La Liga  (CAR)       Ruben Castro              32              3   \n",
       "4   Spain  La Liga  (VAL)      Kevin Gameiro              21             10   \n",
       "\n",
       "   Mins  Goals     xG  xG Per Avg Match  Shots  OnTarget  Shots Per Avg Match  \\\n",
       "0  1849     11   6.62              0.34     48        20                 2.47   \n",
       "1  3129     16  11.86              0.36     88        41                 2.67   \n",
       "2  2940     28  23.21              0.75    120        57                 3.88   \n",
       "3  2842     13  14.06              0.47    117        42                 3.91   \n",
       "4  1745     13  10.65              0.58     50        23                 2.72   \n",
       "\n",
       "   On Target Per Avg Match  Year  \n",
       "0                     1.03  2016  \n",
       "1                     1.24  2016  \n",
       "2                     1.84  2016  \n",
       "3                     1.40  2016  \n",
       "4                     1.25  2016  "
      ]
     },
     "execution_count": 854,
     "metadata": {},
     "output_type": "execute_result"
    }
   ],
   "source": [
    "df = pd.read_csv('Football.csv')\n",
    "df.head()"
   ]
  },
  {
   "cell_type": "code",
   "execution_count": 872,
   "id": "8cd4822d-3738-4b30-941e-92c91bfd57a4",
   "metadata": {},
   "outputs": [],
   "source": [
    "report = pp.ProfileReport(df)"
   ]
  },
  {
   "cell_type": "code",
   "execution_count": 884,
   "id": "8c206826-08c8-4239-9d71-42a0ac7b7c90",
   "metadata": {},
   "outputs": [],
   "source": [
    "#pip install ipywidgets"
   ]
  },
  {
   "cell_type": "code",
   "execution_count": 886,
   "id": "e5ef16ea-a528-492c-b350-0ddcfe80da14",
   "metadata": {},
   "outputs": [],
   "source": [
    "#jupyter nbextension enable --py widgetsnbextension"
   ]
  },
  {
   "cell_type": "code",
   "execution_count": 888,
   "id": "9e849f5b-1f46-44dd-8123-390ecaa106d2",
   "metadata": {},
   "outputs": [],
   "source": [
    "#pip install -U pandas-profiling"
   ]
  },
  {
   "cell_type": "code",
   "execution_count": 893,
   "id": "67974f22-c8dd-4955-bf7f-6c9adc6c2caf",
   "metadata": {},
   "outputs": [],
   "source": [
    "#pip install --upgrade joblib"
   ]
  },
  {
   "cell_type": "code",
   "execution_count": 1,
   "id": "4cda645d-858f-451d-9586-29dfc8936296",
   "metadata": {},
   "outputs": [],
   "source": [
    "#pip install visions[type_image_path]==0.7.5"
   ]
  },
  {
   "cell_type": "code",
   "execution_count": 3,
   "id": "eb25a8ab-906c-4fac-99aa-226af0d2a3ae",
   "metadata": {},
   "outputs": [],
   "source": [
    "#pip uninstall joblib visions ydata-profiling pandas-profiling\n",
    "\n"
   ]
  },
  {
   "cell_type": "code",
   "execution_count": 4,
   "id": "c3e5e463-5df2-4f0f-82f3-a9a98a542a58",
   "metadata": {},
   "outputs": [],
   "source": [
    "#pip install joblib==1.1.0\n"
   ]
  },
  {
   "cell_type": "code",
   "execution_count": null,
   "id": "d2014530-cb82-4f61-b028-2f45bc55161b",
   "metadata": {},
   "outputs": [],
   "source": []
  }
 ],
 "metadata": {
  "kernelspec": {
   "display_name": "Python 3 (ipykernel)",
   "language": "python",
   "name": "python3"
  },
  "language_info": {
   "codemirror_mode": {
    "name": "ipython",
    "version": 3
   },
   "file_extension": ".py",
   "mimetype": "text/x-python",
   "name": "python",
   "nbconvert_exporter": "python",
   "pygments_lexer": "ipython3",
   "version": "3.12.7"
  }
 },
 "nbformat": 4,
 "nbformat_minor": 5
}
