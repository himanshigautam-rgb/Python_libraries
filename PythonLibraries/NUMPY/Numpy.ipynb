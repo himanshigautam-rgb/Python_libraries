{
 "cells": [
  {
   "cell_type": "markdown",
   "id": "8bbda953-7ad5-4b31-9902-fd5ed82cee5c",
   "metadata": {},
   "source": [
    "# Importing numpy"
   ]
  },
  {
   "cell_type": "code",
   "execution_count": 2,
   "id": "d6b84483-b38a-4107-b8bb-c40d806c0ee8",
   "metadata": {},
   "outputs": [],
   "source": [
    "import numpy as np"
   ]
  },
  {
   "cell_type": "markdown",
   "id": "8488ae55-30db-4adf-a180-f7721db2912f",
   "metadata": {},
   "source": [
    "# 1 Converting a list to array"
   ]
  },
  {
   "cell_type": "code",
   "execution_count": 4,
   "id": "8d8c863e-5dfc-4b8a-8888-36cdb43318f9",
   "metadata": {},
   "outputs": [
    {
     "name": "stdout",
     "output_type": "stream",
     "text": [
      "<class 'list'>\n",
      "<class 'numpy.ndarray'>\n"
     ]
    }
   ],
   "source": [
    "lst = [1,2,3,4]\n",
    "print(type(lst))\n",
    "arr = np.array(lst, ndmin = 3)  # ndmin for dimensions with n= 1,2,3.....\n",
    "print(type(arr))"
   ]
  },
  {
   "cell_type": "code",
   "execution_count": 5,
   "id": "22d0a338-67c9-4f3a-b36d-0bf19db104eb",
   "metadata": {},
   "outputs": [
    {
     "name": "stdout",
     "output_type": "stream",
     "text": [
      "[[[1 2 3 4]]]\n"
     ]
    }
   ],
   "source": [
    "print(arr)"
   ]
  },
  {
   "cell_type": "markdown",
   "id": "8c589279-77ff-46e8-b407-991845319cf5",
   "metadata": {},
   "source": [
    "# 2 Arange function"
   ]
  },
  {
   "cell_type": "code",
   "execution_count": 7,
   "id": "7f23015e-2fb1-4e4d-93ee-741c54f26cc5",
   "metadata": {},
   "outputs": [
    {
     "data": {
      "text/plain": [
       "array([1, 3, 5, 7, 9])"
      ]
     },
     "execution_count": 7,
     "metadata": {},
     "output_type": "execute_result"
    }
   ],
   "source": [
    "np.arange(1,10,2)"
   ]
  },
  {
   "cell_type": "markdown",
   "id": "5fd5a853-e8ea-4bd2-87be-9bebbd6bfd4d",
   "metadata": {},
   "source": [
    "# 3 Multidimensional array"
   ]
  },
  {
   "cell_type": "code",
   "execution_count": 9,
   "id": "01cf42c3-36bd-47ae-97a1-efc0d7fee2d6",
   "metadata": {},
   "outputs": [
    {
     "name": "stdout",
     "output_type": "stream",
     "text": [
      "[[1 2 3]\n",
      " [4 5 6]\n",
      " [7 8 9]]\n"
     ]
    }
   ],
   "source": [
    "arr = np.array([[1,2,3],[4,5,6],[7,8,9]])\n",
    "print(arr)"
   ]
  },
  {
   "cell_type": "markdown",
   "id": "c73ba758-1cf1-4e46-b8de-a659c0bede68",
   "metadata": {},
   "source": [
    " # 4 Size function"
   ]
  },
  {
   "cell_type": "code",
   "execution_count": 11,
   "id": "36a29f63-435b-4e17-ba01-d75424b9486b",
   "metadata": {},
   "outputs": [
    {
     "name": "stdout",
     "output_type": "stream",
     "text": [
      "Total 9\n",
      "Columns 3\n",
      "Rows 3\n"
     ]
    },
    {
     "data": {
      "text/plain": [
       "array([[1, 2, 3],\n",
       "       [4, 5, 6],\n",
       "       [7, 8, 9]])"
      ]
     },
     "execution_count": 11,
     "metadata": {},
     "output_type": "execute_result"
    }
   ],
   "source": [
    "arr = np.array([[1,2,3],[4,5,6],[7,8,9]])\n",
    "print(\"Total\",arr.size)\n",
    "print(\"Columns\",np.size(arr,0))  # axis = 0 is for columns\n",
    "print(\"Rows\",np.size(arr,1))     # axis = 1 is for rows \n",
    "arr\n"
   ]
  },
  {
   "cell_type": "markdown",
   "id": "7efab7ab-f303-40a5-b49d-b5deb7674bf5",
   "metadata": {},
   "source": [
    "# 5 Shape function"
   ]
  },
  {
   "cell_type": "code",
   "execution_count": 13,
   "id": "d0c5d94f-e443-49f4-bc6f-f9b08e348fad",
   "metadata": {},
   "outputs": [
    {
     "name": "stdout",
     "output_type": "stream",
     "text": [
      "(3, 3)\n"
     ]
    }
   ],
   "source": [
    "arr = np.array([[1,2,3],[4,5,6],[7,8,9]])\n",
    "print(arr.shape)"
   ]
  },
  {
   "cell_type": "markdown",
   "id": "d934a33c-6dfa-4edc-81b7-8b5d6d4bd6a6",
   "metadata": {},
   "source": [
    "# 6 Dtype function"
   ]
  },
  {
   "cell_type": "code",
   "execution_count": 15,
   "id": "1dded814-e31a-4a18-b8ef-5e67ef8dc128",
   "metadata": {},
   "outputs": [
    {
     "name": "stdout",
     "output_type": "stream",
     "text": [
      "int32\n",
      "float64\n"
     ]
    }
   ],
   "source": [
    "arr1 = np.array([4,5,6,7,8,9])\n",
    "arr2 = np.array([4.2,5.0,6.3,7.2,8.1,9.8])\n",
    "print(arr1.dtype)\n",
    "print(arr2.dtype)"
   ]
  },
  {
   "cell_type": "markdown",
   "id": "1f9d2d71-1095-43d1-97fc-5527b3416ef9",
   "metadata": {},
   "source": [
    "# 7 NDIM function"
   ]
  },
  {
   "cell_type": "code",
   "execution_count": 17,
   "id": "296c71f0-cb61-4c8f-804f-d0ed60831c1e",
   "metadata": {},
   "outputs": [
    {
     "name": "stdout",
     "output_type": "stream",
     "text": [
      "1\n",
      "2\n",
      "3\n"
     ]
    }
   ],
   "source": [
    "arr1 = np.array([4,5,6,7,8,9])\n",
    "arr2 = np.array([[1,2,3],[4,5,6],[7,8,9]])\n",
    "print(arr1.ndim)\n",
    "print(arr2.ndim)\n",
    "\n",
    "arr3 = np.array(arr2, ndmin = 3)\n",
    "print(arr3.ndim)"
   ]
  },
  {
   "cell_type": "markdown",
   "id": "fb9ebada-539a-400b-8306-54617b22b369",
   "metadata": {},
   "source": [
    "# 8 Zeros function"
   ]
  },
  {
   "cell_type": "code",
   "execution_count": 19,
   "id": "5ff3281a-a968-4d8f-9ab1-fee62dac6e66",
   "metadata": {},
   "outputs": [
    {
     "name": "stdout",
     "output_type": "stream",
     "text": [
      "[[0 0 0]\n",
      " [0 0 0]\n",
      " [0 0 0]]\n",
      "[[0. 0. 0.]\n",
      " [0. 0. 0.]\n",
      " [0. 0. 0.]]\n"
     ]
    }
   ],
   "source": [
    "arrr = np.zeros(shape = (3,3), dtype = int ) # for integer values\n",
    "print(arrr)\n",
    "rr = np.zeros(shape = (3,3)) # for float values\n",
    "print(rr)\n"
   ]
  },
  {
   "cell_type": "markdown",
   "id": "9dbb7bd4-31fd-443f-83b2-6584ed3808d6",
   "metadata": {},
   "source": [
    "# 9 Ones function"
   ]
  },
  {
   "cell_type": "code",
   "execution_count": 21,
   "id": "1aa2b70d-e61c-46f2-ba54-5effe87ca6f5",
   "metadata": {},
   "outputs": [
    {
     "name": "stdout",
     "output_type": "stream",
     "text": [
      "[[1 1 1]\n",
      " [1 1 1]\n",
      " [1 1 1]]\n",
      "[[1. 1. 1.]\n",
      " [1. 1. 1.]\n",
      " [1. 1. 1.]]\n"
     ]
    }
   ],
   "source": [
    "arrr = np.ones(shape = (3,3), dtype = int ) # for integer values\n",
    "print(arrr)\n",
    "rr = np.ones(shape = (3,3)) # for float values\n",
    "print(rr)"
   ]
  },
  {
   "cell_type": "markdown",
   "id": "b1de4152-b46d-48b7-83be-0f4ddc1627ec",
   "metadata": {},
   "source": [
    "#  10 Eye function"
   ]
  },
  {
   "cell_type": "code",
   "execution_count": 23,
   "id": "c842b4cb-6af5-49ef-bb48-d51831301ddd",
   "metadata": {},
   "outputs": [
    {
     "data": {
      "text/plain": [
       "array([[1, 0, 0, 0],\n",
       "       [0, 1, 0, 0],\n",
       "       [0, 0, 1, 0],\n",
       "       [0, 0, 0, 1]])"
      ]
     },
     "execution_count": 23,
     "metadata": {},
     "output_type": "execute_result"
    }
   ],
   "source": [
    "np.eye(4, dtype= int)"
   ]
  },
  {
   "cell_type": "markdown",
   "id": "7a511936-5118-4eff-9cae-1537bb11ab25",
   "metadata": {},
   "source": [
    "# 11 Empty function"
   ]
  },
  {
   "cell_type": "code",
   "execution_count": 25,
   "id": "ce782ccf-35c5-42fc-affd-29651efd3252",
   "metadata": {},
   "outputs": [
    {
     "data": {
      "text/plain": [
       "array([[1, 2],\n",
       "       [3, 4]])"
      ]
     },
     "execution_count": 25,
     "metadata": {},
     "output_type": "execute_result"
    }
   ],
   "source": [
    "import numpy as np\n",
    "np.empty(shape = (2,2), dtype = int)"
   ]
  },
  {
   "cell_type": "markdown",
   "id": "b8f2a4af-adc3-4e01-b012-f51de51ac9fa",
   "metadata": {},
   "source": [
    "# 12 Random function"
   ]
  },
  {
   "cell_type": "markdown",
   "id": "9d512f0f-1e7f-44c1-8feb-fbb3baf43fe6",
   "metadata": {},
   "source": [
    "### A np.random.rand"
   ]
  },
  {
   "cell_type": "code",
   "execution_count": 28,
   "id": "5837db53-b6a3-487e-899a-58d1f81faefa",
   "metadata": {},
   "outputs": [
    {
     "data": {
      "text/plain": [
       "array([[0.13455124, 0.33615461, 0.45391085, 0.77012132],\n",
       "       [0.52888068, 0.61953612, 0.7690105 , 0.93267322],\n",
       "       [0.0678497 , 0.67302105, 0.39965506, 0.05707133]])"
      ]
     },
     "execution_count": 28,
     "metadata": {},
     "output_type": "execute_result"
    }
   ],
   "source": [
    "np.random.rand(3,4)   # range form 0 to 1"
   ]
  },
  {
   "cell_type": "markdown",
   "id": "a7ac1b7f-7914-4809-a21f-414197dbeb30",
   "metadata": {},
   "source": [
    "### B np.random.randint"
   ]
  },
  {
   "cell_type": "code",
   "execution_count": 30,
   "id": "246dd01e-f015-4dab-932b-dc84b88c71cc",
   "metadata": {},
   "outputs": [
    {
     "data": {
      "text/plain": [
       "array([3, 9, 7, 1, 1, 2, 4, 9, 4, 6])"
      ]
     },
     "execution_count": 30,
     "metadata": {},
     "output_type": "execute_result"
    }
   ],
   "source": [
    "np.random.randint(low = 1,high = 10, size = 10, dtype = int) # low will be included and (high-1) will be included"
   ]
  },
  {
   "cell_type": "markdown",
   "id": "58fe9dbb-3036-4aa3-886d-03fd0a628a08",
   "metadata": {},
   "source": [
    "### C np.random.randn"
   ]
  },
  {
   "cell_type": "code",
   "execution_count": 39,
   "id": "21801bd9-90dd-418c-9d2a-d5584506d783",
   "metadata": {},
   "outputs": [
    {
     "data": {
      "text/plain": [
       "array([-0.28401568, -0.54480507, -2.18638227,  0.26281067, -0.15567585,\n",
       "        0.60651338,  0.51329365,  0.00982069, -0.28668691,  0.21471704,\n",
       "        0.17206069,  0.85013506,  0.21937868,  2.46602847, -0.79790571,\n",
       "        0.20857829,  1.57674758, -1.62125532,  1.00661248, -0.12906782])"
      ]
     },
     "execution_count": 39,
     "metadata": {},
     "output_type": "execute_result"
    }
   ],
   "source": [
    "np.random.randn(20)  #fills numbers as per standard normal distribution"
   ]
  },
  {
   "cell_type": "code",
   "execution_count": 42,
   "id": "dbea149d-c00b-44bd-9101-37b55be40907",
   "metadata": {},
   "outputs": [
    {
     "data": {
      "text/plain": [
       "(array([  1.,   0.,   0.,   0.,   0.,   1.,   0.,   0.,   2.,   2.,   0.,\n",
       "          0.,   0.,   0.,   1.,   3.,   4.,   3.,   8.,   5.,   6.,  11.,\n",
       "         21.,  13.,  17.,  15.,  29.,  38.,  31.,  45.,  58.,  59.,  68.,\n",
       "         65.,  96., 106., 134., 147., 151., 172., 206., 198., 234., 213.,\n",
       "        217., 247., 315., 275., 283., 346., 311., 315., 296., 331., 331.,\n",
       "        332., 310., 345., 311., 315., 298., 266., 248., 239., 227., 218.,\n",
       "        182., 165., 162., 138., 118., 133.,  76.,  77.,  64.,  58.,  38.,\n",
       "         43.,  38.,  36.,  28.,  16.,  19.,  12.,  15.,   9.,   9.,   3.,\n",
       "          2.,   4.,   2.,   2.,   2.,   3.,   1.,   2.,   0.,   0.,   2.,\n",
       "          2.]),\n",
       " array([-4.45497008, -4.37154266, -4.28811525, -4.20468783, -4.12126042,\n",
       "        -4.03783301, -3.95440559, -3.87097818, -3.78755077, -3.70412335,\n",
       "        -3.62069594, -3.53726852, -3.45384111, -3.3704137 , -3.28698628,\n",
       "        -3.20355887, -3.12013145, -3.03670404, -2.95327663, -2.86984921,\n",
       "        -2.7864218 , -2.70299439, -2.61956697, -2.53613956, -2.45271214,\n",
       "        -2.36928473, -2.28585732, -2.2024299 , -2.11900249, -2.03557507,\n",
       "        -1.95214766, -1.86872025, -1.78529283, -1.70186542, -1.61843801,\n",
       "        -1.53501059, -1.45158318, -1.36815576, -1.28472835, -1.20130094,\n",
       "        -1.11787352, -1.03444611, -0.95101869, -0.86759128, -0.78416387,\n",
       "        -0.70073645, -0.61730904, -0.53388163, -0.45045421, -0.3670268 ,\n",
       "        -0.28359938, -0.20017197, -0.11674456, -0.03331714,  0.05011027,\n",
       "         0.13353769,  0.2169651 ,  0.30039251,  0.38381993,  0.46724734,\n",
       "         0.55067475,  0.63410217,  0.71752958,  0.800957  ,  0.88438441,\n",
       "         0.96781182,  1.05123924,  1.13466665,  1.21809407,  1.30152148,\n",
       "         1.38494889,  1.46837631,  1.55180372,  1.63523113,  1.71865855,\n",
       "         1.80208596,  1.88551338,  1.96894079,  2.0523682 ,  2.13579562,\n",
       "         2.21922303,  2.30265045,  2.38607786,  2.46950527,  2.55293269,\n",
       "         2.6363601 ,  2.71978751,  2.80321493,  2.88664234,  2.97006976,\n",
       "         3.05349717,  3.13692458,  3.220352  ,  3.30377941,  3.38720683,\n",
       "         3.47063424,  3.55406165,  3.63748907,  3.72091648,  3.80434389,\n",
       "         3.88777131]),\n",
       " <BarContainer object of 100 artists>)"
      ]
     },
     "execution_count": 42,
     "metadata": {},
     "output_type": "execute_result"
    },
    {
     "data": {
      "image/png": "[encoded data removed]",
      "text/plain": [
       "<Figure size 640x480 with 1 Axes>"
      ]
     },
     "metadata": {},
     "output_type": "display_data"
    }
   ],
   "source": [
    "import matplotlib.pyplot as plt\n",
    "\n",
    "plt.hist(np.random.randn(10000), bins = 100)"
   ]
  },
  {
   "cell_type": "markdown",
   "id": "e468b999-5fb0-4e7a-ad38-4e2395ef4482",
   "metadata": {},
   "source": [
    "# 13 Reshape functions"
   ]
  },
  {
   "cell_type": "code",
   "execution_count": 48,
   "id": "db80417b-4022-49fe-8b64-a770a79f8e68",
   "metadata": {},
   "outputs": [
    {
     "name": "stdout",
     "output_type": "stream",
     "text": [
      "[[ 6  4  1 11]\n",
      " [ 1 10 12  1]\n",
      " [13 11 12  2]]\n",
      "[[ 6  4  1]\n",
      " [11  1 10]\n",
      " [12  1 13]\n",
      " [11 12  2]]\n",
      "[[ 6  4]\n",
      " [ 1 11]\n",
      " [ 1 10]\n",
      " [12  1]\n",
      " [13 11]\n",
      " [12  2]]\n"
     ]
    }
   ],
   "source": [
    "arr = np.random.randint(1,15,(3,4))\n",
    "print(arr)\n",
    "arr2 = arr.reshape(4,3)  #the products of rows and columns should be same\n",
    "print(arr2)\n",
    "arr3 = arr.reshape(6,2)\n",
    "print(arr3)"
   ]
  },
  {
   "cell_type": "markdown",
   "id": "e5a1c088-f40a-49bb-b1bd-011b275f7c88",
   "metadata": {},
   "source": [
    "# 14 Linspace functions"
   ]
  },
  {
   "cell_type": "code",
   "execution_count": 53,
   "id": "7b6a0083-caf0-4922-9368-733440b2cca5",
   "metadata": {},
   "outputs": [
    {
     "data": {
      "text/plain": [
       "array([ 1. ,  4.8,  8.6, 12.4, 16.2, 20. ])"
      ]
     },
     "execution_count": 53,
     "metadata": {},
     "output_type": "execute_result"
    }
   ],
   "source": [
    "np.linspace(1,20,6)  # numbers are at equidistant from each other"
   ]
  },
  {
   "cell_type": "markdown",
   "id": "0f4baf08-9d7e-48f2-a576-1f31cd639582",
   "metadata": {},
   "source": [
    "# 15  Flatten function"
   ]
  },
  {
   "cell_type": "code",
   "execution_count": 55,
   "id": "37f783e5-6dcd-416d-b1fc-b3f651d6a802",
   "metadata": {},
   "outputs": [
    {
     "name": "stdout",
     "output_type": "stream",
     "text": [
      "[[ 7  1  8  7]\n",
      " [ 1 14  8  1]\n",
      " [ 2  5  6  2]]\n",
      "(3, 4)\n",
      "[ 7  1  8  7  1 14  8  1  2  5  6  2]\n",
      "(12,)\n"
     ]
    }
   ],
   "source": [
    "arr = np.random.randint(1,15,(3,4))\n",
    "print(arr)\n",
    "print(arr.shape)\n",
    "arr2 = arr.flatten()  # return the copy of the array collapsed into one dimension\n",
    "print(arr2)\n",
    "print(arr2.shape)"
   ]
  },
  {
   "cell_type": "markdown",
   "id": "cc3ce6a6-bf3d-4294-8146-a6d5437f04f8",
   "metadata": {},
   "source": [
    "# 16 Logspace function"
   ]
  },
  {
   "cell_type": "code",
   "execution_count": 57,
   "id": "bafcf048-4cfc-4980-9a14-2b3e322590e0",
   "metadata": {},
   "outputs": [
    {
     "name": "stdout",
     "output_type": "stream",
     "text": [
      "[  100.           166.81005372   278.25594022   464.15888336\n",
      "   774.26368268  1291.54966501  2154.43469003  3593.8136638\n",
      "  5994.84250319 10000.        ]\n",
      "[ 4.          4.66611616  5.44316     6.34960421  7.4069977   8.64047791\n",
      " 10.0793684  11.75787594 13.71590373 16.        ]\n"
     ]
    }
   ],
   "source": [
    "print(np.logspace(2,4,10))   # numbers are at equidistant from each other on a log scale\n",
    "print(np.logspace(2,4,10, base = 2))"
   ]
  },
  {
   "cell_type": "markdown",
   "id": "191e6df7-70d6-435f-a3ac-b83627f65469",
   "metadata": {},
   "source": [
    "# 17 Copy function"
   ]
  },
  {
   "cell_type": "code",
   "execution_count": 59,
   "id": "fb5beff6-4d01-4a71-a33b-8595421e772c",
   "metadata": {},
   "outputs": [
    {
     "name": "stdout",
     "output_type": "stream",
     "text": [
      "[ 5  6 10  9  5  1  4  6 13 11] 2321061269008\n",
      "[ 5  6 10  9  5  1  4  6 13 11] 2321061269008\n",
      "--------------------------------------------------\n",
      "[ 5  6 10  9  5  1  4  6 13 11] 2321061269008\n",
      "[ 5  6 10  9  5  1  4  6 13 11] 2321061270160\n"
     ]
    }
   ],
   "source": [
    "arr1 = np.random.randint(1,15,10)\n",
    "arr2 = arr1\n",
    "print(arr1, id(arr1))\n",
    "print(arr2, id(arr2))\n",
    "\n",
    "print(\"-\"*50)\n",
    "\n",
    "arr2 = np.copy(arr1)\n",
    "print(arr1, id(arr1))\n",
    "print(arr2, id(arr2))\n"
   ]
  },
  {
   "cell_type": "markdown",
   "id": "8ad86f6f-e350-4014-b1d3-33c3bdd5c7b7",
   "metadata": {},
   "source": [
    "# 18 Max, Min and Sum functions"
   ]
  },
  {
   "cell_type": "code",
   "execution_count": 61,
   "id": "dc32b419-d217-4fd2-8dcc-0e329d136ff4",
   "metadata": {},
   "outputs": [
    {
     "name": "stdout",
     "output_type": "stream",
     "text": [
      "[[13  1  3  7]\n",
      " [ 7 10  8 12]\n",
      " [ 4  5  1 13]]\n",
      "--------------------------------------------------\n",
      "Maximum =  13\n",
      "Minimum =  1\n",
      "Sum =  84\n"
     ]
    }
   ],
   "source": [
    "arr1 = np.random.randint(1,15,(3,4))\n",
    "print(arr1)\n",
    "print(\"-\"*50)\n",
    "print(\"Maximum = \", arr1.max())\n",
    "print(\"Minimum = \", arr1.min())\n",
    "print(\"Sum = \", arr1.sum())"
   ]
  },
  {
   "cell_type": "code",
   "execution_count": 62,
   "id": "25925bdd-c08e-4dd9-ad08-d4eaf86077bf",
   "metadata": {},
   "outputs": [
    {
     "name": "stdout",
     "output_type": "stream",
     "text": [
      "--------------------------------------------------\n",
      "FOR COLUMNS\n",
      "--------------------------------------------------\n",
      "Maximum  =  [13 10  8 13]\n",
      "Minimum =  [4 1 1 7]\n",
      "Sum =  [24 16 12 32]\n",
      "--------------------------------------------------\n",
      "FOR ROWS\n",
      "--------------------------------------------------\n",
      "Maximum =  [13 12 13]\n",
      "Minimum =  [1 7 1]\n",
      "Sum =  [24 37 23]\n",
      "--------------------------------------------------\n"
     ]
    }
   ],
   "source": [
    "# to get the max and min across a row or a column\n",
    "print(\"-\"*50)\n",
    "print(\"FOR COLUMNS\")\n",
    "print(\"-\"*50)\n",
    "print(\"Maximum  = \", arr1.max(axis = 0)) # across columns\n",
    "print(\"Minimum = \", arr1.min(axis = 0))\n",
    "print(\"Sum = \", arr1.sum(axis = 0))\n",
    "print(\"-\"*50)\n",
    "print(\"FOR ROWS\")\n",
    "print(\"-\"*50)\n",
    "print(\"Maximum = \", arr1.max(axis = 1)) # across rows\n",
    "print(\"Minimum = \", arr1.min(axis = 1))\n",
    "print(\"Sum = \", arr1.sum(axis = 1))\n",
    "print(\"-\"*50)"
   ]
  },
  {
   "cell_type": "markdown",
   "id": "66382886-4d44-43fd-96f9-7725dce016ff",
   "metadata": {},
   "source": [
    "# 19 Seed function\n",
    "###### it generates random numbers  which are known as pesudo random numbers and they can be determined"
   ]
  },
  {
   "cell_type": "code",
   "execution_count": 64,
   "id": "e9f1879e-a509-4ae8-9d23-f9ef4618a2a6",
   "metadata": {},
   "outputs": [
    {
     "data": {
      "text/plain": [
       "array([[9, 4, 9, 9, 1],\n",
       "       [6, 4, 6, 8, 7],\n",
       "       [1, 5, 8, 9, 2]])"
      ]
     },
     "execution_count": 64,
     "metadata": {},
     "output_type": "execute_result"
    }
   ],
   "source": [
    "np.random.seed(3)\n",
    "arr = np.random.randint(1,10,(3,5))\n",
    "arr"
   ]
  },
  {
   "cell_type": "code",
   "execution_count": 65,
   "id": "5765cb53-de8a-46b9-b684-79d64ef46d3e",
   "metadata": {},
   "outputs": [
    {
     "data": {
      "text/plain": [
       "array([[7, 3, 3, 2, 4],\n",
       "       [6, 9, 2, 9, 8],\n",
       "       [9, 2, 1, 6, 5]])"
      ]
     },
     "execution_count": 65,
     "metadata": {},
     "output_type": "execute_result"
    }
   ],
   "source": [
    "arr = np.random.randint(1,10,(3,5))\n",
    "arr"
   ]
  },
  {
   "cell_type": "markdown",
   "id": "1bd5d7b2-09b4-4680-a857-7dea9d84390b",
   "metadata": {},
   "source": [
    "# 20 Sort functions"
   ]
  },
  {
   "cell_type": "code",
   "execution_count": 67,
   "id": "f4cada5c-206e-4bb8-af09-89706bb0721f",
   "metadata": {},
   "outputs": [
    {
     "name": "stdout",
     "output_type": "stream",
     "text": [
      "[[9 4 9 9 1]\n",
      " [6 4 6 8 7]\n",
      " [1 5 8 9 2]]\n",
      "---------------\n",
      "[[1 4 9 9 9]\n",
      " [4 6 6 7 8]\n",
      " [1 2 5 8 9]]\n",
      "---------------\n",
      "[[1 4 6 8 1]\n",
      " [6 4 8 9 2]\n",
      " [9 5 9 9 7]]\n",
      "---------------\n",
      "[9 4 9 9 1 6 4 6 8 7 1 5 8 9 2]\n",
      "[[1 1 2 4 4]\n",
      " [5 6 6 7 8]\n",
      " [8 9 9 9 9]]\n"
     ]
    }
   ],
   "source": [
    "np.random.seed(3)\n",
    "arr = np.random.randint(1,10,(3,5))\n",
    "print(arr)\n",
    "print(\"-\"*15)\n",
    "print(np.sort(arr , axis = 1))\n",
    "print(\"-\"*15)\n",
    "print(np.sort(arr , axis = 0))\n",
    "print(\"-\"*15)\n",
    "\n",
    "print(arr.flatten())\n",
    "\n",
    "\n",
    "\n",
    "arr1 = np.reshape(np.sort(arr.flatten()),arr.shape)\n",
    "print(arr1)\n"
   ]
  },
  {
   "cell_type": "markdown",
   "id": "7f4e58ce-ca7c-4640-958a-0e69cb01e598",
   "metadata": {},
   "source": [
    "#### we can choose type of sorting algorithms"
   ]
  },
  {
   "cell_type": "code",
   "execution_count": 69,
   "id": "688aabee-cf09-4e84-8f2b-2e510e8d51c0",
   "metadata": {},
   "outputs": [
    {
     "name": "stdout",
     "output_type": "stream",
     "text": [
      "[[1 4 9 9 9]\n",
      " [4 6 6 7 8]\n",
      " [1 2 5 8 9]]\n",
      "[[1 4 9 9 9]\n",
      " [4 6 6 7 8]\n",
      " [1 2 5 8 9]]\n",
      "[[1 4 9 9 9]\n",
      " [4 6 6 7 8]\n",
      " [1 2 5 8 9]]\n"
     ]
    }
   ],
   "source": [
    "print(np.sort(arr, kind = \"heapsort\"))\n",
    "print(np.sort(arr, kind = \"mergesort\"))\n",
    "print(np.sort(arr, kind = \"quicksort\"))"
   ]
  },
  {
   "cell_type": "markdown",
   "id": "9ee617c8-9a53-42a3-9798-fd828bbd5270",
   "metadata": {},
   "source": [
    "# 21 Mathematical operations"
   ]
  },
  {
   "cell_type": "markdown",
   "id": "d3caa445-c010-4a81-9ff4-5401ab0bb6f4",
   "metadata": {},
   "source": [
    "### Addition"
   ]
  },
  {
   "cell_type": "code",
   "execution_count": 72,
   "id": "1a936a62-4043-4011-a6a4-7a3e9c615fe1",
   "metadata": {},
   "outputs": [
    {
     "name": "stdout",
     "output_type": "stream",
     "text": [
      "[[9 4 9]\n",
      " [9 1 6]]\n",
      "---------------\n",
      "[[12 13 11]\n",
      " [12  8  2]]\n",
      "---------------\n",
      "[[10  5 10]\n",
      " [10  2  7]]\n",
      "---------------\n",
      "[[21 17 20]\n",
      " [21  9  8]]\n"
     ]
    }
   ],
   "source": [
    "np.random.seed(3)\n",
    "arr1 = np.random.randint(1,10,(2,3))\n",
    "print(arr1)\n",
    "print(\"-\"*15)\n",
    "arr2 = np.random.randint(2,20,(2,3))\n",
    "print(arr2)\n",
    "print(\"-\"*15)\n",
    "print(arr1 + 1)\n",
    "print(\"-\"*15)\n",
    "arr3 = arr1+arr2\n",
    "print(arr3)"
   ]
  },
  {
   "cell_type": "markdown",
   "id": "276e9c31-363b-4889-b0d8-5c5e68794ed9",
   "metadata": {},
   "source": [
    "### Subtraction"
   ]
  },
  {
   "cell_type": "code",
   "execution_count": 74,
   "id": "74412c5b-a75f-474b-a4a6-3598479a61c7",
   "metadata": {},
   "outputs": [
    {
     "name": "stdout",
     "output_type": "stream",
     "text": [
      "[[9 4 9]\n",
      " [9 1 6]]\n",
      "---------------\n",
      "[[8 3 8]\n",
      " [8 0 5]]\n"
     ]
    }
   ],
   "source": [
    "np.random.seed(3)\n",
    "arr1 = np.random.randint(1,10,(2,3))\n",
    "print(arr1)\n",
    "print(\"-\"*15)\n",
    "print(arr1 - 1)\n",
    "\n"
   ]
  },
  {
   "cell_type": "markdown",
   "id": "6386cb11-3e3c-4b77-90d0-dc15fdf7277b",
   "metadata": {},
   "source": [
    "### Multiplication"
   ]
  },
  {
   "cell_type": "code",
   "execution_count": 76,
   "id": "48aa70a5-136b-4b84-81ad-29e6454b133d",
   "metadata": {},
   "outputs": [
    {
     "name": "stdout",
     "output_type": "stream",
     "text": [
      "[[9 4 9]\n",
      " [9 1 6]]\n",
      "---------------\n",
      "[[18  8 18]\n",
      " [18  2 12]]\n"
     ]
    }
   ],
   "source": [
    "np.random.seed(3)\n",
    "arr1 = np.random.randint(1,10,(2,3))\n",
    "print(arr1)\n",
    "print(\"-\"*15)\n",
    "print(arr1 * 2)"
   ]
  },
  {
   "cell_type": "markdown",
   "id": "0e88eb0a-4ef4-40e3-9928-db57cac31b21",
   "metadata": {},
   "source": [
    "### Division"
   ]
  },
  {
   "cell_type": "code",
   "execution_count": 78,
   "id": "707656fd-da69-4af9-b758-60d6758e54ec",
   "metadata": {},
   "outputs": [
    {
     "name": "stdout",
     "output_type": "stream",
     "text": [
      "[[9 4 9]\n",
      " [9 1 6]]\n",
      "---------------\n",
      "Quotient division\n",
      "[[4 2 4]\n",
      " [4 0 3]]\n",
      "---------------\n",
      "Division\n",
      "[[4.5 2.  4.5]\n",
      " [4.5 0.5 3. ]]\n",
      "Modulus Division\n",
      "[[1 0 1]\n",
      " [1 1 0]]\n"
     ]
    }
   ],
   "source": [
    "np.random.seed(3)\n",
    "arr1 = np.random.randint(1,10,(2,3))\n",
    "print(arr1)\n",
    "print(\"-\"*15)\n",
    "print(\"Quotient division\")\n",
    "print(arr1 // 2)\n",
    "print(\"-\"*15)\n",
    "print(\"Division\")\n",
    "print(arr1 / 2)\n",
    "print(\"Modulus Division\")\n",
    "print(arr1 % 2)"
   ]
  },
  {
   "cell_type": "markdown",
   "id": "979f1c22-c853-44c1-a6a4-9586bfaea2e8",
   "metadata": {},
   "source": [
    "### Matrix multiplication"
   ]
  },
  {
   "cell_type": "code",
   "execution_count": 80,
   "id": "131213da-7872-4345-b49f-d9f0bd659fb3",
   "metadata": {},
   "outputs": [
    {
     "name": "stdout",
     "output_type": "stream",
     "text": [
      "[[9 4 9]\n",
      " [9 1 6]]\n",
      "---------------\n",
      "[[4 6]\n",
      " [8 7]\n",
      " [1 5]]\n"
     ]
    }
   ],
   "source": [
    "np.random.seed(3)\n",
    "arr1 = np.random.randint(1,10,(2,3))\n",
    "print(arr1)\n",
    "print(\"-\"*15)\n",
    "arr2 = np.random.randint(1,10,(3,2))\n",
    "print(arr2)\n",
    "\n"
   ]
  },
  {
   "cell_type": "code",
   "execution_count": 109,
   "id": "7c2bc9b6-ef68-4aa0-8823-bf470bf3eb93",
   "metadata": {},
   "outputs": [
    {
     "name": "stdout",
     "output_type": "stream",
     "text": [
      "Dot multiplication\n"
     ]
    },
    {
     "data": {
      "text/plain": [
       "array([[ 77, 127],\n",
       "       [ 50,  91]])"
      ]
     },
     "execution_count": 109,
     "metadata": {},
     "output_type": "execute_result"
    }
   ],
   "source": [
    "print(\"Dot multiplication\")\n",
    "arr1.dot(arr2)\n"
   ]
  },
  {
   "cell_type": "code",
   "execution_count": 111,
   "id": "d4a04ef0-3c65-4d2c-a4c8-09ffc0e8bca6",
   "metadata": {},
   "outputs": [
    {
     "data": {
      "text/plain": [
       "array([[ 90,  22,  72],\n",
       "       [135,  39, 114],\n",
       "       [ 54,   9,  39]])"
      ]
     },
     "execution_count": 111,
     "metadata": {},
     "output_type": "execute_result"
    }
   ],
   "source": [
    "arr2.dot(arr1)"
   ]
  },
  {
   "cell_type": "markdown",
   "id": "b395ff82-fa6f-47b7-895d-f225fa811712",
   "metadata": {},
   "source": [
    "### Power/Exponential"
   ]
  },
  {
   "cell_type": "code",
   "execution_count": 114,
   "id": "614e7a17-9cde-4dc4-a466-b6da6c6406ce",
   "metadata": {},
   "outputs": [
    {
     "name": "stdout",
     "output_type": "stream",
     "text": [
      "[[9 4 9 9 1]\n",
      " [6 4 6 8 7]\n",
      " [1 5 8 9 2]]\n",
      "--------------------\n",
      "[[81 16 81 81  1]\n",
      " [36 16 36 64 49]\n",
      " [ 1 25 64 81  4]]\n"
     ]
    }
   ],
   "source": [
    "print(arr)\n",
    "print(\"-\"*20)\n",
    "print(arr ** 2)"
   ]
  },
  {
   "cell_type": "markdown",
   "id": "0378c8ad-a34a-41e1-8e16-9a50fd8177bd",
   "metadata": {},
   "source": [
    "# 22 Percentile functions"
   ]
  },
  {
   "cell_type": "code",
   "execution_count": 127,
   "id": "be87c372-7584-425b-bc10-1fb8dd3e90ee",
   "metadata": {},
   "outputs": [
    {
     "name": "stdout",
     "output_type": "stream",
     "text": [
      "[[1 4 9 9 9]\n",
      " [4 6 6 7 8]\n",
      " [1 2 5 8 9]]\n",
      "6.0\n"
     ]
    }
   ],
   "source": [
    "np.random.seed(3)\n",
    "arr1 = np.random.randint(1,10,(2,3))\n",
    "arr = np.sort(arr)\n",
    "print(arr)\n",
    "\n",
    "print(np.percentile(arr, 50))"
   ]
  },
  {
   "cell_type": "markdown",
   "id": "9745ecdb-0326-47ef-a4cf-028cfb009515",
   "metadata": {},
   "source": [
    "# 23 Mean , variance and standard deviation"
   ]
  },
  {
   "cell_type": "code",
   "execution_count": 140,
   "id": "bee506ed-cf91-4e45-b4c9-ac8041b72804",
   "metadata": {},
   "outputs": [
    {
     "name": "stdout",
     "output_type": "stream",
     "text": [
      "Mean = 5.866666666666666\n",
      "Variance = 7.982222222222222\n",
      "Standard deviation= 2.825282680055612\n"
     ]
    }
   ],
   "source": [
    "np.random.seed(3)\n",
    "arr1 = np.random.randint(1,10,(2,3))\n",
    "print(\"Mean =\",np.mean(arr))\n",
    "print(\"Variance =\",np.var(arr))\n",
    "print(\"Standard deviation=\",np.std(arr))"
   ]
  },
  {
   "cell_type": "markdown",
   "id": "d528a9a2-f502-4339-b2f2-cf8c5d8c5af1",
   "metadata": {},
   "source": [
    "# 24 Filtering a numpy array"
   ]
  },
  {
   "cell_type": "code",
   "execution_count": 167,
   "id": "582b4ed2-2383-44bc-97d9-11d9ad1c0f87",
   "metadata": {},
   "outputs": [
    {
     "name": "stdout",
     "output_type": "stream",
     "text": [
      "[ 1  2  3  4  5  6  7  8  9 10 11 12 13 14 15 16 17 18 19]\n",
      "[False False False False False False False False False False  True  True\n",
      "  True  True  True  True  True  True  True]\n",
      "[11 12 13 14 15 16 17 18 19]\n",
      "[ True  True  True  True  True  True  True  True  True False False False\n",
      " False False False False False False False]\n",
      "[1 2 3 4 5 6 7 8 9]\n"
     ]
    }
   ],
   "source": [
    "arr = np.arange(1,20)\n",
    "print(arr)\n",
    "print(arr>10)\n",
    "print(arr[arr>10])  # passing the condition to the array to print the values\n",
    "print(arr<10)\n",
    "print(arr[arr<10])"
   ]
  },
  {
   "cell_type": "markdown",
   "id": "7e08eba1-f76d-428c-9c94-a0cdc4a2430b",
   "metadata": {},
   "source": [
    "##### If we want to store this filtered array we can do that "
   ]
  },
  {
   "cell_type": "code",
   "execution_count": 170,
   "id": "dd05d0f4-5e69-43d0-b2c7-c198a3eaae50",
   "metadata": {},
   "outputs": [
    {
     "name": "stdout",
     "output_type": "stream",
     "text": [
      "[11 12 13 14 15 16 17 18 19]\n"
     ]
    }
   ],
   "source": [
    "arr1 = arr[arr>10]\n",
    "print(arr1)"
   ]
  },
  {
   "cell_type": "markdown",
   "id": "e250259e-49a8-4bab-aa5e-5896a2933747",
   "metadata": {},
   "source": [
    "##### If we want to replace the values above 5 with 10 we can even do that"
   ]
  },
  {
   "cell_type": "code",
   "execution_count": 173,
   "id": "7796fb1a-e5c6-4e02-836b-9762b9bb7a67",
   "metadata": {},
   "outputs": [
    {
     "name": "stdout",
     "output_type": "stream",
     "text": [
      "[ 1  2  3  4  5 10 10 10 10 10 10 10 10 10 10 10 10 10 10]\n"
     ]
    }
   ],
   "source": [
    "arr[arr>5] = 10\n",
    "print(arr)"
   ]
  },
  {
   "cell_type": "markdown",
   "id": "7c35786e-b828-49fb-b00e-9ef864a77ad3",
   "metadata": {},
   "source": [
    "# 25 Transposing array"
   ]
  },
  {
   "cell_type": "code",
   "execution_count": 182,
   "id": "4e6566ef-e1d2-4694-9434-6ed35faf4b1d",
   "metadata": {},
   "outputs": [
    {
     "name": "stdout",
     "output_type": "stream",
     "text": [
      "[[9 4 9 9 1]\n",
      " [6 4 6 8 7]\n",
      " [1 5 8 9 2]]\n",
      "---------------\n",
      "[[9 6 1]\n",
      " [4 4 5]\n",
      " [9 6 8]\n",
      " [9 8 9]\n",
      " [1 7 2]]\n"
     ]
    }
   ],
   "source": [
    "np.random.seed(3)\n",
    "arr1 = np.random.randint(1,10,(3,5))\n",
    "print(arr1)\n",
    "print(\"-\"*15)\n",
    "print(arr1.T)"
   ]
  },
  {
   "cell_type": "markdown",
   "id": "3a426339-0095-439d-87ce-c32d7d89c0c4",
   "metadata": {},
   "source": [
    "# 26 Where function"
   ]
  },
  {
   "cell_type": "code",
   "execution_count": 185,
   "id": "d14384b3-c2b5-427d-9a3d-66961d613661",
   "metadata": {},
   "outputs": [
    {
     "data": {
      "text/plain": [
       "array([25,  4, 57, 73,  1, 22, 20, 75, 42, 11])"
      ]
     },
     "execution_count": 185,
     "metadata": {},
     "output_type": "execute_result"
    }
   ],
   "source": [
    "np.random.seed(3)\n",
    "arr1 = np.random.randint(1,100,10)\n",
    "arr1"
   ]
  },
  {
   "cell_type": "markdown",
   "id": "dc2e7c60-43c2-4f92-9fd4-56a1968133b3",
   "metadata": {},
   "source": [
    "##### so we are having an even number lets convert  it into 100  and the ones are odd leave as it is "
   ]
  },
  {
   "cell_type": "code",
   "execution_count": 217,
   "id": "725c66a9-56fb-4461-af78-bb89008bc5d5",
   "metadata": {},
   "outputs": [
    {
     "name": "stdout",
     "output_type": "stream",
     "text": [
      "[25  4 57 73  1 22 20 75 42 11]\n",
      "[100   4 100 100 100  22  20 100  42 100]\n",
      "['25' 'even' '57' '73' '1' 'even' 'even' '75' 'even' '11']\n",
      "['odd' '4' 'odd' 'odd' 'odd' '22' '20' 'odd' '42' 'odd']\n",
      "['odd' 'even' 'odd' 'odd' 'odd' 'even' 'even' 'odd' 'even' 'odd']\n"
     ]
    }
   ],
   "source": [
    "print(arr1)\n",
    "print(np.where((arr1%2!=0),100,arr1))\n",
    "print(np.where((arr1%2==0),\"even\",arr1))\n",
    "print(np.where((arr1%2!=0),\"odd\",arr1))\n",
    "arr2 = np.where((arr1%2==0),\"even\",arr1)\n",
    "arr2 = np.where((arr1%2!=0),\"odd\",arr2)\n",
    "print(arr2)\n"
   ]
  },
  {
   "cell_type": "markdown",
   "id": "9e955f71-7931-440a-bbf8-68c988f331f2",
   "metadata": {},
   "source": [
    "# 27 Merging array"
   ]
  },
  {
   "cell_type": "markdown",
   "id": "8fafa030-bba3-48ad-b130-0b48a5ec72d9",
   "metadata": {},
   "source": [
    "### Concatnate function"
   ]
  },
  {
   "cell_type": "code",
   "execution_count": 255,
   "id": "e4264c5c-1867-4d7d-b0dd-de942de07457",
   "metadata": {},
   "outputs": [
    {
     "name": "stdout",
     "output_type": "stream",
     "text": [
      "[[ 4 18 11  3]\n",
      " [ 2 15 15 19]]\n",
      "[[13  5 18  4]\n",
      " [ 3 13 18 11]]\n",
      "***************\n",
      "[[ 4 18 11  3]\n",
      " [ 2 15 15 19]\n",
      " [13  5 18  4]\n",
      " [ 3 13 18 11]]\n",
      "***************\n",
      "[[ 4 18 11  3 13  5 18  4]\n",
      " [ 2 15 15 19  3 13 18 11]]\n"
     ]
    }
   ],
   "source": [
    "arr1 = np.random.randint(1,20,(2,4))\n",
    "arr2 = np.random.randint(1,20,(2,4))\n",
    "print(arr1)\n",
    "print(arr2)\n",
    "print(\"*\"*15)\n",
    "arr3 = np.concatenate((arr1,arr2), axis = 0)\n",
    "print(arr3)\n",
    "print(\"*\"*15)\n",
    "arr4 = np.concatenate((arr1,arr2), axis = 1)\n",
    "print(arr4)"
   ]
  },
  {
   "cell_type": "markdown",
   "id": "0efa9341-e1bf-41c0-86f1-2896e582059c",
   "metadata": {},
   "source": [
    "### Vstack & Hstack"
   ]
  },
  {
   "cell_type": "code",
   "execution_count": 250,
   "id": "60f23c5e-9fea-45e7-aa2c-02d6ad7a8279",
   "metadata": {},
   "outputs": [
    {
     "name": "stdout",
     "output_type": "stream",
     "text": [
      "[[16 15 12  6]\n",
      " [16 17  3  2]]\n",
      "[[ 7 19 19 13]\n",
      " [18  5  8 11]]\n",
      "***************\n",
      "[[16 15 12  6  7 19 19 13]\n",
      " [16 17  3  2 18  5  8 11]]\n",
      "***************\n",
      "[[16 15 12  6]\n",
      " [16 17  3  2]\n",
      " [ 7 19 19 13]\n",
      " [18  5  8 11]]\n"
     ]
    }
   ],
   "source": [
    "arr1 = np.random.randint(1,20,(2,4))\n",
    "arr2 = np.random.randint(1,20,(2,4))\n",
    "print(arr1)\n",
    "print(arr2)\n",
    "print(\"*\"*15)\n",
    "print(np.hstack((arr1,arr2))) # horizontal or row wise\n",
    "print(\"*\"*15)\n",
    "print(np.vstack((arr1,arr2))) # vertical or column wise"
   ]
  },
  {
   "cell_type": "markdown",
   "id": "8d6c49ca-5f1a-49b4-8062-e1ab0c349eb6",
   "metadata": {},
   "source": [
    "# 28 Splitting array"
   ]
  },
  {
   "cell_type": "code",
   "execution_count": 261,
   "id": "df43c1af-2462-4896-a361-47312f95dba6",
   "metadata": {},
   "outputs": [
    {
     "name": "stdout",
     "output_type": "stream",
     "text": [
      "[[7 1 2 1]\n",
      " [5 7 6 7]\n",
      " [5 8 1 5]\n",
      " [3 9 9 3]]\n",
      "[array([[7, 1, 2, 1],\n",
      "       [5, 7, 6, 7]]), array([[5, 8, 1, 5],\n",
      "       [3, 9, 9, 3]])]\n"
     ]
    }
   ],
   "source": [
    "arr1 = np.random.randint(1,10,(4,4))\n",
    "print(arr1)"
   ]
  },
  {
   "cell_type": "code",
   "execution_count": 271,
   "id": "89b00173-8572-449e-95bb-d9ca59f43b8f",
   "metadata": {},
   "outputs": [
    {
     "data": {
      "text/plain": [
       "[array([[7, 1, 2, 1],\n",
       "        [5, 7, 6, 7]]),\n",
       " array([[5, 8, 1, 5],\n",
       "        [3, 9, 9, 3]])]"
      ]
     },
     "execution_count": 271,
     "metadata": {},
     "output_type": "execute_result"
    }
   ],
   "source": [
    "np.vsplit(arr1,2)"
   ]
  },
  {
   "cell_type": "code",
   "execution_count": 273,
   "id": "45b58cbd-8702-4beb-a4c8-ac7b7eb2a4b8",
   "metadata": {},
   "outputs": [
    {
     "data": {
      "text/plain": [
       "[array([[7, 1],\n",
       "        [5, 7],\n",
       "        [5, 8],\n",
       "        [3, 9]]),\n",
       " array([[2, 1],\n",
       "        [6, 7],\n",
       "        [1, 5],\n",
       "        [9, 3]])]"
      ]
     },
     "execution_count": 273,
     "metadata": {},
     "output_type": "execute_result"
    }
   ],
   "source": [
    "np.hsplit(arr1,2)"
   ]
  },
  {
   "cell_type": "markdown",
   "id": "74e93e89-7910-4969-b705-77b1d808b9f7",
   "metadata": {},
   "source": [
    "# 29 Turning a picture into array"
   ]
  },
  {
   "cell_type": "code",
   "execution_count": 4,
   "id": "a2df643e-ec89-4234-b980-e83bdfa24880",
   "metadata": {
    "scrolled": true
   },
   "outputs": [],
   "source": [
    "import numpy as np\n",
    "import matplotlib.pyplot as plt\n",
    "from matplotlib.image import imread"
   ]
  },
  {
   "cell_type": "code",
   "execution_count": 22,
   "id": "e03607f7-cf05-4f4c-8232-36c540468db2",
   "metadata": {},
   "outputs": [],
   "source": [
    "# for below picture    <img src = \"GfG.png\"> in markdown tab"
   ]
  },
  {
   "cell_type": "markdown",
   "id": "421cc52f-ddf8-40b0-8e5a-0025a3fe77d7",
   "metadata": {},
   "source": [
    "   <img src = \"GfG.png\">"
   ]
  },
  {
   "cell_type": "code",
   "execution_count": 25,
   "id": "86bcb963-e8b3-4764-9f5a-487dbb9878f9",
   "metadata": {},
   "outputs": [
    {
     "data": {
      "text/plain": [
       "(607, 1000, 3)"
      ]
     },
     "execution_count": 25,
     "metadata": {},
     "output_type": "execute_result"
    }
   ],
   "source": [
    "from matplotlib.image import imread\n",
    "img = imread('GFG.png')\n",
    "img.shape  # output ( pixels in height, pixels in widht , RGB channel)"
   ]
  },
  {
   "cell_type": "code",
   "execution_count": 27,
   "id": "27e46947-3b79-4c2b-90f3-0de6e3669c80",
   "metadata": {},
   "outputs": [
    {
     "data": {
      "text/plain": [
       "array([[[0.09803922, 0.74509805, 0.92941177],\n",
       "        [0.09803922, 0.74509805, 0.92941177],\n",
       "        [0.09803922, 0.74509805, 0.92941177],\n",
       "        ...,\n",
       "        [0.09803922, 0.74509805, 0.92941177],\n",
       "        [0.09803922, 0.74509805, 0.92941177],\n",
       "        [0.09803922, 0.74509805, 0.92941177]],\n",
       "\n",
       "       [[0.09803922, 0.74509805, 0.92941177],\n",
       "        [0.09803922, 0.74509805, 0.92941177],\n",
       "        [0.09803922, 0.74509805, 0.92941177],\n",
       "        ...,\n",
       "        [0.09803922, 0.74509805, 0.92941177],\n",
       "        [0.09803922, 0.74509805, 0.92941177],\n",
       "        [0.09803922, 0.74509805, 0.92941177]],\n",
       "\n",
       "       [[0.09803922, 0.74509805, 0.92941177],\n",
       "        [0.09803922, 0.74509805, 0.92941177],\n",
       "        [0.09803922, 0.74509805, 0.92941177],\n",
       "        ...,\n",
       "        [0.09803922, 0.74509805, 0.92941177],\n",
       "        [0.09803922, 0.74509805, 0.92941177],\n",
       "        [0.09803922, 0.74509805, 0.92941177]],\n",
       "\n",
       "       ...,\n",
       "\n",
       "       [[0.05882353, 0.6039216 , 0.75686276],\n",
       "        [0.05882353, 0.6039216 , 0.75686276],\n",
       "        [0.05882353, 0.6039216 , 0.75686276],\n",
       "        ...,\n",
       "        [0.05882353, 0.6039216 , 0.75686276],\n",
       "        [0.05882353, 0.6039216 , 0.75686276],\n",
       "        [0.05882353, 0.6039216 , 0.75686276]],\n",
       "\n",
       "       [[0.05882353, 0.6039216 , 0.75686276],\n",
       "        [0.05882353, 0.6039216 , 0.75686276],\n",
       "        [0.05882353, 0.6039216 , 0.75686276],\n",
       "        ...,\n",
       "        [0.05882353, 0.6039216 , 0.75686276],\n",
       "        [0.05882353, 0.6039216 , 0.75686276],\n",
       "        [0.05882353, 0.6039216 , 0.75686276]],\n",
       "\n",
       "       [[0.05882353, 0.6039216 , 0.75686276],\n",
       "        [0.05882353, 0.6039216 , 0.75686276],\n",
       "        [0.05882353, 0.6039216 , 0.75686276],\n",
       "        ...,\n",
       "        [0.05882353, 0.6039216 , 0.75686276],\n",
       "        [0.05882353, 0.6039216 , 0.75686276],\n",
       "        [0.05882353, 0.6039216 , 0.75686276]]], dtype=float32)"
      ]
     },
     "execution_count": 27,
     "metadata": {},
     "output_type": "execute_result"
    }
   ],
   "source": [
    "img"
   ]
  },
  {
   "cell_type": "code",
   "execution_count": 29,
   "id": "1146cdb0-6242-43a3-be7f-a6d79d269d8c",
   "metadata": {},
   "outputs": [
    {
     "data": {
      "text/plain": [
       "1.0"
      ]
     },
     "execution_count": 29,
     "metadata": {},
     "output_type": "execute_result"
    }
   ],
   "source": [
    "np.max(img)"
   ]
  },
  {
   "cell_type": "code",
   "execution_count": null,
   "id": "caa01298-a293-4329-967c-97bb5ae5a21e",
   "metadata": {},
   "outputs": [],
   "source": []
  },
  {
   "cell_type": "code",
   "execution_count": null,
   "id": "a76ac589-5844-41e4-8c55-2e00d933abe5",
   "metadata": {},
   "outputs": [],
   "source": []
  }
 ],
 "metadata": {
  "kernelspec": {
   "display_name": "Python 3 (ipykernel)",
   "language": "python",
   "name": "python3"
  },
  "language_info": {
   "codemirror_mode": {
    "name": "ipython",
    "version": 3
   },
   "file_extension": ".py",
   "mimetype": "text/x-python",
   "name": "python",
   "nbconvert_exporter": "python",
   "pygments_lexer": "ipython3",
   "version": "3.12.7"
  }
 },
 "nbformat": 4,
 "nbformat_minor": 5
}
